{
  "cells": [
    {
      "cell_type": "markdown",
      "metadata": {
        "id": "view-in-github",
        "colab_type": "text"
      },
      "source": [
        "<a href=\"https://colab.research.google.com/github/akcterp/Scaler_DataScience/blob/main/Numpy_3.ipynb\" target=\"_parent\"><img src=\"https://colab.research.google.com/assets/colab-badge.svg\" alt=\"Open In Colab\"/></a>"
      ]
    },
    {
      "cell_type": "code",
      "execution_count": null,
      "id": "7164a3ae",
      "metadata": {
        "id": "7164a3ae"
      },
      "outputs": [],
      "source": [
        "#Concatenate"
      ]
    },
    {
      "cell_type": "code",
      "execution_count": null,
      "id": "bf883ecd",
      "metadata": {
        "id": "bf883ecd"
      },
      "outputs": [],
      "source": [
        "import numpy as np"
      ]
    },
    {
      "cell_type": "code",
      "execution_count": null,
      "id": "3a500256",
      "metadata": {
        "id": "3a500256",
        "outputId": "56ff2e9a-a866-4052-f602-17ead800de8e"
      },
      "outputs": [
        {
          "name": "stdout",
          "output_type": "stream",
          "text": [
            "[1 2 3 4]\n",
            "[1 2 3 4]\n"
          ]
        }
      ],
      "source": [
        "#1D array\n",
        "\n",
        "d=np.arange(1,5)\n",
        "e=np.arange(1,5)\n",
        "\n",
        "print(d)\n",
        "print(e)"
      ]
    },
    {
      "cell_type": "code",
      "execution_count": null,
      "id": "f28e5c4e",
      "metadata": {
        "id": "f28e5c4e",
        "outputId": "0591f71e-754f-4fc6-cc81-41f4ac197ae0"
      },
      "outputs": [
        {
          "name": "stdout",
          "output_type": "stream",
          "text": [
            "(4,)\n",
            "1\n"
          ]
        }
      ],
      "source": [
        "print(d.shape)\n",
        "print(d.ndim)"
      ]
    },
    {
      "cell_type": "code",
      "execution_count": null,
      "id": "a5ba3a3d",
      "metadata": {
        "id": "a5ba3a3d",
        "outputId": "1340c870-6180-4a54-dc6c-8c13aeaebed8"
      },
      "outputs": [
        {
          "data": {
            "text/plain": [
              "array([1, 2, 3, 4, 1, 2, 3, 4])"
            ]
          },
          "execution_count": 6,
          "metadata": {},
          "output_type": "execute_result"
        }
      ],
      "source": [
        "np.concatenate([d,e])"
      ]
    },
    {
      "cell_type": "code",
      "execution_count": null,
      "id": "ce4c08da",
      "metadata": {
        "id": "ce4c08da",
        "outputId": "bd78971f-0fa7-42cf-f87a-bb158fd6770c"
      },
      "outputs": [
        {
          "ename": "AxisError",
          "evalue": "axis 1 is out of bounds for array of dimension 1",
          "output_type": "error",
          "traceback": [
            "\u001b[0;31m---------------------------------------------------------------------------\u001b[0m",
            "\u001b[0;31mAxisError\u001b[0m                                 Traceback (most recent call last)",
            "\u001b[0;32m/var/folders/hd/9z4dczb56dj54lb7q8w7s4zw0000gn/T/ipykernel_75109/1668449446.py\u001b[0m in \u001b[0;36m<module>\u001b[0;34m\u001b[0m\n\u001b[0;32m----> 1\u001b[0;31m \u001b[0mnp\u001b[0m\u001b[0;34m.\u001b[0m\u001b[0mconcatenate\u001b[0m\u001b[0;34m(\u001b[0m\u001b[0;34m[\u001b[0m\u001b[0md\u001b[0m\u001b[0;34m,\u001b[0m\u001b[0me\u001b[0m\u001b[0;34m]\u001b[0m\u001b[0;34m,\u001b[0m\u001b[0maxis\u001b[0m\u001b[0;34m=\u001b[0m\u001b[0;36m1\u001b[0m\u001b[0;34m)\u001b[0m\u001b[0;34m\u001b[0m\u001b[0;34m\u001b[0m\u001b[0m\n\u001b[0m",
            "\u001b[0;32m<__array_function__ internals>\u001b[0m in \u001b[0;36mconcatenate\u001b[0;34m(*args, **kwargs)\u001b[0m\n",
            "\u001b[0;31mAxisError\u001b[0m: axis 1 is out of bounds for array of dimension 1"
          ]
        }
      ],
      "source": [
        "np.concatenate([d,e],axis=1)"
      ]
    },
    {
      "cell_type": "code",
      "execution_count": null,
      "id": "40640597",
      "metadata": {
        "id": "40640597",
        "outputId": "d4704564-11a1-41a2-9f10-d7e6647d5b71"
      },
      "outputs": [
        {
          "data": {
            "text/plain": [
              "array([1, 2, 3, 4, 1, 2, 3, 4])"
            ]
          },
          "execution_count": 8,
          "metadata": {},
          "output_type": "execute_result"
        }
      ],
      "source": [
        "np.concatenate([d,e],axis=0)"
      ]
    },
    {
      "cell_type": "code",
      "execution_count": null,
      "id": "27ac8171",
      "metadata": {
        "id": "27ac8171"
      },
      "outputs": [],
      "source": [
        ""
      ]
    },
    {
      "cell_type": "code",
      "execution_count": null,
      "id": "f02f9ea7",
      "metadata": {
        "id": "f02f9ea7",
        "outputId": "42acb121-d2c1-42a2-ff37-c3081aff81a3"
      },
      "outputs": [
        {
          "name": "stdout",
          "output_type": "stream",
          "text": [
            "[[1 2 3 4]]\n",
            "(1, 4)\n",
            "2\n",
            "[[1 2 3 4]]\n",
            "(1, 4)\n",
            "2\n"
          ]
        }
      ],
      "source": [
        "#2D arrays\n",
        "d=np.arange(1,5).reshape((1,4))\n",
        "e=np.arange(1,5).reshape((1,4))\n",
        "\n",
        "print(d)\n",
        "\n",
        "print(d.shape)\n",
        "print(d.ndim)\n",
        "\n",
        "print(e)\n",
        "\n",
        "print(e.shape)\n",
        "print(e.ndim)"
      ]
    },
    {
      "cell_type": "code",
      "execution_count": null,
      "id": "69564eb0",
      "metadata": {
        "id": "69564eb0",
        "outputId": "2e600383-0ac2-4444-ea86-c95195b1ef93"
      },
      "outputs": [
        {
          "data": {
            "text/plain": [
              "array([[1, 2, 3, 4],\n",
              "       [1, 2, 3, 4]])"
            ]
          },
          "execution_count": 10,
          "metadata": {},
          "output_type": "execute_result"
        }
      ],
      "source": [
        "# default axis=0\n",
        "np.concatenate([d,e])"
      ]
    },
    {
      "cell_type": "code",
      "execution_count": null,
      "id": "06860c31",
      "metadata": {
        "id": "06860c31",
        "outputId": "eab9bb4c-fe81-4006-b734-64d938700ac5"
      },
      "outputs": [
        {
          "data": {
            "text/plain": [
              "array([[1, 2, 3, 4],\n",
              "       [1, 2, 3, 4]])"
            ]
          },
          "execution_count": 11,
          "metadata": {},
          "output_type": "execute_result"
        }
      ],
      "source": [
        "np.concatenate([d,e],axis=0)"
      ]
    },
    {
      "cell_type": "code",
      "execution_count": null,
      "id": "29e35e61",
      "metadata": {
        "id": "29e35e61",
        "outputId": "41e348ca-08f7-44d9-c48b-fc08905a29e5"
      },
      "outputs": [
        {
          "data": {
            "text/plain": [
              "array([[1, 2, 3, 4, 1, 2, 3, 4]])"
            ]
          },
          "execution_count": 12,
          "metadata": {},
          "output_type": "execute_result"
        }
      ],
      "source": [
        "np.concatenate([d,e],axis=1)"
      ]
    },
    {
      "cell_type": "code",
      "execution_count": null,
      "id": "d9660d91",
      "metadata": {
        "id": "d9660d91"
      },
      "outputs": [],
      "source": [
        "# 2D arrays with m rows and n columns\n",
        "d=np.arange(1,13).reshape((3,4))\n",
        "e=np.arange(1,13).reshape((3,4))"
      ]
    },
    {
      "cell_type": "code",
      "execution_count": null,
      "id": "db48736e",
      "metadata": {
        "id": "db48736e",
        "outputId": "4de0d6f2-2cde-4619-8897-4c162d00edf4"
      },
      "outputs": [
        {
          "data": {
            "text/plain": [
              "array([[ 1,  2,  3,  4],\n",
              "       [ 5,  6,  7,  8],\n",
              "       [ 9, 10, 11, 12],\n",
              "       [ 1,  2,  3,  4],\n",
              "       [ 5,  6,  7,  8],\n",
              "       [ 9, 10, 11, 12]])"
            ]
          },
          "execution_count": 14,
          "metadata": {},
          "output_type": "execute_result"
        }
      ],
      "source": [
        "np.concatenate([d,e])"
      ]
    },
    {
      "cell_type": "code",
      "execution_count": null,
      "id": "707a9528",
      "metadata": {
        "id": "707a9528",
        "outputId": "665c397f-e725-4745-87bc-10fbbfbea267"
      },
      "outputs": [
        {
          "data": {
            "text/plain": [
              "array([[ 1,  2,  3,  4],\n",
              "       [ 5,  6,  7,  8],\n",
              "       [ 9, 10, 11, 12],\n",
              "       [ 1,  2,  3,  4],\n",
              "       [ 5,  6,  7,  8],\n",
              "       [ 9, 10, 11, 12]])"
            ]
          },
          "execution_count": 15,
          "metadata": {},
          "output_type": "execute_result"
        }
      ],
      "source": [
        "np.concatenate([d,e],axis=0)"
      ]
    },
    {
      "cell_type": "code",
      "execution_count": null,
      "id": "6292bc10",
      "metadata": {
        "id": "6292bc10",
        "outputId": "77b7c035-c411-4bb8-ee2e-9eefe01941be"
      },
      "outputs": [
        {
          "data": {
            "text/plain": [
              "array([[ 1,  2,  3,  4,  1,  2,  3,  4],\n",
              "       [ 5,  6,  7,  8,  5,  6,  7,  8],\n",
              "       [ 9, 10, 11, 12,  9, 10, 11, 12]])"
            ]
          },
          "execution_count": 16,
          "metadata": {},
          "output_type": "execute_result"
        }
      ],
      "source": [
        "np.concatenate([d,e],axis=1)"
      ]
    },
    {
      "cell_type": "code",
      "execution_count": null,
      "id": "0be84d39",
      "metadata": {
        "id": "0be84d39"
      },
      "outputs": [],
      "source": [
        ""
      ]
    },
    {
      "cell_type": "code",
      "execution_count": null,
      "id": "52414888",
      "metadata": {
        "id": "52414888",
        "outputId": "d2b9dae1-2142-480c-c242-57da4a5bbba4"
      },
      "outputs": [
        {
          "name": "stdout",
          "output_type": "stream",
          "text": [
            "[[ 1  2  3  4]\n",
            " [ 5  6  7  8]\n",
            " [ 9 10 11 12]]\n",
            "(3, 4)\n",
            "2\n",
            "--------------------------------------------------\n",
            "[[1 2 3 4]]\n",
            "(1, 4)\n",
            "2\n"
          ]
        }
      ],
      "source": [
        "d=np.arange(1,13).reshape((3,4))\n",
        "e=np.arange(1,5).reshape((1,4))\n",
        "print(d)\n",
        "\n",
        "print(d.shape)\n",
        "print(d.ndim)\n",
        "print(\"-\"*50)\n",
        "print(e)\n",
        "\n",
        "print(e.shape)\n",
        "print(e.ndim)"
      ]
    },
    {
      "cell_type": "code",
      "execution_count": null,
      "id": "6b0f9475",
      "metadata": {
        "id": "6b0f9475",
        "outputId": "450fb6ca-8b0c-40a9-a996-39e5a08f09b7"
      },
      "outputs": [
        {
          "data": {
            "text/plain": [
              "array([[ 1,  2,  3,  4],\n",
              "       [ 5,  6,  7,  8],\n",
              "       [ 9, 10, 11, 12],\n",
              "       [ 1,  2,  3,  4]])"
            ]
          },
          "execution_count": 18,
          "metadata": {},
          "output_type": "execute_result"
        }
      ],
      "source": [
        "np.concatenate([d,e])"
      ]
    },
    {
      "cell_type": "code",
      "execution_count": null,
      "id": "d24d6e83",
      "metadata": {
        "id": "d24d6e83",
        "outputId": "438eb2e2-21c1-42c2-dcf2-87ba23706768"
      },
      "outputs": [
        {
          "ename": "ValueError",
          "evalue": "all the input array dimensions for the concatenation axis must match exactly, but along dimension 0, the array at index 0 has size 3 and the array at index 1 has size 1",
          "output_type": "error",
          "traceback": [
            "\u001b[0;31m---------------------------------------------------------------------------\u001b[0m",
            "\u001b[0;31mValueError\u001b[0m                                Traceback (most recent call last)",
            "\u001b[0;32m/var/folders/hd/9z4dczb56dj54lb7q8w7s4zw0000gn/T/ipykernel_75109/1668449446.py\u001b[0m in \u001b[0;36m<module>\u001b[0;34m\u001b[0m\n\u001b[0;32m----> 1\u001b[0;31m \u001b[0mnp\u001b[0m\u001b[0;34m.\u001b[0m\u001b[0mconcatenate\u001b[0m\u001b[0;34m(\u001b[0m\u001b[0;34m[\u001b[0m\u001b[0md\u001b[0m\u001b[0;34m,\u001b[0m\u001b[0me\u001b[0m\u001b[0;34m]\u001b[0m\u001b[0;34m,\u001b[0m\u001b[0maxis\u001b[0m\u001b[0;34m=\u001b[0m\u001b[0;36m1\u001b[0m\u001b[0;34m)\u001b[0m\u001b[0;34m\u001b[0m\u001b[0;34m\u001b[0m\u001b[0m\n\u001b[0m",
            "\u001b[0;32m<__array_function__ internals>\u001b[0m in \u001b[0;36mconcatenate\u001b[0;34m(*args, **kwargs)\u001b[0m\n",
            "\u001b[0;31mValueError\u001b[0m: all the input array dimensions for the concatenation axis must match exactly, but along dimension 0, the array at index 0 has size 3 and the array at index 1 has size 1"
          ]
        }
      ],
      "source": [
        "np.concatenate([d,e],axis=1)"
      ]
    },
    {
      "cell_type": "code",
      "execution_count": null,
      "id": "16e3ff52",
      "metadata": {
        "id": "16e3ff52",
        "outputId": "b43a61ee-59cc-4c3d-a60d-2a22e49ee43c"
      },
      "outputs": [
        {
          "name": "stdout",
          "output_type": "stream",
          "text": [
            "[[ 1  2  3  4]\n",
            " [ 5  6  7  8]\n",
            " [ 9 10 11 12]]\n",
            "(3, 4)\n",
            "2\n",
            "--------------------------------------------------\n",
            "[1 2 3 4]\n",
            "(4,)\n",
            "1\n"
          ]
        }
      ],
      "source": [
        "d=np.arange(1,13).reshape((3,4))\n",
        "e=np.arange(1,5)\n",
        "print(d)\n",
        "\n",
        "print(d.shape)\n",
        "print(d.ndim)\n",
        "print(\"-\"*50)\n",
        "print(e)\n",
        "\n",
        "print(e.shape)\n",
        "print(e.ndim)"
      ]
    },
    {
      "cell_type": "code",
      "execution_count": null,
      "id": "400dfd54",
      "metadata": {
        "id": "400dfd54",
        "outputId": "be2f3f84-5f09-4bbf-b545-606448f310b9"
      },
      "outputs": [
        {
          "ename": "ValueError",
          "evalue": "all the input arrays must have same number of dimensions, but the array at index 0 has 2 dimension(s) and the array at index 1 has 1 dimension(s)",
          "output_type": "error",
          "traceback": [
            "\u001b[0;31m---------------------------------------------------------------------------\u001b[0m",
            "\u001b[0;31mValueError\u001b[0m                                Traceback (most recent call last)",
            "\u001b[0;32m/var/folders/hd/9z4dczb56dj54lb7q8w7s4zw0000gn/T/ipykernel_75109/236814901.py\u001b[0m in \u001b[0;36m<module>\u001b[0;34m\u001b[0m\n\u001b[0;32m----> 1\u001b[0;31m \u001b[0mnp\u001b[0m\u001b[0;34m.\u001b[0m\u001b[0mconcatenate\u001b[0m\u001b[0;34m(\u001b[0m\u001b[0;34m[\u001b[0m\u001b[0md\u001b[0m\u001b[0;34m,\u001b[0m\u001b[0me\u001b[0m\u001b[0;34m]\u001b[0m\u001b[0;34m,\u001b[0m\u001b[0maxis\u001b[0m\u001b[0;34m=\u001b[0m\u001b[0;36m0\u001b[0m\u001b[0;34m)\u001b[0m\u001b[0;34m\u001b[0m\u001b[0;34m\u001b[0m\u001b[0m\n\u001b[0m",
            "\u001b[0;32m<__array_function__ internals>\u001b[0m in \u001b[0;36mconcatenate\u001b[0;34m(*args, **kwargs)\u001b[0m\n",
            "\u001b[0;31mValueError\u001b[0m: all the input arrays must have same number of dimensions, but the array at index 0 has 2 dimension(s) and the array at index 1 has 1 dimension(s)"
          ]
        }
      ],
      "source": [
        "np.concatenate([d,e],axis=0)"
      ]
    },
    {
      "cell_type": "code",
      "execution_count": null,
      "id": "d66f59b2",
      "metadata": {
        "id": "d66f59b2",
        "outputId": "475339d7-f570-402d-b20e-032b9f9c6d01"
      },
      "outputs": [
        {
          "ename": "ValueError",
          "evalue": "all the input arrays must have same number of dimensions, but the array at index 0 has 2 dimension(s) and the array at index 1 has 1 dimension(s)",
          "output_type": "error",
          "traceback": [
            "\u001b[0;31m---------------------------------------------------------------------------\u001b[0m",
            "\u001b[0;31mValueError\u001b[0m                                Traceback (most recent call last)",
            "\u001b[0;32m/var/folders/hd/9z4dczb56dj54lb7q8w7s4zw0000gn/T/ipykernel_75109/1668449446.py\u001b[0m in \u001b[0;36m<module>\u001b[0;34m\u001b[0m\n\u001b[0;32m----> 1\u001b[0;31m \u001b[0mnp\u001b[0m\u001b[0;34m.\u001b[0m\u001b[0mconcatenate\u001b[0m\u001b[0;34m(\u001b[0m\u001b[0;34m[\u001b[0m\u001b[0md\u001b[0m\u001b[0;34m,\u001b[0m\u001b[0me\u001b[0m\u001b[0;34m]\u001b[0m\u001b[0;34m,\u001b[0m\u001b[0maxis\u001b[0m\u001b[0;34m=\u001b[0m\u001b[0;36m1\u001b[0m\u001b[0;34m)\u001b[0m\u001b[0;34m\u001b[0m\u001b[0;34m\u001b[0m\u001b[0m\n\u001b[0m",
            "\u001b[0;32m<__array_function__ internals>\u001b[0m in \u001b[0;36mconcatenate\u001b[0;34m(*args, **kwargs)\u001b[0m\n",
            "\u001b[0;31mValueError\u001b[0m: all the input arrays must have same number of dimensions, but the array at index 0 has 2 dimension(s) and the array at index 1 has 1 dimension(s)"
          ]
        }
      ],
      "source": [
        "np.concatenate([d,e],axis=1)"
      ]
    },
    {
      "cell_type": "code",
      "execution_count": null,
      "id": "b47d5168",
      "metadata": {
        "id": "b47d5168"
      },
      "outputs": [],
      "source": [
        "d=np.arange(1,13).reshape((3,4))\n",
        "e=np.arange(1,5).reshape((1,4))\n",
        "print(d)\n",
        "\n",
        "print(d.shape)\n",
        "print(d.ndim)\n",
        "print(\"-\"*50)\n",
        "print(e)\n",
        "\n",
        "print(e.shape)\n",
        "print(e.ndim)"
      ]
    },
    {
      "cell_type": "code",
      "execution_count": null,
      "id": "bf5d5c99",
      "metadata": {
        "id": "bf5d5c99",
        "outputId": "9a0ef41b-c040-4740-83c9-d28bb95b46de"
      },
      "outputs": [
        {
          "name": "stdout",
          "output_type": "stream",
          "text": [
            "[[ 1  2  3]\n",
            " [ 4  5  6]\n",
            " [ 7  8  9]\n",
            " [10 11 12]]\n",
            "(4, 3)\n",
            "2\n",
            "--------------------------------------------------\n",
            "[[1]\n",
            " [2]\n",
            " [3]\n",
            " [4]]\n",
            "(4, 1)\n",
            "2\n"
          ]
        }
      ],
      "source": [
        "d=np.arange(1,13).reshape((4,3))\n",
        "e=np.arange(1,5).reshape((4,1))\n",
        "print(d)\n",
        "\n",
        "print(d.shape)\n",
        "print(d.ndim)\n",
        "print(\"-\"*50)\n",
        "print(e)\n",
        "\n",
        "print(e.shape)\n",
        "print(e.ndim)"
      ]
    },
    {
      "cell_type": "code",
      "execution_count": null,
      "id": "84071a1a",
      "metadata": {
        "id": "84071a1a",
        "outputId": "0d7f5cbd-c06f-4574-8e74-ea42a8eac8eb"
      },
      "outputs": [
        {
          "ename": "ValueError",
          "evalue": "all the input array dimensions for the concatenation axis must match exactly, but along dimension 1, the array at index 0 has size 3 and the array at index 1 has size 1",
          "output_type": "error",
          "traceback": [
            "\u001b[0;31m---------------------------------------------------------------------------\u001b[0m",
            "\u001b[0;31mValueError\u001b[0m                                Traceback (most recent call last)",
            "\u001b[0;32m/var/folders/hd/9z4dczb56dj54lb7q8w7s4zw0000gn/T/ipykernel_75109/236814901.py\u001b[0m in \u001b[0;36m<module>\u001b[0;34m\u001b[0m\n\u001b[0;32m----> 1\u001b[0;31m \u001b[0mnp\u001b[0m\u001b[0;34m.\u001b[0m\u001b[0mconcatenate\u001b[0m\u001b[0;34m(\u001b[0m\u001b[0;34m[\u001b[0m\u001b[0md\u001b[0m\u001b[0;34m,\u001b[0m\u001b[0me\u001b[0m\u001b[0;34m]\u001b[0m\u001b[0;34m,\u001b[0m\u001b[0maxis\u001b[0m\u001b[0;34m=\u001b[0m\u001b[0;36m0\u001b[0m\u001b[0;34m)\u001b[0m\u001b[0;34m\u001b[0m\u001b[0;34m\u001b[0m\u001b[0m\n\u001b[0m",
            "\u001b[0;32m<__array_function__ internals>\u001b[0m in \u001b[0;36mconcatenate\u001b[0;34m(*args, **kwargs)\u001b[0m\n",
            "\u001b[0;31mValueError\u001b[0m: all the input array dimensions for the concatenation axis must match exactly, but along dimension 1, the array at index 0 has size 3 and the array at index 1 has size 1"
          ]
        }
      ],
      "source": [
        "np.concatenate([d,e],axis=0)"
      ]
    },
    {
      "cell_type": "code",
      "execution_count": null,
      "id": "978124d5",
      "metadata": {
        "id": "978124d5",
        "outputId": "f6f17259-ed3e-40fc-d920-9a9a95bb4b5a"
      },
      "outputs": [
        {
          "data": {
            "text/plain": [
              "array([[ 1,  2,  3,  1],\n",
              "       [ 4,  5,  6,  2],\n",
              "       [ 7,  8,  9,  3],\n",
              "       [10, 11, 12,  4]])"
            ]
          },
          "execution_count": 26,
          "metadata": {},
          "output_type": "execute_result"
        }
      ],
      "source": [
        "np.concatenate([d,e],axis=1)"
      ]
    },
    {
      "cell_type": "code",
      "execution_count": null,
      "id": "068c45e5",
      "metadata": {
        "id": "068c45e5"
      },
      "outputs": [],
      "source": [
        "# stacking"
      ]
    },
    {
      "cell_type": "code",
      "execution_count": null,
      "id": "9d691114",
      "metadata": {
        "id": "9d691114",
        "outputId": "a90090da-a703-497d-9ebf-696598586eee"
      },
      "outputs": [
        {
          "name": "stdout",
          "output_type": "stream",
          "text": [
            "[1 2 3 4]\n",
            "(4,)\n",
            "1\n",
            "--------------------------------------------------\n",
            "[1 2 3 4]\n",
            "(4,)\n",
            "1\n"
          ]
        }
      ],
      "source": [
        "d=np.arange(1,5)\n",
        "e=np.arange(1,5)\n",
        "print(d)\n",
        "print(d.shape)\n",
        "print(d.ndim)\n",
        "print(\"-\"*50)\n",
        "print(e)\n",
        "\n",
        "print(e.shape)\n",
        "print(e.ndim)"
      ]
    },
    {
      "cell_type": "code",
      "execution_count": null,
      "id": "31fa5a4a",
      "metadata": {
        "id": "31fa5a4a",
        "outputId": "87f1ba88-62fa-42df-dacf-72aad64f611c"
      },
      "outputs": [
        {
          "data": {
            "text/plain": [
              "array([1, 2, 3, 4, 1, 2, 3, 4])"
            ]
          },
          "execution_count": 29,
          "metadata": {},
          "output_type": "execute_result"
        }
      ],
      "source": [
        "np.hstack([d,e])"
      ]
    },
    {
      "cell_type": "code",
      "execution_count": null,
      "id": "48be318d",
      "metadata": {
        "id": "48be318d",
        "outputId": "45075dc3-812c-4803-d7cd-43cd503aea45"
      },
      "outputs": [
        {
          "data": {
            "text/plain": [
              "array([[1, 2, 3, 4],\n",
              "       [1, 2, 3, 4]])"
            ]
          },
          "execution_count": 30,
          "metadata": {},
          "output_type": "execute_result"
        }
      ],
      "source": [
        "np.vstack([d,e])"
      ]
    },
    {
      "cell_type": "code",
      "execution_count": null,
      "id": "940a99ab",
      "metadata": {
        "id": "940a99ab",
        "outputId": "ad3ac6b9-61ee-4b8c-e077-e046d530e413"
      },
      "outputs": [
        {
          "name": "stdout",
          "output_type": "stream",
          "text": [
            "[[1 2 3 4]]\n",
            "(1, 4)\n",
            "2\n",
            "--------------------------------------------------\n",
            "[[1 2 3 4]]\n",
            "(1, 4)\n",
            "2\n"
          ]
        }
      ],
      "source": [
        "d=np.arange(1,5).reshape((1,4))\n",
        "e=np.arange(1,5).reshape((1,4))\n",
        "print(d)\n",
        "print(d.shape)\n",
        "print(d.ndim)\n",
        "print(\"-\"*50)\n",
        "print(e)\n",
        "\n",
        "print(e.shape)\n",
        "print(e.ndim)"
      ]
    },
    {
      "cell_type": "code",
      "execution_count": null,
      "id": "7582cc8b",
      "metadata": {
        "id": "7582cc8b",
        "outputId": "cbec4384-a6d6-482c-a84f-099bc33c07fb"
      },
      "outputs": [
        {
          "data": {
            "text/plain": [
              "array([[1, 2, 3, 4, 1, 2, 3, 4]])"
            ]
          },
          "execution_count": 32,
          "metadata": {},
          "output_type": "execute_result"
        }
      ],
      "source": [
        "np.hstack([d,e])"
      ]
    },
    {
      "cell_type": "code",
      "execution_count": null,
      "id": "b9117389",
      "metadata": {
        "id": "b9117389",
        "outputId": "3a610be1-533c-4417-d948-132f3f741385"
      },
      "outputs": [
        {
          "data": {
            "text/plain": [
              "array([[1, 2, 3, 4],\n",
              "       [1, 2, 3, 4]])"
            ]
          },
          "execution_count": 33,
          "metadata": {},
          "output_type": "execute_result"
        }
      ],
      "source": [
        "np.vstack([d,e])"
      ]
    },
    {
      "cell_type": "code",
      "execution_count": null,
      "id": "d4bdf330",
      "metadata": {
        "id": "d4bdf330",
        "outputId": "b5c00c7a-dfe7-4437-8875-f3d238771259"
      },
      "outputs": [
        {
          "name": "stdout",
          "output_type": "stream",
          "text": [
            "[[ 1  2  3  4]\n",
            " [ 5  6  7  8]\n",
            " [ 9 10 11 12]]\n",
            "(3, 4)\n",
            "2\n",
            "--------------------------------------------------\n",
            "[[ 2  3  4  5]\n",
            " [ 6  7  8  9]\n",
            " [10 11 12 13]]\n",
            "(3, 4)\n",
            "2\n"
          ]
        }
      ],
      "source": [
        "# 2D arrays with m rows and n columns\n",
        "d=np.arange(1,13).reshape((3,4))\n",
        "e=np.arange(2,14).reshape((3,4))\n",
        "print(d)\n",
        "print(d.shape)\n",
        "print(d.ndim)\n",
        "print(\"-\"*50)\n",
        "print(e)\n",
        "\n",
        "print(e.shape)\n",
        "print(e.ndim)"
      ]
    },
    {
      "cell_type": "code",
      "execution_count": null,
      "id": "45720fc5",
      "metadata": {
        "id": "45720fc5",
        "outputId": "5c292116-ae34-4035-ff48-cf9406ce6b92"
      },
      "outputs": [
        {
          "data": {
            "text/plain": [
              "array([[ 1,  2,  3,  4,  2,  3,  4,  5],\n",
              "       [ 5,  6,  7,  8,  6,  7,  8,  9],\n",
              "       [ 9, 10, 11, 12, 10, 11, 12, 13]])"
            ]
          },
          "execution_count": 38,
          "metadata": {},
          "output_type": "execute_result"
        }
      ],
      "source": [
        "np.hstack([d,e])"
      ]
    },
    {
      "cell_type": "code",
      "execution_count": null,
      "id": "261b69f4",
      "metadata": {
        "id": "261b69f4",
        "outputId": "57c0d9f5-0481-4607-ae5f-ba5c5ef70e67"
      },
      "outputs": [
        {
          "data": {
            "text/plain": [
              "array([[ 1,  2,  3,  4],\n",
              "       [ 5,  6,  7,  8],\n",
              "       [ 9, 10, 11, 12],\n",
              "       [ 2,  3,  4,  5],\n",
              "       [ 6,  7,  8,  9],\n",
              "       [10, 11, 12, 13]])"
            ]
          },
          "execution_count": 39,
          "metadata": {},
          "output_type": "execute_result"
        }
      ],
      "source": [
        "np.vstack([d,e])"
      ]
    },
    {
      "cell_type": "code",
      "execution_count": null,
      "id": "e59bdcc9",
      "metadata": {
        "id": "e59bdcc9",
        "outputId": "f4db001e-1c2b-4456-ff9a-39ab57fbc286"
      },
      "outputs": [
        {
          "name": "stdout",
          "output_type": "stream",
          "text": [
            "[[ 1  2  3  4]\n",
            " [ 5  6  7  8]\n",
            " [ 9 10 11 12]]\n",
            "(3, 4)\n",
            "2\n",
            "--------------------------------------------------\n",
            "[1 2 3 4]\n",
            "(4,)\n",
            "1\n"
          ]
        }
      ],
      "source": [
        "d=np.arange(1,13).reshape((3,4))\n",
        "e=np.arange(1,5)\n",
        "print(d)\n",
        "print(d.shape)\n",
        "print(d.ndim)\n",
        "print(\"-\"*50)\n",
        "print(e)\n",
        "\n",
        "print(e.shape)\n",
        "print(e.ndim)"
      ]
    },
    {
      "cell_type": "code",
      "execution_count": null,
      "id": "06528c3f",
      "metadata": {
        "id": "06528c3f",
        "outputId": "0634d085-d778-4f68-e61d-3a3bb6cd438a"
      },
      "outputs": [
        {
          "ename": "ValueError",
          "evalue": "all the input arrays must have same number of dimensions, but the array at index 0 has 2 dimension(s) and the array at index 1 has 1 dimension(s)",
          "output_type": "error",
          "traceback": [
            "\u001b[0;31m---------------------------------------------------------------------------\u001b[0m",
            "\u001b[0;31mValueError\u001b[0m                                Traceback (most recent call last)",
            "\u001b[0;32m/var/folders/hd/9z4dczb56dj54lb7q8w7s4zw0000gn/T/ipykernel_75109/1454330102.py\u001b[0m in \u001b[0;36m<module>\u001b[0;34m\u001b[0m\n\u001b[0;32m----> 1\u001b[0;31m \u001b[0mnp\u001b[0m\u001b[0;34m.\u001b[0m\u001b[0mhstack\u001b[0m\u001b[0;34m(\u001b[0m\u001b[0;34m[\u001b[0m\u001b[0md\u001b[0m\u001b[0;34m,\u001b[0m\u001b[0me\u001b[0m\u001b[0;34m]\u001b[0m\u001b[0;34m)\u001b[0m\u001b[0;34m\u001b[0m\u001b[0;34m\u001b[0m\u001b[0m\n\u001b[0m",
            "\u001b[0;32m<__array_function__ internals>\u001b[0m in \u001b[0;36mhstack\u001b[0;34m(*args, **kwargs)\u001b[0m\n",
            "\u001b[0;32m~/opt/anaconda3/lib/python3.9/site-packages/numpy/core/shape_base.py\u001b[0m in \u001b[0;36mhstack\u001b[0;34m(tup)\u001b[0m\n\u001b[1;32m    344\u001b[0m         \u001b[0;32mreturn\u001b[0m \u001b[0m_nx\u001b[0m\u001b[0;34m.\u001b[0m\u001b[0mconcatenate\u001b[0m\u001b[0;34m(\u001b[0m\u001b[0marrs\u001b[0m\u001b[0;34m,\u001b[0m \u001b[0;36m0\u001b[0m\u001b[0;34m)\u001b[0m\u001b[0;34m\u001b[0m\u001b[0;34m\u001b[0m\u001b[0m\n\u001b[1;32m    345\u001b[0m     \u001b[0;32melse\u001b[0m\u001b[0;34m:\u001b[0m\u001b[0;34m\u001b[0m\u001b[0;34m\u001b[0m\u001b[0m\n\u001b[0;32m--> 346\u001b[0;31m         \u001b[0;32mreturn\u001b[0m \u001b[0m_nx\u001b[0m\u001b[0;34m.\u001b[0m\u001b[0mconcatenate\u001b[0m\u001b[0;34m(\u001b[0m\u001b[0marrs\u001b[0m\u001b[0;34m,\u001b[0m \u001b[0;36m1\u001b[0m\u001b[0;34m)\u001b[0m\u001b[0;34m\u001b[0m\u001b[0;34m\u001b[0m\u001b[0m\n\u001b[0m\u001b[1;32m    347\u001b[0m \u001b[0;34m\u001b[0m\u001b[0m\n\u001b[1;32m    348\u001b[0m \u001b[0;34m\u001b[0m\u001b[0m\n",
            "\u001b[0;32m<__array_function__ internals>\u001b[0m in \u001b[0;36mconcatenate\u001b[0;34m(*args, **kwargs)\u001b[0m\n",
            "\u001b[0;31mValueError\u001b[0m: all the input arrays must have same number of dimensions, but the array at index 0 has 2 dimension(s) and the array at index 1 has 1 dimension(s)"
          ]
        }
      ],
      "source": [
        "np.hstack([d,e])"
      ]
    },
    {
      "cell_type": "code",
      "execution_count": null,
      "id": "2c01baee",
      "metadata": {
        "id": "2c01baee",
        "outputId": "9ed60d3e-afe8-42bf-8080-68b225db2269"
      },
      "outputs": [
        {
          "data": {
            "text/plain": [
              "array([[ 1,  2,  3,  4],\n",
              "       [ 5,  6,  7,  8],\n",
              "       [ 9, 10, 11, 12],\n",
              "       [ 1,  2,  3,  4]])"
            ]
          },
          "execution_count": 42,
          "metadata": {},
          "output_type": "execute_result"
        }
      ],
      "source": [
        "np.vstack([d,e])"
      ]
    },
    {
      "cell_type": "code",
      "execution_count": null,
      "id": "617c4b1d",
      "metadata": {
        "id": "617c4b1d",
        "outputId": "ef775f6a-a502-43b7-c3f0-5d7fb412e826"
      },
      "outputs": [
        {
          "name": "stdout",
          "output_type": "stream",
          "text": [
            "[[ 1  2  3  4]\n",
            " [ 5  6  7  8]\n",
            " [ 9 10 11 12]]\n",
            "(3, 4)\n",
            "2\n",
            "--------------------------------------------------\n",
            "[[1]\n",
            " [2]\n",
            " [3]]\n",
            "(3, 1)\n",
            "2\n"
          ]
        }
      ],
      "source": [
        "d=np.arange(1,13).reshape((3,4))\n",
        "e=np.arange(1,4).reshape((3,1))\n",
        "print(d)\n",
        "print(d.shape)\n",
        "print(d.ndim)\n",
        "print(\"-\"*50)\n",
        "print(e)\n",
        "\n",
        "print(e.shape)\n",
        "print(e.ndim)"
      ]
    },
    {
      "cell_type": "code",
      "execution_count": null,
      "id": "5c9a0bf7",
      "metadata": {
        "id": "5c9a0bf7",
        "outputId": "0156db2f-baff-4fdd-fcf2-9e5593154b0d"
      },
      "outputs": [
        {
          "data": {
            "text/plain": [
              "array([[ 1,  2,  3,  4,  1],\n",
              "       [ 5,  6,  7,  8,  2],\n",
              "       [ 9, 10, 11, 12,  3]])"
            ]
          },
          "execution_count": 45,
          "metadata": {},
          "output_type": "execute_result"
        }
      ],
      "source": [
        "np.hstack([d,e])"
      ]
    },
    {
      "cell_type": "code",
      "execution_count": null,
      "id": "8cc7df93",
      "metadata": {
        "id": "8cc7df93",
        "outputId": "27e73df6-2b30-493d-a395-9aa9a85921df"
      },
      "outputs": [
        {
          "ename": "ValueError",
          "evalue": "all the input array dimensions for the concatenation axis must match exactly, but along dimension 1, the array at index 0 has size 4 and the array at index 1 has size 1",
          "output_type": "error",
          "traceback": [
            "\u001b[0;31m---------------------------------------------------------------------------\u001b[0m",
            "\u001b[0;31mValueError\u001b[0m                                Traceback (most recent call last)",
            "\u001b[0;32m/var/folders/hd/9z4dczb56dj54lb7q8w7s4zw0000gn/T/ipykernel_75109/824376596.py\u001b[0m in \u001b[0;36m<module>\u001b[0;34m\u001b[0m\n\u001b[0;32m----> 1\u001b[0;31m \u001b[0mnp\u001b[0m\u001b[0;34m.\u001b[0m\u001b[0mvstack\u001b[0m\u001b[0;34m(\u001b[0m\u001b[0;34m[\u001b[0m\u001b[0md\u001b[0m\u001b[0;34m,\u001b[0m\u001b[0me\u001b[0m\u001b[0;34m]\u001b[0m\u001b[0;34m)\u001b[0m\u001b[0;34m\u001b[0m\u001b[0;34m\u001b[0m\u001b[0m\n\u001b[0m",
            "\u001b[0;32m<__array_function__ internals>\u001b[0m in \u001b[0;36mvstack\u001b[0;34m(*args, **kwargs)\u001b[0m\n",
            "\u001b[0;32m~/opt/anaconda3/lib/python3.9/site-packages/numpy/core/shape_base.py\u001b[0m in \u001b[0;36mvstack\u001b[0;34m(tup)\u001b[0m\n\u001b[1;32m    281\u001b[0m     \u001b[0;32mif\u001b[0m \u001b[0;32mnot\u001b[0m \u001b[0misinstance\u001b[0m\u001b[0;34m(\u001b[0m\u001b[0marrs\u001b[0m\u001b[0;34m,\u001b[0m \u001b[0mlist\u001b[0m\u001b[0;34m)\u001b[0m\u001b[0;34m:\u001b[0m\u001b[0;34m\u001b[0m\u001b[0;34m\u001b[0m\u001b[0m\n\u001b[1;32m    282\u001b[0m         \u001b[0marrs\u001b[0m \u001b[0;34m=\u001b[0m \u001b[0;34m[\u001b[0m\u001b[0marrs\u001b[0m\u001b[0;34m]\u001b[0m\u001b[0;34m\u001b[0m\u001b[0;34m\u001b[0m\u001b[0m\n\u001b[0;32m--> 283\u001b[0;31m     \u001b[0;32mreturn\u001b[0m \u001b[0m_nx\u001b[0m\u001b[0;34m.\u001b[0m\u001b[0mconcatenate\u001b[0m\u001b[0;34m(\u001b[0m\u001b[0marrs\u001b[0m\u001b[0;34m,\u001b[0m \u001b[0;36m0\u001b[0m\u001b[0;34m)\u001b[0m\u001b[0;34m\u001b[0m\u001b[0;34m\u001b[0m\u001b[0m\n\u001b[0m\u001b[1;32m    284\u001b[0m \u001b[0;34m\u001b[0m\u001b[0m\n\u001b[1;32m    285\u001b[0m \u001b[0;34m\u001b[0m\u001b[0m\n",
            "\u001b[0;32m<__array_function__ internals>\u001b[0m in \u001b[0;36mconcatenate\u001b[0;34m(*args, **kwargs)\u001b[0m\n",
            "\u001b[0;31mValueError\u001b[0m: all the input array dimensions for the concatenation axis must match exactly, but along dimension 1, the array at index 0 has size 4 and the array at index 1 has size 1"
          ]
        }
      ],
      "source": [
        "np.vstack([d,e])"
      ]
    },
    {
      "cell_type": "code",
      "execution_count": null,
      "id": "27e6aa07",
      "metadata": {
        "id": "27e6aa07"
      },
      "outputs": [],
      "source": [
        ""
      ]
    },
    {
      "cell_type": "code",
      "execution_count": null,
      "id": "d8f942d5",
      "metadata": {
        "id": "d8f942d5",
        "outputId": "9d10027a-f542-4e07-bd37-7b0d3c890b86"
      },
      "outputs": [
        {
          "name": "stdout",
          "output_type": "stream",
          "text": [
            "[[ 1  2  3  4]\n",
            " [ 5  6  7  8]\n",
            " [ 9 10 11 12]]\n",
            "(3, 4)\n",
            "2\n",
            "--------------------------------------------------\n",
            "[[1 2 3 4]]\n",
            "(1, 4)\n",
            "2\n"
          ]
        }
      ],
      "source": [
        "d=np.arange(1,13).reshape((3,4))\n",
        "e=np.arange(1,5).reshape((1,4))\n",
        "print(d)\n",
        "print(d.shape)\n",
        "print(d.ndim)\n",
        "print(\"-\"*50)\n",
        "print(e)\n",
        "\n",
        "print(e.shape)\n",
        "print(e.ndim)"
      ]
    },
    {
      "cell_type": "code",
      "execution_count": null,
      "id": "74a7fe4a",
      "metadata": {
        "id": "74a7fe4a",
        "outputId": "9dfba4bf-7076-4800-c34a-ed1109b2256c"
      },
      "outputs": [
        {
          "ename": "ValueError",
          "evalue": "all the input array dimensions for the concatenation axis must match exactly, but along dimension 0, the array at index 0 has size 3 and the array at index 1 has size 1",
          "output_type": "error",
          "traceback": [
            "\u001b[0;31m---------------------------------------------------------------------------\u001b[0m",
            "\u001b[0;31mValueError\u001b[0m                                Traceback (most recent call last)",
            "\u001b[0;32m/var/folders/hd/9z4dczb56dj54lb7q8w7s4zw0000gn/T/ipykernel_75109/1454330102.py\u001b[0m in \u001b[0;36m<module>\u001b[0;34m\u001b[0m\n\u001b[0;32m----> 1\u001b[0;31m \u001b[0mnp\u001b[0m\u001b[0;34m.\u001b[0m\u001b[0mhstack\u001b[0m\u001b[0;34m(\u001b[0m\u001b[0;34m[\u001b[0m\u001b[0md\u001b[0m\u001b[0;34m,\u001b[0m\u001b[0me\u001b[0m\u001b[0;34m]\u001b[0m\u001b[0;34m)\u001b[0m\u001b[0;34m\u001b[0m\u001b[0;34m\u001b[0m\u001b[0m\n\u001b[0m",
            "\u001b[0;32m<__array_function__ internals>\u001b[0m in \u001b[0;36mhstack\u001b[0;34m(*args, **kwargs)\u001b[0m\n",
            "\u001b[0;32m~/opt/anaconda3/lib/python3.9/site-packages/numpy/core/shape_base.py\u001b[0m in \u001b[0;36mhstack\u001b[0;34m(tup)\u001b[0m\n\u001b[1;32m    344\u001b[0m         \u001b[0;32mreturn\u001b[0m \u001b[0m_nx\u001b[0m\u001b[0;34m.\u001b[0m\u001b[0mconcatenate\u001b[0m\u001b[0;34m(\u001b[0m\u001b[0marrs\u001b[0m\u001b[0;34m,\u001b[0m \u001b[0;36m0\u001b[0m\u001b[0;34m)\u001b[0m\u001b[0;34m\u001b[0m\u001b[0;34m\u001b[0m\u001b[0m\n\u001b[1;32m    345\u001b[0m     \u001b[0;32melse\u001b[0m\u001b[0;34m:\u001b[0m\u001b[0;34m\u001b[0m\u001b[0;34m\u001b[0m\u001b[0m\n\u001b[0;32m--> 346\u001b[0;31m         \u001b[0;32mreturn\u001b[0m \u001b[0m_nx\u001b[0m\u001b[0;34m.\u001b[0m\u001b[0mconcatenate\u001b[0m\u001b[0;34m(\u001b[0m\u001b[0marrs\u001b[0m\u001b[0;34m,\u001b[0m \u001b[0;36m1\u001b[0m\u001b[0;34m)\u001b[0m\u001b[0;34m\u001b[0m\u001b[0;34m\u001b[0m\u001b[0m\n\u001b[0m\u001b[1;32m    347\u001b[0m \u001b[0;34m\u001b[0m\u001b[0m\n\u001b[1;32m    348\u001b[0m \u001b[0;34m\u001b[0m\u001b[0m\n",
            "\u001b[0;32m<__array_function__ internals>\u001b[0m in \u001b[0;36mconcatenate\u001b[0;34m(*args, **kwargs)\u001b[0m\n",
            "\u001b[0;31mValueError\u001b[0m: all the input array dimensions for the concatenation axis must match exactly, but along dimension 0, the array at index 0 has size 3 and the array at index 1 has size 1"
          ]
        }
      ],
      "source": [
        "np.hstack([d,e])"
      ]
    },
    {
      "cell_type": "code",
      "execution_count": null,
      "id": "4008ac44",
      "metadata": {
        "id": "4008ac44",
        "outputId": "64988e7e-a191-45bc-ae6f-df54a131d9d8"
      },
      "outputs": [
        {
          "data": {
            "text/plain": [
              "array([[ 1,  2,  3,  4],\n",
              "       [ 5,  6,  7,  8],\n",
              "       [ 9, 10, 11, 12],\n",
              "       [ 1,  2,  3,  4]])"
            ]
          },
          "execution_count": 49,
          "metadata": {},
          "output_type": "execute_result"
        }
      ],
      "source": [
        "np.vstack([d,e])"
      ]
    },
    {
      "cell_type": "code",
      "execution_count": null,
      "id": "9d881d26",
      "metadata": {
        "id": "9d881d26",
        "outputId": "624395ce-cfd9-4c76-d019-93a9847d8fd3"
      },
      "outputs": [
        {
          "name": "stdout",
          "output_type": "stream",
          "text": [
            "[[ 1  2  3  4]\n",
            " [ 5  6  7  8]\n",
            " [ 9 10 11 12]]\n",
            "(3, 4)\n",
            "2\n",
            "--------------------------------------------------\n",
            "[[ 1  2  3  4  5]\n",
            " [ 6  7  8  9 10]]\n",
            "(2, 5)\n",
            "2\n"
          ]
        }
      ],
      "source": [
        "d=np.arange(1,13).reshape((3,4))\n",
        "e=np.arange(1,11).reshape((2,5))\n",
        "print(d)\n",
        "print(d.shape)\n",
        "print(d.ndim)\n",
        "print(\"-\"*50)\n",
        "print(e)\n",
        "\n",
        "print(e.shape)\n",
        "print(e.ndim)"
      ]
    },
    {
      "cell_type": "code",
      "execution_count": null,
      "id": "8ecd1352",
      "metadata": {
        "id": "8ecd1352",
        "outputId": "cda4a7a3-a19f-482b-98a1-692ddc3796ab"
      },
      "outputs": [
        {
          "ename": "ValueError",
          "evalue": "all the input array dimensions for the concatenation axis must match exactly, but along dimension 0, the array at index 0 has size 3 and the array at index 1 has size 2",
          "output_type": "error",
          "traceback": [
            "\u001b[0;31m---------------------------------------------------------------------------\u001b[0m",
            "\u001b[0;31mValueError\u001b[0m                                Traceback (most recent call last)",
            "\u001b[0;32m/var/folders/hd/9z4dczb56dj54lb7q8w7s4zw0000gn/T/ipykernel_75109/1454330102.py\u001b[0m in \u001b[0;36m<module>\u001b[0;34m\u001b[0m\n\u001b[0;32m----> 1\u001b[0;31m \u001b[0mnp\u001b[0m\u001b[0;34m.\u001b[0m\u001b[0mhstack\u001b[0m\u001b[0;34m(\u001b[0m\u001b[0;34m[\u001b[0m\u001b[0md\u001b[0m\u001b[0;34m,\u001b[0m\u001b[0me\u001b[0m\u001b[0;34m]\u001b[0m\u001b[0;34m)\u001b[0m\u001b[0;34m\u001b[0m\u001b[0;34m\u001b[0m\u001b[0m\n\u001b[0m",
            "\u001b[0;32m<__array_function__ internals>\u001b[0m in \u001b[0;36mhstack\u001b[0;34m(*args, **kwargs)\u001b[0m\n",
            "\u001b[0;32m~/opt/anaconda3/lib/python3.9/site-packages/numpy/core/shape_base.py\u001b[0m in \u001b[0;36mhstack\u001b[0;34m(tup)\u001b[0m\n\u001b[1;32m    344\u001b[0m         \u001b[0;32mreturn\u001b[0m \u001b[0m_nx\u001b[0m\u001b[0;34m.\u001b[0m\u001b[0mconcatenate\u001b[0m\u001b[0;34m(\u001b[0m\u001b[0marrs\u001b[0m\u001b[0;34m,\u001b[0m \u001b[0;36m0\u001b[0m\u001b[0;34m)\u001b[0m\u001b[0;34m\u001b[0m\u001b[0;34m\u001b[0m\u001b[0m\n\u001b[1;32m    345\u001b[0m     \u001b[0;32melse\u001b[0m\u001b[0;34m:\u001b[0m\u001b[0;34m\u001b[0m\u001b[0;34m\u001b[0m\u001b[0m\n\u001b[0;32m--> 346\u001b[0;31m         \u001b[0;32mreturn\u001b[0m \u001b[0m_nx\u001b[0m\u001b[0;34m.\u001b[0m\u001b[0mconcatenate\u001b[0m\u001b[0;34m(\u001b[0m\u001b[0marrs\u001b[0m\u001b[0;34m,\u001b[0m \u001b[0;36m1\u001b[0m\u001b[0;34m)\u001b[0m\u001b[0;34m\u001b[0m\u001b[0;34m\u001b[0m\u001b[0m\n\u001b[0m\u001b[1;32m    347\u001b[0m \u001b[0;34m\u001b[0m\u001b[0m\n\u001b[1;32m    348\u001b[0m \u001b[0;34m\u001b[0m\u001b[0m\n",
            "\u001b[0;32m<__array_function__ internals>\u001b[0m in \u001b[0;36mconcatenate\u001b[0;34m(*args, **kwargs)\u001b[0m\n",
            "\u001b[0;31mValueError\u001b[0m: all the input array dimensions for the concatenation axis must match exactly, but along dimension 0, the array at index 0 has size 3 and the array at index 1 has size 2"
          ]
        }
      ],
      "source": [
        "np.hstack([d,e])"
      ]
    },
    {
      "cell_type": "code",
      "execution_count": null,
      "id": "953bf402",
      "metadata": {
        "id": "953bf402",
        "outputId": "52fa7140-7e54-459f-de0f-38cf07cd0581"
      },
      "outputs": [
        {
          "ename": "ValueError",
          "evalue": "all the input array dimensions for the concatenation axis must match exactly, but along dimension 1, the array at index 0 has size 4 and the array at index 1 has size 5",
          "output_type": "error",
          "traceback": [
            "\u001b[0;31m---------------------------------------------------------------------------\u001b[0m",
            "\u001b[0;31mValueError\u001b[0m                                Traceback (most recent call last)",
            "\u001b[0;32m/var/folders/hd/9z4dczb56dj54lb7q8w7s4zw0000gn/T/ipykernel_75109/824376596.py\u001b[0m in \u001b[0;36m<module>\u001b[0;34m\u001b[0m\n\u001b[0;32m----> 1\u001b[0;31m \u001b[0mnp\u001b[0m\u001b[0;34m.\u001b[0m\u001b[0mvstack\u001b[0m\u001b[0;34m(\u001b[0m\u001b[0;34m[\u001b[0m\u001b[0md\u001b[0m\u001b[0;34m,\u001b[0m\u001b[0me\u001b[0m\u001b[0;34m]\u001b[0m\u001b[0;34m)\u001b[0m\u001b[0;34m\u001b[0m\u001b[0;34m\u001b[0m\u001b[0m\n\u001b[0m",
            "\u001b[0;32m<__array_function__ internals>\u001b[0m in \u001b[0;36mvstack\u001b[0;34m(*args, **kwargs)\u001b[0m\n",
            "\u001b[0;32m~/opt/anaconda3/lib/python3.9/site-packages/numpy/core/shape_base.py\u001b[0m in \u001b[0;36mvstack\u001b[0;34m(tup)\u001b[0m\n\u001b[1;32m    281\u001b[0m     \u001b[0;32mif\u001b[0m \u001b[0;32mnot\u001b[0m \u001b[0misinstance\u001b[0m\u001b[0;34m(\u001b[0m\u001b[0marrs\u001b[0m\u001b[0;34m,\u001b[0m \u001b[0mlist\u001b[0m\u001b[0;34m)\u001b[0m\u001b[0;34m:\u001b[0m\u001b[0;34m\u001b[0m\u001b[0;34m\u001b[0m\u001b[0m\n\u001b[1;32m    282\u001b[0m         \u001b[0marrs\u001b[0m \u001b[0;34m=\u001b[0m \u001b[0;34m[\u001b[0m\u001b[0marrs\u001b[0m\u001b[0;34m]\u001b[0m\u001b[0;34m\u001b[0m\u001b[0;34m\u001b[0m\u001b[0m\n\u001b[0;32m--> 283\u001b[0;31m     \u001b[0;32mreturn\u001b[0m \u001b[0m_nx\u001b[0m\u001b[0;34m.\u001b[0m\u001b[0mconcatenate\u001b[0m\u001b[0;34m(\u001b[0m\u001b[0marrs\u001b[0m\u001b[0;34m,\u001b[0m \u001b[0;36m0\u001b[0m\u001b[0;34m)\u001b[0m\u001b[0;34m\u001b[0m\u001b[0;34m\u001b[0m\u001b[0m\n\u001b[0m\u001b[1;32m    284\u001b[0m \u001b[0;34m\u001b[0m\u001b[0m\n\u001b[1;32m    285\u001b[0m \u001b[0;34m\u001b[0m\u001b[0m\n",
            "\u001b[0;32m<__array_function__ internals>\u001b[0m in \u001b[0;36mconcatenate\u001b[0;34m(*args, **kwargs)\u001b[0m\n",
            "\u001b[0;31mValueError\u001b[0m: all the input array dimensions for the concatenation axis must match exactly, but along dimension 1, the array at index 0 has size 4 and the array at index 1 has size 5"
          ]
        }
      ],
      "source": [
        "np.vstack([d,e])"
      ]
    },
    {
      "cell_type": "code",
      "execution_count": null,
      "id": "41ace0f4",
      "metadata": {
        "id": "41ace0f4"
      },
      "outputs": [],
      "source": [
        "#Splitting"
      ]
    },
    {
      "cell_type": "code",
      "execution_count": null,
      "id": "ee79238b",
      "metadata": {
        "id": "ee79238b",
        "outputId": "e6bbf927-2add-47dc-c3c8-a51ae7f96496"
      },
      "outputs": [
        {
          "name": "stdout",
          "output_type": "stream",
          "text": [
            "[ 1  2  3  4  5  6  7  8  9 10 11 12]\n"
          ]
        }
      ],
      "source": [
        "d=np.arange(1,13)\n",
        "print(d)"
      ]
    },
    {
      "cell_type": "code",
      "execution_count": null,
      "id": "1f465988",
      "metadata": {
        "id": "1f465988",
        "outputId": "0f5beffe-2bec-45ae-cc2a-6b2800793b06"
      },
      "outputs": [
        {
          "data": {
            "text/plain": [
              "[array([1, 2, 3, 4]), array([5, 6, 7, 8]), array([ 9, 10, 11, 12])]"
            ]
          },
          "execution_count": 57,
          "metadata": {},
          "output_type": "execute_result"
        }
      ],
      "source": [
        "np.split(d,3)"
      ]
    },
    {
      "cell_type": "code",
      "execution_count": null,
      "id": "f921a373",
      "metadata": {
        "id": "f921a373",
        "outputId": "9d346f0d-6aaa-4ee7-8ec4-ad56b4e838a3"
      },
      "outputs": [
        {
          "ename": "ValueError",
          "evalue": "array split does not result in an equal division",
          "output_type": "error",
          "traceback": [
            "\u001b[0;31m---------------------------------------------------------------------------\u001b[0m",
            "\u001b[0;31mValueError\u001b[0m                                Traceback (most recent call last)",
            "\u001b[0;32m/var/folders/hd/9z4dczb56dj54lb7q8w7s4zw0000gn/T/ipykernel_75109/660958536.py\u001b[0m in \u001b[0;36m<module>\u001b[0;34m\u001b[0m\n\u001b[0;32m----> 1\u001b[0;31m \u001b[0mnp\u001b[0m\u001b[0;34m.\u001b[0m\u001b[0msplit\u001b[0m\u001b[0;34m(\u001b[0m\u001b[0md\u001b[0m\u001b[0;34m,\u001b[0m\u001b[0;36m5\u001b[0m\u001b[0;34m)\u001b[0m\u001b[0;34m\u001b[0m\u001b[0;34m\u001b[0m\u001b[0m\n\u001b[0m",
            "\u001b[0;32m<__array_function__ internals>\u001b[0m in \u001b[0;36msplit\u001b[0;34m(*args, **kwargs)\u001b[0m\n",
            "\u001b[0;32m~/opt/anaconda3/lib/python3.9/site-packages/numpy/lib/shape_base.py\u001b[0m in \u001b[0;36msplit\u001b[0;34m(ary, indices_or_sections, axis)\u001b[0m\n\u001b[1;32m    870\u001b[0m         \u001b[0mN\u001b[0m \u001b[0;34m=\u001b[0m \u001b[0mary\u001b[0m\u001b[0;34m.\u001b[0m\u001b[0mshape\u001b[0m\u001b[0;34m[\u001b[0m\u001b[0maxis\u001b[0m\u001b[0;34m]\u001b[0m\u001b[0;34m\u001b[0m\u001b[0;34m\u001b[0m\u001b[0m\n\u001b[1;32m    871\u001b[0m         \u001b[0;32mif\u001b[0m \u001b[0mN\u001b[0m \u001b[0;34m%\u001b[0m \u001b[0msections\u001b[0m\u001b[0;34m:\u001b[0m\u001b[0;34m\u001b[0m\u001b[0;34m\u001b[0m\u001b[0m\n\u001b[0;32m--> 872\u001b[0;31m             raise ValueError(\n\u001b[0m\u001b[1;32m    873\u001b[0m                 'array split does not result in an equal division') from None\n\u001b[1;32m    874\u001b[0m     \u001b[0;32mreturn\u001b[0m \u001b[0marray_split\u001b[0m\u001b[0;34m(\u001b[0m\u001b[0mary\u001b[0m\u001b[0;34m,\u001b[0m \u001b[0mindices_or_sections\u001b[0m\u001b[0;34m,\u001b[0m \u001b[0maxis\u001b[0m\u001b[0;34m)\u001b[0m\u001b[0;34m\u001b[0m\u001b[0;34m\u001b[0m\u001b[0m\n",
            "\u001b[0;31mValueError\u001b[0m: array split does not result in an equal division"
          ]
        }
      ],
      "source": [
        "np.split(d,5)\n"
      ]
    },
    {
      "cell_type": "code",
      "execution_count": null,
      "id": "a6b62fad",
      "metadata": {
        "id": "a6b62fad",
        "outputId": "80807b51-305b-43b0-bb6b-783a1476ef5e"
      },
      "outputs": [
        {
          "data": {
            "text/plain": [
              "[array([1, 2, 3, 4, 5, 6]), array([ 7,  8,  9, 10, 11, 12])]"
            ]
          },
          "execution_count": 59,
          "metadata": {},
          "output_type": "execute_result"
        }
      ],
      "source": [
        "np.split(d,2)"
      ]
    },
    {
      "cell_type": "code",
      "execution_count": null,
      "id": "265f42f5",
      "metadata": {
        "id": "265f42f5",
        "outputId": "bfdc5f73-a458-4a08-c76d-a9708c74cf1c"
      },
      "outputs": [
        {
          "data": {
            "text/plain": [
              "[array([1, 2, 3]), array([4, 5, 6]), array([7, 8, 9]), array([10, 11, 12])]"
            ]
          },
          "execution_count": 60,
          "metadata": {},
          "output_type": "execute_result"
        }
      ],
      "source": [
        "np.split(d,4)"
      ]
    },
    {
      "cell_type": "code",
      "execution_count": null,
      "id": "4b3cf2da",
      "metadata": {
        "id": "4b3cf2da",
        "outputId": "12526648-8f7e-423d-aa1c-dceb92d484c6"
      },
      "outputs": [
        {
          "data": {
            "text/plain": [
              "[array([1, 2]),\n",
              " array([3, 4]),\n",
              " array([5, 6]),\n",
              " array([7, 8]),\n",
              " array([ 9, 10]),\n",
              " array([11, 12])]"
            ]
          },
          "execution_count": 61,
          "metadata": {},
          "output_type": "execute_result"
        }
      ],
      "source": [
        "np.split(d,6)"
      ]
    },
    {
      "cell_type": "code",
      "execution_count": null,
      "id": "199ec404",
      "metadata": {
        "id": "199ec404",
        "outputId": "723c466d-0737-48cb-bdfd-c71b2bd73d52"
      },
      "outputs": [
        {
          "ename": "ValueError",
          "evalue": "array split does not result in an equal division",
          "output_type": "error",
          "traceback": [
            "\u001b[0;31m---------------------------------------------------------------------------\u001b[0m",
            "\u001b[0;31mValueError\u001b[0m                                Traceback (most recent call last)",
            "\u001b[0;32m/var/folders/hd/9z4dczb56dj54lb7q8w7s4zw0000gn/T/ipykernel_75109/2040504666.py\u001b[0m in \u001b[0;36m<module>\u001b[0;34m\u001b[0m\n\u001b[0;32m----> 1\u001b[0;31m \u001b[0mnp\u001b[0m\u001b[0;34m.\u001b[0m\u001b[0msplit\u001b[0m\u001b[0;34m(\u001b[0m\u001b[0md\u001b[0m\u001b[0;34m,\u001b[0m\u001b[0;36m13\u001b[0m\u001b[0;34m)\u001b[0m\u001b[0;34m\u001b[0m\u001b[0;34m\u001b[0m\u001b[0m\n\u001b[0m",
            "\u001b[0;32m<__array_function__ internals>\u001b[0m in \u001b[0;36msplit\u001b[0;34m(*args, **kwargs)\u001b[0m\n",
            "\u001b[0;32m~/opt/anaconda3/lib/python3.9/site-packages/numpy/lib/shape_base.py\u001b[0m in \u001b[0;36msplit\u001b[0;34m(ary, indices_or_sections, axis)\u001b[0m\n\u001b[1;32m    870\u001b[0m         \u001b[0mN\u001b[0m \u001b[0;34m=\u001b[0m \u001b[0mary\u001b[0m\u001b[0;34m.\u001b[0m\u001b[0mshape\u001b[0m\u001b[0;34m[\u001b[0m\u001b[0maxis\u001b[0m\u001b[0;34m]\u001b[0m\u001b[0;34m\u001b[0m\u001b[0;34m\u001b[0m\u001b[0m\n\u001b[1;32m    871\u001b[0m         \u001b[0;32mif\u001b[0m \u001b[0mN\u001b[0m \u001b[0;34m%\u001b[0m \u001b[0msections\u001b[0m\u001b[0;34m:\u001b[0m\u001b[0;34m\u001b[0m\u001b[0;34m\u001b[0m\u001b[0m\n\u001b[0;32m--> 872\u001b[0;31m             raise ValueError(\n\u001b[0m\u001b[1;32m    873\u001b[0m                 'array split does not result in an equal division') from None\n\u001b[1;32m    874\u001b[0m     \u001b[0;32mreturn\u001b[0m \u001b[0marray_split\u001b[0m\u001b[0;34m(\u001b[0m\u001b[0mary\u001b[0m\u001b[0;34m,\u001b[0m \u001b[0mindices_or_sections\u001b[0m\u001b[0;34m,\u001b[0m \u001b[0maxis\u001b[0m\u001b[0;34m)\u001b[0m\u001b[0;34m\u001b[0m\u001b[0;34m\u001b[0m\u001b[0m\n",
            "\u001b[0;31mValueError\u001b[0m: array split does not result in an equal division"
          ]
        }
      ],
      "source": [
        "np.split(d,13)"
      ]
    },
    {
      "cell_type": "code",
      "execution_count": null,
      "id": "ac3fd445",
      "metadata": {
        "id": "ac3fd445",
        "outputId": "f7888708-f71a-4edf-f092-c80ef6788831"
      },
      "outputs": [
        {
          "name": "stdout",
          "output_type": "stream",
          "text": [
            "[ 1  2  3  4  5  6  7  8  9 10 11 12]\n"
          ]
        }
      ],
      "source": [
        "print(d)"
      ]
    },
    {
      "cell_type": "code",
      "execution_count": null,
      "id": "281add32",
      "metadata": {
        "id": "281add32",
        "outputId": "f782e69c-ddd9-453d-d8af-1e36b8ca9a2c"
      },
      "outputs": [
        {
          "data": {
            "text/plain": [
              "[array([1, 2, 3, 4, 5]), array([ 6,  7,  8,  9, 10, 11, 12])]"
            ]
          },
          "execution_count": 64,
          "metadata": {},
          "output_type": "execute_result"
        }
      ],
      "source": [
        "np.split(d,[5])"
      ]
    },
    {
      "cell_type": "code",
      "execution_count": null,
      "id": "39b03c70",
      "metadata": {
        "id": "39b03c70",
        "outputId": "a61ee82f-aef7-4425-9841-262d13e84b9e"
      },
      "outputs": [
        {
          "data": {
            "text/plain": [
              "[array([1, 2, 3, 4, 5]), array([6, 7]), array([ 8,  9, 10, 11, 12])]"
            ]
          },
          "execution_count": 65,
          "metadata": {},
          "output_type": "execute_result"
        }
      ],
      "source": [
        "np.split(d,[5,7])"
      ]
    },
    {
      "cell_type": "code",
      "execution_count": null,
      "id": "610cde49",
      "metadata": {
        "id": "610cde49",
        "outputId": "70c4903a-06f6-4cd3-de85-240ef4e44108"
      },
      "outputs": [
        {
          "data": {
            "text/plain": [
              "[array([1, 2, 3, 4, 5]), array([6, 7]), array([ 8,  9, 10]), array([11, 12])]"
            ]
          },
          "execution_count": 66,
          "metadata": {},
          "output_type": "execute_result"
        }
      ],
      "source": [
        "np.split(d,[5,7,10])"
      ]
    },
    {
      "cell_type": "code",
      "execution_count": null,
      "id": "1417fe68",
      "metadata": {
        "id": "1417fe68",
        "outputId": "3e9405cf-6858-4a41-cd5d-09fc78323172"
      },
      "outputs": [
        {
          "data": {
            "text/plain": [
              "[array([1, 2, 3, 4, 5]),\n",
              " array([6, 7]),\n",
              " array([ 8,  9, 10, 11, 12]),\n",
              " array([], dtype=int64)]"
            ]
          },
          "execution_count": 68,
          "metadata": {},
          "output_type": "execute_result"
        }
      ],
      "source": [
        "np.split(d,[5,7,13])"
      ]
    },
    {
      "cell_type": "code",
      "execution_count": null,
      "id": "325aabb6",
      "metadata": {
        "id": "325aabb6",
        "outputId": "4190406f-2c0a-49c3-e65e-adc2bb6ab8f3"
      },
      "outputs": [
        {
          "data": {
            "text/plain": [
              "[array([1, 2, 3, 4, 5, 6, 7]), array([ 8,  9, 10, 11, 12])]"
            ]
          },
          "execution_count": 69,
          "metadata": {},
          "output_type": "execute_result"
        }
      ],
      "source": [
        "np.split(d,[-5,-4])"
      ]
    },
    {
      "cell_type": "code",
      "execution_count": null,
      "id": "51ae3de9",
      "metadata": {
        "id": "51ae3de9",
        "outputId": "8fd1ec08-493d-4102-a6e0-6e77a36ddcd9"
      },
      "outputs": [
        {
          "data": {
            "text/plain": [
              "array([ 1,  2,  3,  4,  5,  6,  7,  8,  9, 10, 11, 12])"
            ]
          },
          "execution_count": 70,
          "metadata": {},
          "output_type": "execute_result"
        }
      ],
      "source": [
        "d"
      ]
    },
    {
      "cell_type": "code",
      "execution_count": null,
      "id": "ad62b5e4",
      "metadata": {
        "id": "ad62b5e4",
        "outputId": "8724a921-112b-41a1-ed97-0beb54c9867a"
      },
      "outputs": [
        {
          "data": {
            "text/plain": [
              "array([ 3,  4,  5,  6,  7,  8,  9, 10])"
            ]
          },
          "execution_count": 76,
          "metadata": {},
          "output_type": "execute_result"
        }
      ],
      "source": [
        "np.split(d,[2,10,6])[1]"
      ]
    },
    {
      "cell_type": "code",
      "execution_count": null,
      "id": "c9818a55",
      "metadata": {
        "id": "c9818a55",
        "outputId": "2ac8ecfe-9367-4102-a2b8-92b7e190a993"
      },
      "outputs": [
        {
          "data": {
            "text/plain": [
              "[array([1, 2, 3, 4, 5, 6, 7]),\n",
              " array([], dtype=int64),\n",
              " array([ 4,  5,  6,  7,  8,  9, 10, 11, 12])]"
            ]
          },
          "execution_count": 74,
          "metadata": {},
          "output_type": "execute_result"
        }
      ],
      "source": [
        "np.split(d,[-5,-9])"
      ]
    },
    {
      "cell_type": "code",
      "execution_count": null,
      "id": "282a8d00",
      "metadata": {
        "id": "282a8d00"
      },
      "outputs": [],
      "source": [
        ""
      ]
    },
    {
      "cell_type": "code",
      "execution_count": null,
      "id": "27030f9b",
      "metadata": {
        "id": "27030f9b",
        "outputId": "f057ad99-457e-448b-89d4-3c116d5ebc28"
      },
      "outputs": [
        {
          "name": "stdout",
          "output_type": "stream",
          "text": [
            "[[ 1  2  3  4  5  6  7  8  9 10 11 12]]\n"
          ]
        }
      ],
      "source": [
        "d=np.arange(1,13).reshape((1,12))\n",
        "print(d)"
      ]
    },
    {
      "cell_type": "code",
      "execution_count": null,
      "id": "2930cbdf",
      "metadata": {
        "id": "2930cbdf",
        "outputId": "0fbc7457-3ba9-4d78-8da6-9afb1d8bf6ae"
      },
      "outputs": [
        {
          "data": {
            "text/plain": [
              "[array([[1, 2, 3, 4, 5, 6]]), array([[ 7,  8,  9, 10, 11, 12]])]"
            ]
          },
          "execution_count": 81,
          "metadata": {},
          "output_type": "execute_result"
        }
      ],
      "source": [
        "np.split(d,2,axis=1)"
      ]
    },
    {
      "cell_type": "code",
      "execution_count": null,
      "id": "b5c0d385",
      "metadata": {
        "id": "b5c0d385",
        "outputId": "0cf2e0e0-0837-4742-9357-924e0aa0c56d"
      },
      "outputs": [
        {
          "data": {
            "text/plain": [
              "[array([[1, 2, 3, 4, 5, 6]]), array([[ 7,  8,  9, 10, 11, 12]])]"
            ]
          },
          "execution_count": 82,
          "metadata": {},
          "output_type": "execute_result"
        }
      ],
      "source": [
        "np.hsplit(d,2)"
      ]
    },
    {
      "cell_type": "code",
      "execution_count": null,
      "id": "45ef3fdb",
      "metadata": {
        "id": "45ef3fdb",
        "outputId": "55785dce-c141-4563-cd1e-b1f50aacdd80"
      },
      "outputs": [
        {
          "ename": "ValueError",
          "evalue": "array split does not result in an equal division",
          "output_type": "error",
          "traceback": [
            "\u001b[0;31m---------------------------------------------------------------------------\u001b[0m",
            "\u001b[0;31mValueError\u001b[0m                                Traceback (most recent call last)",
            "\u001b[0;32m/var/folders/hd/9z4dczb56dj54lb7q8w7s4zw0000gn/T/ipykernel_75109/925622339.py\u001b[0m in \u001b[0;36m<module>\u001b[0;34m\u001b[0m\n\u001b[0;32m----> 1\u001b[0;31m \u001b[0mnp\u001b[0m\u001b[0;34m.\u001b[0m\u001b[0msplit\u001b[0m\u001b[0;34m(\u001b[0m\u001b[0md\u001b[0m\u001b[0;34m,\u001b[0m\u001b[0;36m2\u001b[0m\u001b[0;34m,\u001b[0m\u001b[0maxis\u001b[0m\u001b[0;34m=\u001b[0m\u001b[0;36m0\u001b[0m\u001b[0;34m)\u001b[0m\u001b[0;34m\u001b[0m\u001b[0;34m\u001b[0m\u001b[0m\n\u001b[0m",
            "\u001b[0;32m<__array_function__ internals>\u001b[0m in \u001b[0;36msplit\u001b[0;34m(*args, **kwargs)\u001b[0m\n",
            "\u001b[0;32m~/opt/anaconda3/lib/python3.9/site-packages/numpy/lib/shape_base.py\u001b[0m in \u001b[0;36msplit\u001b[0;34m(ary, indices_or_sections, axis)\u001b[0m\n\u001b[1;32m    870\u001b[0m         \u001b[0mN\u001b[0m \u001b[0;34m=\u001b[0m \u001b[0mary\u001b[0m\u001b[0;34m.\u001b[0m\u001b[0mshape\u001b[0m\u001b[0;34m[\u001b[0m\u001b[0maxis\u001b[0m\u001b[0;34m]\u001b[0m\u001b[0;34m\u001b[0m\u001b[0;34m\u001b[0m\u001b[0m\n\u001b[1;32m    871\u001b[0m         \u001b[0;32mif\u001b[0m \u001b[0mN\u001b[0m \u001b[0;34m%\u001b[0m \u001b[0msections\u001b[0m\u001b[0;34m:\u001b[0m\u001b[0;34m\u001b[0m\u001b[0;34m\u001b[0m\u001b[0m\n\u001b[0;32m--> 872\u001b[0;31m             raise ValueError(\n\u001b[0m\u001b[1;32m    873\u001b[0m                 'array split does not result in an equal division') from None\n\u001b[1;32m    874\u001b[0m     \u001b[0;32mreturn\u001b[0m \u001b[0marray_split\u001b[0m\u001b[0;34m(\u001b[0m\u001b[0mary\u001b[0m\u001b[0;34m,\u001b[0m \u001b[0mindices_or_sections\u001b[0m\u001b[0;34m,\u001b[0m \u001b[0maxis\u001b[0m\u001b[0;34m)\u001b[0m\u001b[0;34m\u001b[0m\u001b[0;34m\u001b[0m\u001b[0m\n",
            "\u001b[0;31mValueError\u001b[0m: array split does not result in an equal division"
          ]
        }
      ],
      "source": [
        "np.split(d,2,axis=0)"
      ]
    },
    {
      "cell_type": "code",
      "execution_count": null,
      "id": "55dfaf38",
      "metadata": {
        "id": "55dfaf38",
        "outputId": "0305ae65-a322-45a8-876d-f0d36ec726e0"
      },
      "outputs": [
        {
          "name": "stdout",
          "output_type": "stream",
          "text": [
            "[[ 1  2  3  4]\n",
            " [ 5  6  7  8]\n",
            " [ 9 10 11 12]]\n"
          ]
        }
      ],
      "source": [
        "d=np.arange(1,13).reshape((3,4))\n",
        "print(d)"
      ]
    },
    {
      "cell_type": "code",
      "execution_count": null,
      "id": "ff3f3c22",
      "metadata": {
        "id": "ff3f3c22",
        "outputId": "470c40a8-bdbe-4ddc-e53c-67455a993cd6"
      },
      "outputs": [
        {
          "data": {
            "text/plain": [
              "[array([[ 1,  2],\n",
              "        [ 5,  6],\n",
              "        [ 9, 10]]),\n",
              " array([[ 3,  4],\n",
              "        [ 7,  8],\n",
              "        [11, 12]])]"
            ]
          },
          "execution_count": 85,
          "metadata": {},
          "output_type": "execute_result"
        }
      ],
      "source": [
        "np.split(d,2,axis=1)"
      ]
    },
    {
      "cell_type": "code",
      "execution_count": null,
      "id": "ddf4bf38",
      "metadata": {
        "id": "ddf4bf38",
        "outputId": "39067ee3-ab5f-4c2b-f7f4-fc12e4f1d3db"
      },
      "outputs": [
        {
          "ename": "ValueError",
          "evalue": "array split does not result in an equal division",
          "output_type": "error",
          "traceback": [
            "\u001b[0;31m---------------------------------------------------------------------------\u001b[0m",
            "\u001b[0;31mValueError\u001b[0m                                Traceback (most recent call last)",
            "\u001b[0;32m/var/folders/hd/9z4dczb56dj54lb7q8w7s4zw0000gn/T/ipykernel_75109/925622339.py\u001b[0m in \u001b[0;36m<module>\u001b[0;34m\u001b[0m\n\u001b[0;32m----> 1\u001b[0;31m \u001b[0mnp\u001b[0m\u001b[0;34m.\u001b[0m\u001b[0msplit\u001b[0m\u001b[0;34m(\u001b[0m\u001b[0md\u001b[0m\u001b[0;34m,\u001b[0m\u001b[0;36m2\u001b[0m\u001b[0;34m,\u001b[0m\u001b[0maxis\u001b[0m\u001b[0;34m=\u001b[0m\u001b[0;36m0\u001b[0m\u001b[0;34m)\u001b[0m\u001b[0;34m\u001b[0m\u001b[0;34m\u001b[0m\u001b[0m\n\u001b[0m",
            "\u001b[0;32m<__array_function__ internals>\u001b[0m in \u001b[0;36msplit\u001b[0;34m(*args, **kwargs)\u001b[0m\n",
            "\u001b[0;32m~/opt/anaconda3/lib/python3.9/site-packages/numpy/lib/shape_base.py\u001b[0m in \u001b[0;36msplit\u001b[0;34m(ary, indices_or_sections, axis)\u001b[0m\n\u001b[1;32m    870\u001b[0m         \u001b[0mN\u001b[0m \u001b[0;34m=\u001b[0m \u001b[0mary\u001b[0m\u001b[0;34m.\u001b[0m\u001b[0mshape\u001b[0m\u001b[0;34m[\u001b[0m\u001b[0maxis\u001b[0m\u001b[0;34m]\u001b[0m\u001b[0;34m\u001b[0m\u001b[0;34m\u001b[0m\u001b[0m\n\u001b[1;32m    871\u001b[0m         \u001b[0;32mif\u001b[0m \u001b[0mN\u001b[0m \u001b[0;34m%\u001b[0m \u001b[0msections\u001b[0m\u001b[0;34m:\u001b[0m\u001b[0;34m\u001b[0m\u001b[0;34m\u001b[0m\u001b[0m\n\u001b[0;32m--> 872\u001b[0;31m             raise ValueError(\n\u001b[0m\u001b[1;32m    873\u001b[0m                 'array split does not result in an equal division') from None\n\u001b[1;32m    874\u001b[0m     \u001b[0;32mreturn\u001b[0m \u001b[0marray_split\u001b[0m\u001b[0;34m(\u001b[0m\u001b[0mary\u001b[0m\u001b[0;34m,\u001b[0m \u001b[0mindices_or_sections\u001b[0m\u001b[0;34m,\u001b[0m \u001b[0maxis\u001b[0m\u001b[0;34m)\u001b[0m\u001b[0;34m\u001b[0m\u001b[0;34m\u001b[0m\u001b[0m\n",
            "\u001b[0;31mValueError\u001b[0m: array split does not result in an equal division"
          ]
        }
      ],
      "source": [
        "np.split(d,2,axis=0)"
      ]
    },
    {
      "cell_type": "code",
      "execution_count": null,
      "id": "621ff818",
      "metadata": {
        "id": "621ff818",
        "outputId": "759640f2-9b11-4a96-f620-0602d083f883"
      },
      "outputs": [
        {
          "data": {
            "text/plain": [
              "[array([[1, 2, 3, 4]]), array([[5, 6, 7, 8]]), array([[ 9, 10, 11, 12]])]"
            ]
          },
          "execution_count": 87,
          "metadata": {},
          "output_type": "execute_result"
        }
      ],
      "source": [
        "np.split(d,3,axis=0)"
      ]
    },
    {
      "cell_type": "code",
      "execution_count": null,
      "id": "603d5f50",
      "metadata": {
        "id": "603d5f50",
        "outputId": "79624c6b-8164-4eb5-9acc-174bf1282328"
      },
      "outputs": [
        {
          "data": {
            "text/plain": [
              "[array([[ 1,  2],\n",
              "        [ 5,  6],\n",
              "        [ 9, 10]]),\n",
              " array([[ 3,  4],\n",
              "        [ 7,  8],\n",
              "        [11, 12]])]"
            ]
          },
          "execution_count": 88,
          "metadata": {},
          "output_type": "execute_result"
        }
      ],
      "source": [
        "np.hsplit(d,2)"
      ]
    },
    {
      "cell_type": "code",
      "execution_count": null,
      "id": "4584f740",
      "metadata": {
        "id": "4584f740",
        "outputId": "a920f75a-3c80-45ea-c609-9c2f9c7176e9"
      },
      "outputs": [
        {
          "data": {
            "text/plain": [
              "[array([[1, 2, 3, 4]]), array([[5, 6, 7, 8]]), array([[ 9, 10, 11, 12]])]"
            ]
          },
          "execution_count": 89,
          "metadata": {},
          "output_type": "execute_result"
        }
      ],
      "source": [
        "np.vsplit(d,3)"
      ]
    },
    {
      "cell_type": "code",
      "execution_count": null,
      "id": "9533b99d",
      "metadata": {
        "id": "9533b99d",
        "outputId": "1cc0961b-b978-4d99-eb9e-7af8d5dc7379"
      },
      "outputs": [
        {
          "data": {
            "text/plain": [
              "[array([[1],\n",
              "        [5],\n",
              "        [9]]),\n",
              " array([[ 2,  3,  4],\n",
              "        [ 6,  7,  8],\n",
              "        [10, 11, 12]])]"
            ]
          },
          "execution_count": 90,
          "metadata": {},
          "output_type": "execute_result"
        }
      ],
      "source": [
        "np.split(d,[1sss],axis=1)"
      ]
    },
    {
      "cell_type": "code",
      "execution_count": null,
      "id": "be0c5193",
      "metadata": {
        "id": "be0c5193",
        "outputId": "05192d2c-6b67-472a-d83c-3445f14ee207"
      },
      "outputs": [
        {
          "data": {
            "text/plain": [
              "[array([[1],\n",
              "        [5],\n",
              "        [9]]),\n",
              " array([[ 2],\n",
              "        [ 6],\n",
              "        [10]]),\n",
              " array([[ 3,  4],\n",
              "        [ 7,  8],\n",
              "        [11, 12]])]"
            ]
          },
          "execution_count": 91,
          "metadata": {},
          "output_type": "execute_result"
        }
      ],
      "source": [
        "np.split(d,[1,2],axis=1)"
      ]
    },
    {
      "cell_type": "code",
      "execution_count": null,
      "id": "26bd1a4f",
      "metadata": {
        "id": "26bd1a4f",
        "outputId": "da8c9c5a-c295-4310-9d50-1af8538dba6d"
      },
      "outputs": [
        {
          "data": {
            "text/plain": [
              "[array([[1, 2, 3, 4]]),\n",
              " array([[ 5,  6,  7,  8],\n",
              "        [ 9, 10, 11, 12]])]"
            ]
          },
          "execution_count": 92,
          "metadata": {},
          "output_type": "execute_result"
        }
      ],
      "source": [
        "np.split(d,[1],axis=0)"
      ]
    },
    {
      "cell_type": "code",
      "execution_count": null,
      "id": "e9eda656",
      "metadata": {
        "id": "e9eda656",
        "outputId": "eb4d0a3c-d9a8-457c-dacf-bef7cea2a545"
      },
      "outputs": [
        {
          "data": {
            "text/plain": [
              "[array([[1],\n",
              "        [5],\n",
              "        [9]]),\n",
              " array([[ 2],\n",
              "        [ 6],\n",
              "        [10]]),\n",
              " array([[ 3,  4],\n",
              "        [ 7,  8],\n",
              "        [11, 12]])]"
            ]
          },
          "execution_count": 93,
          "metadata": {},
          "output_type": "execute_result"
        }
      ],
      "source": [
        "np.hsplit(d,[1,2])"
      ]
    },
    {
      "cell_type": "code",
      "execution_count": null,
      "id": "16271149",
      "metadata": {
        "id": "16271149",
        "outputId": "55e4515e-0785-427f-98af-59c1a3e14766"
      },
      "outputs": [
        {
          "data": {
            "text/plain": [
              "[array([[1, 2, 3, 4]]), array([[5, 6, 7, 8]]), array([[ 9, 10, 11, 12]])]"
            ]
          },
          "execution_count": 94,
          "metadata": {},
          "output_type": "execute_result"
        }
      ],
      "source": [
        "np.vsplit(d,[1,2])"
      ]
    },
    {
      "cell_type": "code",
      "execution_count": null,
      "id": "e00e20b4",
      "metadata": {
        "id": "e00e20b4"
      },
      "outputs": [],
      "source": [
        ""
      ]
    },
    {
      "cell_type": "code",
      "execution_count": null,
      "id": "b5b60a13",
      "metadata": {
        "id": "b5b60a13"
      },
      "outputs": [],
      "source": [
        "a = np.array([0,1,2,3,4,5])\n",
        "b = a[a%1 == 0]\n",
        "\n",
        "b[0] = 10"
      ]
    },
    {
      "cell_type": "code",
      "execution_count": null,
      "id": "3a6c31dc",
      "metadata": {
        "id": "3a6c31dc",
        "outputId": "94afc1d7-271e-46cb-b7bd-190d56888d6e"
      },
      "outputs": [
        {
          "name": "stdout",
          "output_type": "stream",
          "text": [
            "[[1 2]\n",
            " [3 4]]\n",
            "[[5 6]]\n",
            "[[5]\n",
            " [6]]\n"
          ]
        }
      ],
      "source": [
        "a = np.array([[1, 2], [3, 4]])\n",
        "b = np.array([[5, 6]])\n",
        "print(a)\n",
        "print(b)\n",
        "print(b.T)\n",
        "np.concatenate((a, b.T), axis=1)"
      ]
    },
    {
      "cell_type": "code",
      "execution_count": null,
      "id": "b1a1147f",
      "metadata": {
        "id": "b1a1147f",
        "outputId": "5dbe56e5-2811-4fde-fb61-ed6e4288070a"
      },
      "outputs": [
        {
          "name": "stdout",
          "output_type": "stream",
          "text": [
            "[[1]\n",
            " [2]\n",
            " [3]]\n",
            "(3, 1)\n",
            "--------------------------------------------------\n",
            "[[4]\n",
            " [5]\n",
            " [6]]\n"
          ]
        },
        {
          "data": {
            "text/plain": [
              "array([[1],\n",
              "       [2],\n",
              "       [3],\n",
              "       [4],\n",
              "       [5],\n",
              "       [6]])"
            ]
          },
          "execution_count": 97,
          "metadata": {},
          "output_type": "execute_result"
        }
      ],
      "source": [
        "a = np.array([[1], [2], [3]])\n",
        "print(a)\n",
        "print(a.shape)\n",
        "b = np.array([[4], [5], [6]])\n",
        "print(\"-\"*50)\n",
        "print(b)\n",
        "np.vstack((a, b))"
      ]
    },
    {
      "cell_type": "code",
      "execution_count": null,
      "id": "99047950",
      "metadata": {
        "id": "99047950",
        "outputId": "4553ee51-c68e-4269-f4fc-93965e6a61e8"
      },
      "outputs": [
        {
          "name": "stdout",
          "output_type": "stream",
          "text": [
            "[1 2 3 4 5 6]\n"
          ]
        }
      ],
      "source": [
        "a = np.array([1, 2, 3])\n",
        "b = np.array([4, 5, 6])\n",
        "print(np.hstack((a, b)))"
      ]
    },
    {
      "cell_type": "code",
      "execution_count": null,
      "id": "2bb0997b",
      "metadata": {
        "id": "2bb0997b"
      },
      "outputs": [],
      "source": [
        "# Broadcasting "
      ]
    },
    {
      "cell_type": "markdown",
      "id": "14a4c845",
      "metadata": {
        "id": "14a4c845"
      },
      "source": [
        "# Broadcasting\n",
        "\n",
        "## Rules\n",
        "\n",
        "### For each dimension ( going from right side)\n",
        "#### 1. The size of each dimension should be same OR\n",
        "#### 2. The size of one dimension should be 1\n",
        "\n",
        "\n",
        "##### Rule 1 : If two array differ in the number of dimensions, the shape of one with fewer dimensions is padded with ones on its leading( Left Side).\n",
        "##### Rule 2 : If the shape of two arrays doesnt match in any dimensions, the array with shape equal to 1 is stretched to match the other shape.\n",
        "##### Rule 3 : If in any dimesion the sizes disagree and neither equal to 1 , then Error is raised.\n"
      ]
    },
    {
      "cell_type": "code",
      "execution_count": null,
      "id": "401e90b3",
      "metadata": {
        "id": "401e90b3",
        "outputId": "15b4c6e7-fd1b-4bbe-ed77-878431fa5e87"
      },
      "outputs": [
        {
          "data": {
            "text/plain": [
              "array([3, 4, 5, 6])"
            ]
          },
          "execution_count": 100,
          "metadata": {},
          "output_type": "execute_result"
        }
      ],
      "source": [
        "a=np.arange(1,5)\n",
        "a+2"
      ]
    },
    {
      "cell_type": "code",
      "execution_count": null,
      "id": "aa070d30",
      "metadata": {
        "id": "aa070d30",
        "outputId": "39467e98-18f8-4b01-9e83-662f19febe11"
      },
      "outputs": [
        {
          "name": "stdout",
          "output_type": "stream",
          "text": [
            "[[1 2]\n",
            " [3 4]\n",
            " [5 6]]\n",
            "(3, 2)\n",
            "2\n",
            "--------------------------------------------------\n",
            "[1 2]\n",
            "(2,)\n",
            "1\n"
          ]
        }
      ],
      "source": [
        "b=np.arange(1,7).reshape((3,2))\n",
        "c=np.arange(1,3)\n",
        "\n",
        "print(b)\n",
        "print(b.shape)\n",
        "print(b.ndim)\n",
        "print(\"-\"*50)\n",
        "print(c)\n",
        "print(c.shape)\n",
        "print(c.ndim)"
      ]
    },
    {
      "cell_type": "code",
      "execution_count": null,
      "id": "127715b7",
      "metadata": {
        "id": "127715b7",
        "outputId": "e558adde-12c5-417a-dbfe-0300f597131f"
      },
      "outputs": [
        {
          "data": {
            "text/plain": [
              "array([[2, 4],\n",
              "       [4, 6],\n",
              "       [6, 8]])"
            ]
          },
          "execution_count": 103,
          "metadata": {},
          "output_type": "execute_result"
        }
      ],
      "source": [
        "b+c"
      ]
    },
    {
      "cell_type": "code",
      "execution_count": null,
      "id": "ad613f40",
      "metadata": {
        "id": "ad613f40",
        "outputId": "b730a11d-c6be-42d0-d09d-776cdcce2995"
      },
      "outputs": [
        {
          "name": "stdout",
          "output_type": "stream",
          "text": [
            "[1 2 3]\n"
          ]
        }
      ],
      "source": [
        "d=np.arange(1,4)\n",
        "print(d)"
      ]
    },
    {
      "cell_type": "code",
      "execution_count": null,
      "id": "37e7c65c",
      "metadata": {
        "id": "37e7c65c",
        "outputId": "6f59de6e-2f6f-4531-9765-b2bb6fa823ba"
      },
      "outputs": [
        {
          "ename": "ValueError",
          "evalue": "operands could not be broadcast together with shapes (3,2) (3,) ",
          "output_type": "error",
          "traceback": [
            "\u001b[0;31m---------------------------------------------------------------------------\u001b[0m",
            "\u001b[0;31mValueError\u001b[0m                                Traceback (most recent call last)",
            "\u001b[0;32m/var/folders/hd/9z4dczb56dj54lb7q8w7s4zw0000gn/T/ipykernel_75109/1684982541.py\u001b[0m in \u001b[0;36m<module>\u001b[0;34m\u001b[0m\n\u001b[0;32m----> 1\u001b[0;31m \u001b[0mb\u001b[0m\u001b[0;34m+\u001b[0m\u001b[0md\u001b[0m\u001b[0;34m\u001b[0m\u001b[0;34m\u001b[0m\u001b[0m\n\u001b[0m",
            "\u001b[0;31mValueError\u001b[0m: operands could not be broadcast together with shapes (3,2) (3,) "
          ]
        }
      ],
      "source": [
        "b+d"
      ]
    },
    {
      "cell_type": "code",
      "execution_count": null,
      "id": "86382a3f",
      "metadata": {
        "id": "86382a3f",
        "outputId": "47a8ee3a-86be-4bd7-b843-08071b0f2f41"
      },
      "outputs": [
        {
          "name": "stdout",
          "output_type": "stream",
          "text": [
            "[[1 2]\n",
            " [3 4]\n",
            " [5 6]]\n",
            "[[10 20]\n",
            " [30 40]]\n"
          ]
        }
      ],
      "source": [
        "a=np.arange(1,7).reshape((3,2))\n",
        "b=np.array([10,20,30,40]).reshape((2,2))\n",
        "print(a)\n",
        "print(b)"
      ]
    },
    {
      "cell_type": "code",
      "execution_count": null,
      "id": "f2eeaec1",
      "metadata": {
        "id": "f2eeaec1",
        "outputId": "4ac1699c-f48c-41bd-89c0-ddc1d9156017"
      },
      "outputs": [
        {
          "ename": "ValueError",
          "evalue": "operands could not be broadcast together with shapes (3,2) (2,2) ",
          "output_type": "error",
          "traceback": [
            "\u001b[0;31m---------------------------------------------------------------------------\u001b[0m",
            "\u001b[0;31mValueError\u001b[0m                                Traceback (most recent call last)",
            "\u001b[0;32m/var/folders/hd/9z4dczb56dj54lb7q8w7s4zw0000gn/T/ipykernel_75109/3553919051.py\u001b[0m in \u001b[0;36m<module>\u001b[0;34m\u001b[0m\n\u001b[0;32m----> 1\u001b[0;31m \u001b[0ma\u001b[0m\u001b[0;34m+\u001b[0m\u001b[0mb\u001b[0m\u001b[0;34m\u001b[0m\u001b[0;34m\u001b[0m\u001b[0m\n\u001b[0m",
            "\u001b[0;31mValueError\u001b[0m: operands could not be broadcast together with shapes (3,2) (2,2) "
          ]
        }
      ],
      "source": [
        "a+b"
      ]
    },
    {
      "cell_type": "code",
      "execution_count": null,
      "id": "0d852ac4",
      "metadata": {
        "id": "0d852ac4",
        "outputId": "fda1e70a-06a3-4776-a72d-df09bbdb0819"
      },
      "outputs": [
        {
          "name": "stdout",
          "output_type": "stream",
          "text": [
            "[[1 2 3]]\n",
            "(1, 3)\n",
            "2\n",
            "--------------------------------------------------\n",
            "[[10]\n",
            " [20]\n",
            " [30]]\n",
            "(3, 1)\n",
            "2\n"
          ]
        }
      ],
      "source": [
        "a=np.array([[1,2,3]])\n",
        "b=np.array([[10],[20],[30]])\n",
        "print(a)\n",
        "print(a.shape)\n",
        "print(a.ndim)\n",
        "print(\"-\"*50)\n",
        "print(b)\n",
        "print(b.shape)\n",
        "print(b.ndim)"
      ]
    },
    {
      "cell_type": "code",
      "execution_count": null,
      "id": "202d11de",
      "metadata": {
        "id": "202d11de",
        "outputId": "68d3026a-0cef-4738-85d7-742bbd61d56a"
      },
      "outputs": [
        {
          "data": {
            "text/plain": [
              "array([[11, 12, 13],\n",
              "       [21, 22, 23],\n",
              "       [31, 32, 33]])"
            ]
          },
          "execution_count": 112,
          "metadata": {},
          "output_type": "execute_result"
        }
      ],
      "source": [
        "a+b"
      ]
    },
    {
      "cell_type": "code",
      "execution_count": null,
      "id": "482273a4",
      "metadata": {
        "id": "482273a4",
        "outputId": "b9893982-00c5-4905-be8c-44b2daa54aa8"
      },
      "outputs": [
        {
          "name": "stdout",
          "output_type": "stream",
          "text": [
            "[[1 2 3 4]]\n",
            "(1, 4)\n",
            "2\n",
            "--------------------------------------------------\n",
            "[[1]\n",
            " [2]\n",
            " [3]\n",
            " [4]\n",
            " [5]]\n",
            "(5, 1)\n",
            "2\n"
          ]
        }
      ],
      "source": [
        "a=np.arange(1,5).reshape((1,4))\n",
        "b=np.arange(1,6).reshape((5,1))\n",
        "print(a)\n",
        "print(a.shape)\n",
        "print(a.ndim)\n",
        "print(\"-\"*50)\n",
        "print(b)\n",
        "print(b.shape)\n",
        "print(b.ndim)"
      ]
    },
    {
      "cell_type": "code",
      "execution_count": null,
      "id": "4584ce46",
      "metadata": {
        "id": "4584ce46",
        "outputId": "732ac8fe-cfc7-4f05-9906-fe9596040897"
      },
      "outputs": [
        {
          "data": {
            "text/plain": [
              "array([[2, 3, 4, 5],\n",
              "       [3, 4, 5, 6],\n",
              "       [4, 5, 6, 7],\n",
              "       [5, 6, 7, 8],\n",
              "       [6, 7, 8, 9]])"
            ]
          },
          "execution_count": 114,
          "metadata": {},
          "output_type": "execute_result"
        }
      ],
      "source": [
        "a+b"
      ]
    },
    {
      "cell_type": "code",
      "execution_count": null,
      "id": "5ac84366",
      "metadata": {
        "id": "5ac84366",
        "outputId": "978e10d6-f388-4393-c9cb-a187b6d0de8f"
      },
      "outputs": [
        {
          "name": "stdout",
          "output_type": "stream",
          "text": [
            "[[1 2 3 4]\n",
            " [5 6 7 8]]\n",
            "(2, 4)\n",
            "2\n",
            "--------------------------------------------------\n",
            "[[1]\n",
            " [2]\n",
            " [3]\n",
            " [4]\n",
            " [5]]\n",
            "(5, 1)\n",
            "2\n"
          ]
        }
      ],
      "source": [
        "a=np.arange(1,9).reshape((2,4))\n",
        "b=np.arange(1,6).reshape((5,1))\n",
        "print(a)\n",
        "print(a.shape)\n",
        "print(a.ndim)\n",
        "print(\"-\"*50)\n",
        "print(b)\n",
        "print(b.shape)\n",
        "print(b.ndim)"
      ]
    },
    {
      "cell_type": "code",
      "execution_count": null,
      "id": "5a8236c8",
      "metadata": {
        "id": "5a8236c8",
        "outputId": "def5921f-8925-4f7e-c2f1-b12898fe77dc"
      },
      "outputs": [
        {
          "ename": "ValueError",
          "evalue": "operands could not be broadcast together with shapes (2,4) (5,1) ",
          "output_type": "error",
          "traceback": [
            "\u001b[0;31m---------------------------------------------------------------------------\u001b[0m",
            "\u001b[0;31mValueError\u001b[0m                                Traceback (most recent call last)",
            "\u001b[0;32m/var/folders/hd/9z4dczb56dj54lb7q8w7s4zw0000gn/T/ipykernel_75109/3553919051.py\u001b[0m in \u001b[0;36m<module>\u001b[0;34m\u001b[0m\n\u001b[0;32m----> 1\u001b[0;31m \u001b[0ma\u001b[0m\u001b[0;34m+\u001b[0m\u001b[0mb\u001b[0m\u001b[0;34m\u001b[0m\u001b[0;34m\u001b[0m\u001b[0m\n\u001b[0m",
            "\u001b[0;31mValueError\u001b[0m: operands could not be broadcast together with shapes (2,4) (5,1) "
          ]
        }
      ],
      "source": [
        "a+b"
      ]
    },
    {
      "cell_type": "code",
      "execution_count": null,
      "id": "dc5204fb",
      "metadata": {
        "id": "dc5204fb",
        "outputId": "80a9e027-6f6f-4588-95a7-a9534ad997c0"
      },
      "outputs": [
        {
          "name": "stdout",
          "output_type": "stream",
          "text": [
            "[[1 2]\n",
            " [3 4]\n",
            " [5 6]]\n",
            "(3, 2)\n",
            "2\n",
            "--------------------------------------------------\n",
            "[[ 1  2]\n",
            " [ 3  4]\n",
            " [ 5  6]\n",
            " [ 7  8]\n",
            " [ 9 10]\n",
            " [11 12]]\n",
            "(6, 2)\n",
            "2\n"
          ]
        }
      ],
      "source": [
        "a=np.arange(1,7).reshape((3,2))\n",
        "b=np.arange(1,13).reshape((6,2))\n",
        "print(a)\n",
        "print(a.shape)\n",
        "print(a.ndim)\n",
        "print(\"-\"*50)\n",
        "print(b)\n",
        "print(b.shape)\n",
        "print(b.ndim)"
      ]
    },
    {
      "cell_type": "code",
      "execution_count": null,
      "id": "94685e1a",
      "metadata": {
        "id": "94685e1a",
        "outputId": "f24eb58f-e673-4872-ac5a-7b3e8823f9f0"
      },
      "outputs": [
        {
          "ename": "ValueError",
          "evalue": "operands could not be broadcast together with shapes (3,2) (6,2) ",
          "output_type": "error",
          "traceback": [
            "\u001b[0;31m---------------------------------------------------------------------------\u001b[0m",
            "\u001b[0;31mValueError\u001b[0m                                Traceback (most recent call last)",
            "\u001b[0;32m/var/folders/hd/9z4dczb56dj54lb7q8w7s4zw0000gn/T/ipykernel_75109/3553919051.py\u001b[0m in \u001b[0;36m<module>\u001b[0;34m\u001b[0m\n\u001b[0;32m----> 1\u001b[0;31m \u001b[0ma\u001b[0m\u001b[0;34m+\u001b[0m\u001b[0mb\u001b[0m\u001b[0;34m\u001b[0m\u001b[0;34m\u001b[0m\u001b[0m\n\u001b[0m",
            "\u001b[0;31mValueError\u001b[0m: operands could not be broadcast together with shapes (3,2) (6,2) "
          ]
        }
      ],
      "source": [
        "a+b"
      ]
    },
    {
      "cell_type": "markdown",
      "id": "d0b18fd2",
      "metadata": {
        "id": "d0b18fd2"
      },
      "source": [
        "![Broadcasting.png](attachment:Broadcasting.png)\n"
      ]
    },
    {
      "cell_type": "code",
      "execution_count": null,
      "id": "cc71f9ad",
      "metadata": {
        "id": "cc71f9ad"
      },
      "outputs": [],
      "source": [
        "A = np.arange(12).reshape(3, 4)\n",
        "B = np.array([1, 2, 3])"
      ]
    },
    {
      "cell_type": "code",
      "execution_count": null,
      "id": "02ec45b6",
      "metadata": {
        "id": "02ec45b6",
        "outputId": "9b9e49b0-3a4e-4644-de6d-995aff68005a"
      },
      "outputs": [
        {
          "ename": "ValueError",
          "evalue": "operands could not be broadcast together with shapes (3,4) (3,) ",
          "output_type": "error",
          "traceback": [
            "\u001b[0;31m---------------------------------------------------------------------------\u001b[0m",
            "\u001b[0;31mValueError\u001b[0m                                Traceback (most recent call last)",
            "\u001b[0;32m/var/folders/hd/9z4dczb56dj54lb7q8w7s4zw0000gn/T/ipykernel_75109/3267467007.py\u001b[0m in \u001b[0;36m<module>\u001b[0;34m\u001b[0m\n\u001b[0;32m----> 1\u001b[0;31m \u001b[0mA\u001b[0m\u001b[0;34m+\u001b[0m\u001b[0mB\u001b[0m\u001b[0;34m\u001b[0m\u001b[0;34m\u001b[0m\u001b[0m\n\u001b[0m",
            "\u001b[0;31mValueError\u001b[0m: operands could not be broadcast together with shapes (3,4) (3,) "
          ]
        }
      ],
      "source": [
        "A+B"
      ]
    },
    {
      "cell_type": "code",
      "execution_count": null,
      "id": "be277975",
      "metadata": {
        "id": "be277975"
      },
      "outputs": [],
      "source": [
        "(2,1) & (1,3)"
      ]
    },
    {
      "cell_type": "code",
      "execution_count": null,
      "id": "24658405",
      "metadata": {
        "id": "24658405",
        "outputId": "c12201e3-dc45-43f9-a712-df2e9ace8cea"
      },
      "outputs": [
        {
          "name": "stdout",
          "output_type": "stream",
          "text": [
            "[[1]\n",
            " [2]]\n",
            "(2, 1)\n",
            "2\n",
            "--------------------------------------------------\n",
            "[[1 2 3]]\n",
            "(1, 3)\n",
            "2\n"
          ]
        }
      ],
      "source": [
        "a=np.arange(1,3).reshape((2,1))\n",
        "b=np.arange(1,4).reshape((1,3))\n",
        "print(a)\n",
        "print(a.shape)\n",
        "print(a.ndim)\n",
        "print(\"-\"*50)\n",
        "print(b)\n",
        "print(b.shape)\n",
        "print(b.ndim)"
      ]
    },
    {
      "cell_type": "code",
      "execution_count": null,
      "id": "b835dcb2",
      "metadata": {
        "id": "b835dcb2",
        "outputId": "5cbc4de5-3712-474e-ac11-b1cdc10eef4e"
      },
      "outputs": [
        {
          "data": {
            "text/plain": [
              "array([[2, 3, 4],\n",
              "       [3, 4, 5]])"
            ]
          },
          "execution_count": 124,
          "metadata": {},
          "output_type": "execute_result"
        }
      ],
      "source": [
        "a+b"
      ]
    },
    {
      "cell_type": "code",
      "execution_count": null,
      "id": "9739ca8f",
      "metadata": {
        "id": "9739ca8f"
      },
      "outputs": [],
      "source": [
        "a=np.array([4,2,31,15])\n",
        "b=np.array([2,4,15,31])\n",
        "c=np.array([1,0,3,2])\n",
        "d=np.array([8,5,2,7])"
      ]
    },
    {
      "cell_type": "code",
      "execution_count": null,
      "id": "487bbc67",
      "metadata": {
        "id": "487bbc67",
        "outputId": "33c29622-bdab-46c3-fb53-d347af3bb4e1"
      },
      "outputs": [
        {
          "data": {
            "text/plain": [
              "array([5, 8, 7, 2])"
            ]
          },
          "execution_count": 128,
          "metadata": {},
          "output_type": "execute_result"
        }
      ],
      "source": [
        "d[[1,0,3,2]]"
      ]
    },
    {
      "cell_type": "code",
      "execution_count": null,
      "id": "8aa997a9",
      "metadata": {
        "id": "8aa997a9",
        "outputId": "5354160e-f478-448f-c24c-a2c5c9eb07d6"
      },
      "outputs": [
        {
          "data": {
            "text/plain": [
              "array([[23, 54, 76],\n",
              "       [76, 45, 12],\n",
              "       [56, 87, 90]])"
            ]
          },
          "execution_count": 130,
          "metadata": {},
          "output_type": "execute_result"
        }
      ],
      "source": [
        "a=np.array([[23,54,76],[76,45,12],[56,87,90]])\n",
        "a"
      ]
    },
    {
      "cell_type": "code",
      "execution_count": null,
      "id": "8adb66e2",
      "metadata": {
        "id": "8adb66e2"
      },
      "outputs": [],
      "source": [
        "a.flatten()"
      ]
    },
    {
      "cell_type": "code",
      "execution_count": null,
      "id": "20ba3b1a",
      "metadata": {
        "id": "20ba3b1a"
      },
      "outputs": [],
      "source": [
        "np.sort()"
      ]
    },
    {
      "cell_type": "code",
      "execution_count": null,
      "id": "39fa6f95",
      "metadata": {
        "id": "39fa6f95"
      },
      "outputs": [],
      "source": [
        ""
      ]
    },
    {
      "cell_type": "code",
      "execution_count": null,
      "id": "d83c60ce",
      "metadata": {
        "id": "d83c60ce"
      },
      "outputs": [],
      "source": [
        ""
      ]
    },
    {
      "cell_type": "code",
      "execution_count": null,
      "id": "67177d8b",
      "metadata": {
        "id": "67177d8b"
      },
      "outputs": [],
      "source": [
        ""
      ]
    },
    {
      "cell_type": "code",
      "execution_count": null,
      "id": "1f11107a",
      "metadata": {
        "id": "1f11107a"
      },
      "outputs": [],
      "source": [
        ""
      ]
    },
    {
      "cell_type": "code",
      "execution_count": null,
      "id": "54fe044f",
      "metadata": {
        "id": "54fe044f"
      },
      "outputs": [],
      "source": [
        ""
      ]
    },
    {
      "cell_type": "code",
      "execution_count": null,
      "id": "62beda8f",
      "metadata": {
        "id": "62beda8f"
      },
      "outputs": [],
      "source": [
        ""
      ]
    },
    {
      "cell_type": "code",
      "execution_count": null,
      "id": "3f1f1902",
      "metadata": {
        "id": "3f1f1902"
      },
      "outputs": [],
      "source": [
        ""
      ]
    },
    {
      "cell_type": "code",
      "execution_count": null,
      "id": "b01508a8",
      "metadata": {
        "id": "b01508a8"
      },
      "outputs": [],
      "source": [
        ""
      ]
    },
    {
      "cell_type": "code",
      "execution_count": null,
      "id": "2ac034f5",
      "metadata": {
        "id": "2ac034f5"
      },
      "outputs": [],
      "source": [
        ""
      ]
    },
    {
      "cell_type": "code",
      "execution_count": null,
      "id": "99c991bc",
      "metadata": {
        "id": "99c991bc"
      },
      "outputs": [],
      "source": [
        ""
      ]
    },
    {
      "cell_type": "code",
      "execution_count": null,
      "id": "730769f0",
      "metadata": {
        "id": "730769f0"
      },
      "outputs": [],
      "source": [
        ""
      ]
    }
  ],
  "metadata": {
    "kernelspec": {
      "display_name": "Python 3 (ipykernel)",
      "language": "python",
      "name": "python3"
    },
    "language_info": {
      "codemirror_mode": {
        "name": "ipython",
        "version": 3
      },
      "file_extension": ".py",
      "mimetype": "text/x-python",
      "name": "python",
      "nbconvert_exporter": "python",
      "pygments_lexer": "ipython3",
      "version": "3.9.7"
    },
    "colab": {
      "name": "Numpy-3.ipynb",
      "provenance": [],
      "include_colab_link": true
    }
  },
  "nbformat": 4,
  "nbformat_minor": 5
}