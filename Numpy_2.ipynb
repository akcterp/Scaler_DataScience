{
  "cells": [
    {
      "cell_type": "markdown",
      "metadata": {
        "id": "view-in-github",
        "colab_type": "text"
      },
      "source": [
        "<a href=\"https://colab.research.google.com/github/akcterp/Scaler_DataScience/blob/main/Numpy_2.ipynb\" target=\"_parent\"><img src=\"https://colab.research.google.com/assets/colab-badge.svg\" alt=\"Open In Colab\"/></a>"
      ]
    },
    {
      "cell_type": "code",
      "execution_count": 1,
      "id": "399090e8",
      "metadata": {
        "id": "399090e8",
        "outputId": "feffbc39-6569-4de2-b013-fbf312cd0cc0",
        "colab": {
          "base_uri": "https://localhost:8080/"
        }
      },
      "outputs": [
        {
          "output_type": "stream",
          "name": "stdout",
          "text": [
            "Welcome to Numpy-2\n"
          ]
        }
      ],
      "source": [
        "print(\"Welcome to Numpy-2\")"
      ]
    },
    {
      "cell_type": "code",
      "execution_count": 2,
      "id": "9c78a631",
      "metadata": {
        "id": "9c78a631"
      },
      "outputs": [],
      "source": [
        "import numpy as np"
      ]
    },
    {
      "cell_type": "code",
      "execution_count": 3,
      "id": "6467d875",
      "metadata": {
        "id": "6467d875",
        "outputId": "905376c7-7221-4415-bc5d-3d91ef587e32",
        "colab": {
          "base_uri": "https://localhost:8080/"
        }
      },
      "outputs": [
        {
          "output_type": "stream",
          "name": "stdout",
          "text": [
            "[[ 1  2  3  4]\n",
            " [ 5  6  7  8]\n",
            " [ 9 10 11 12]]\n"
          ]
        },
        {
          "output_type": "execute_result",
          "data": {
            "text/plain": [
              "array([[ 4,  3,  2,  1],\n",
              "       [ 8,  7,  6,  5],\n",
              "       [12, 11, 10,  9]])"
            ]
          },
          "metadata": {},
          "execution_count": 3
        }
      ],
      "source": [
        "a=np.arange(1,13).reshape((3,4))\n",
        "print(a)\n",
        "a[:,::-1]"
      ]
    },
    {
      "cell_type": "code",
      "execution_count": 4,
      "id": "3e71ef04",
      "metadata": {
        "id": "3e71ef04",
        "outputId": "2c33ac36-d3d0-4f9f-8e12-684e72753326",
        "colab": {
          "base_uri": "https://localhost:8080/"
        }
      },
      "outputs": [
        {
          "output_type": "stream",
          "name": "stdout",
          "text": [
            "[[ 1  2  3  4]\n",
            " [ 5  6  7  8]\n",
            " [ 9 10 11 12]]\n"
          ]
        }
      ],
      "source": [
        "a=np.arange(1,13).reshape((3,4))\n",
        "print(a)"
      ]
    },
    {
      "cell_type": "code",
      "execution_count": 5,
      "id": "011c665b",
      "metadata": {
        "id": "011c665b",
        "outputId": "637a1594-a1a7-4e0b-c982-402dcc2212c8",
        "colab": {
          "base_uri": "https://localhost:8080/"
        }
      },
      "outputs": [
        {
          "output_type": "execute_result",
          "data": {
            "text/plain": [
              "78"
            ]
          },
          "metadata": {},
          "execution_count": 5
        }
      ],
      "source": [
        "# gives us the sum of all the values present in the numpy array\n",
        "np.sum(a)"
      ]
    },
    {
      "cell_type": "code",
      "execution_count": 6,
      "id": "131ce69e",
      "metadata": {
        "id": "131ce69e",
        "outputId": "fd35bbd3-2fbf-42d5-fb88-50aa917d26f2",
        "colab": {
          "base_uri": "https://localhost:8080/"
        }
      },
      "outputs": [
        {
          "output_type": "execute_result",
          "data": {
            "text/plain": [
              "array([10, 26, 42])"
            ]
          },
          "metadata": {},
          "execution_count": 6
        }
      ],
      "source": [
        "# axis = 1 ---> for horizontal operations \n",
        "# in this case calculating the sum for each row\n",
        "\n",
        "# Method 1\n",
        "np.sum(a,axis=1)"
      ]
    },
    {
      "cell_type": "code",
      "execution_count": 10,
      "id": "ae9c080c",
      "metadata": {
        "id": "ae9c080c",
        "outputId": "e5c0e038-4f45-4507-dbb3-c91a767a8af0",
        "colab": {
          "base_uri": "https://localhost:8080/"
        }
      },
      "outputs": [
        {
          "output_type": "execute_result",
          "data": {
            "text/plain": [
              "array([15, 18, 21, 24])"
            ]
          },
          "metadata": {},
          "execution_count": 10
        }
      ],
      "source": [
        "# axis = 0 ---> for vertical operations \n",
        "# in this case calculating the sum for each column\n",
        "np.sum(a,axis=0)"
      ]
    },
    {
      "cell_type": "code",
      "execution_count": 11,
      "id": "496fac1c",
      "metadata": {
        "id": "496fac1c",
        "outputId": "bdc73d9e-c97a-48f0-b0ca-97efd16ebcc3",
        "colab": {
          "base_uri": "https://localhost:8080/"
        }
      },
      "outputs": [
        {
          "output_type": "execute_result",
          "data": {
            "text/plain": [
              "array([10, 26, 42])"
            ]
          },
          "metadata": {},
          "execution_count": 11
        }
      ],
      "source": [
        "# Method 2 \n",
        "a.sum(axis=1)"
      ]
    },
    {
      "cell_type": "code",
      "execution_count": 12,
      "id": "822159e8",
      "metadata": {
        "id": "822159e8",
        "outputId": "eef982d1-2233-44fe-d7d5-ac5c2ed12cb2",
        "colab": {
          "base_uri": "https://localhost:8080/"
        }
      },
      "outputs": [
        {
          "output_type": "execute_result",
          "data": {
            "text/plain": [
              "array([15, 18, 21, 24])"
            ]
          },
          "metadata": {},
          "execution_count": 12
        }
      ],
      "source": [
        "a.sum(axis=0)"
      ]
    },
    {
      "cell_type": "code",
      "execution_count": 13,
      "id": "8437beaa",
      "metadata": {
        "id": "8437beaa",
        "outputId": "627c333f-5c6e-452c-dc95-02ed977382e0",
        "colab": {
          "base_uri": "https://localhost:8080/"
        }
      },
      "outputs": [
        {
          "output_type": "execute_result",
          "data": {
            "text/plain": [
              "array([5., 6., 7., 8.])"
            ]
          },
          "metadata": {},
          "execution_count": 13
        }
      ],
      "source": [
        "# we can calculate mean across rows and columns based on the axis chosen.\n",
        "np.mean(a,axis=0)"
      ]
    },
    {
      "cell_type": "code",
      "execution_count": 14,
      "id": "7824cd06",
      "metadata": {
        "id": "7824cd06",
        "outputId": "09440de0-7724-4687-c501-021507b41e94",
        "colab": {
          "base_uri": "https://localhost:8080/"
        }
      },
      "outputs": [
        {
          "output_type": "execute_result",
          "data": {
            "text/plain": [
              "array([1, 2, 3, 4])"
            ]
          },
          "metadata": {},
          "execution_count": 14
        }
      ],
      "source": [
        "np.min(a,axis=0)"
      ]
    },
    {
      "cell_type": "code",
      "execution_count": 15,
      "id": "4a3136b7",
      "metadata": {
        "id": "4a3136b7",
        "outputId": "3c611f5c-e4a7-472c-80b5-63fde30db831",
        "colab": {
          "base_uri": "https://localhost:8080/"
        }
      },
      "outputs": [
        {
          "output_type": "execute_result",
          "data": {
            "text/plain": [
              "array([1, 5, 9])"
            ]
          },
          "metadata": {},
          "execution_count": 15
        }
      ],
      "source": [
        "np.min(a,axis=1)"
      ]
    },
    {
      "cell_type": "code",
      "execution_count": 16,
      "id": "212eb0bb",
      "metadata": {
        "id": "212eb0bb",
        "outputId": "2647d5d3-8b44-4a19-e795-01ca5826b41b",
        "colab": {
          "base_uri": "https://localhost:8080/"
        }
      },
      "outputs": [
        {
          "output_type": "execute_result",
          "data": {
            "text/plain": [
              "1"
            ]
          },
          "metadata": {},
          "execution_count": 16
        }
      ],
      "source": [
        "# calculating min values\n",
        "np.min(a)"
      ]
    },
    {
      "cell_type": "code",
      "execution_count": 17,
      "id": "b4774f56",
      "metadata": {
        "id": "b4774f56",
        "outputId": "a9d57770-8870-4765-eb27-1841a3729b31",
        "colab": {
          "base_uri": "https://localhost:8080/"
        }
      },
      "outputs": [
        {
          "output_type": "execute_result",
          "data": {
            "text/plain": [
              "1"
            ]
          },
          "metadata": {},
          "execution_count": 17
        }
      ],
      "source": [
        "np.min(a[0])"
      ]
    },
    {
      "cell_type": "code",
      "execution_count": 18,
      "id": "8a0d7af0",
      "metadata": {
        "id": "8a0d7af0",
        "outputId": "14f95c48-4ab6-4e71-f49a-a56c12de93a5",
        "colab": {
          "base_uri": "https://localhost:8080/"
        }
      },
      "outputs": [
        {
          "output_type": "execute_result",
          "data": {
            "text/plain": [
              "6.5"
            ]
          },
          "metadata": {},
          "execution_count": 18
        }
      ],
      "source": [
        "np.mean(a)"
      ]
    },
    {
      "cell_type": "code",
      "execution_count": 19,
      "id": "6158d2ca",
      "metadata": {
        "id": "6158d2ca",
        "outputId": "16c577a3-2c65-4fe0-9c84-a5ad7d0531ac",
        "colab": {
          "base_uri": "https://localhost:8080/"
        }
      },
      "outputs": [
        {
          "output_type": "execute_result",
          "data": {
            "text/plain": [
              "True"
            ]
          },
          "metadata": {},
          "execution_count": 19
        }
      ],
      "source": [
        "# np.any tries to find out for atleast one non zero value in the array\n",
        "a=np.array([True,False,True])\n",
        "np.any(a)"
      ]
    },
    {
      "cell_type": "code",
      "execution_count": 20,
      "id": "1ee67da2",
      "metadata": {
        "id": "1ee67da2",
        "outputId": "43aef814-3a70-467b-e489-40b89fac2a59",
        "colab": {
          "base_uri": "https://localhost:8080/"
        }
      },
      "outputs": [
        {
          "output_type": "execute_result",
          "data": {
            "text/plain": [
              "False"
            ]
          },
          "metadata": {},
          "execution_count": 20
        }
      ],
      "source": [
        "b=np.zeros(10)\n",
        "np.any(b)"
      ]
    },
    {
      "cell_type": "code",
      "execution_count": 21,
      "id": "81807b21",
      "metadata": {
        "id": "81807b21",
        "outputId": "e1b49f09-a678-4b64-9469-8d87f21bfe65",
        "colab": {
          "base_uri": "https://localhost:8080/"
        }
      },
      "outputs": [
        {
          "output_type": "execute_result",
          "data": {
            "text/plain": [
              "array([False, False,  True,  True])"
            ]
          },
          "metadata": {},
          "execution_count": 21
        }
      ],
      "source": [
        "m=np.array([4,3,2,1])\n",
        "n=np.array([1,2,3,4])\n",
        "mask=m<n\n",
        "mask"
      ]
    },
    {
      "cell_type": "code",
      "execution_count": 22,
      "id": "0f32fceb",
      "metadata": {
        "id": "0f32fceb",
        "outputId": "de6d5c9b-7326-46af-e005-a00b600f1267",
        "colab": {
          "base_uri": "https://localhost:8080/"
        }
      },
      "outputs": [
        {
          "output_type": "execute_result",
          "data": {
            "text/plain": [
              "True"
            ]
          },
          "metadata": {},
          "execution_count": 22
        }
      ],
      "source": [
        "# passing conditions inside np.any to look for atleast 1 non zero value.\n",
        "np.any(m<n)"
      ]
    },
    {
      "cell_type": "code",
      "execution_count": 23,
      "id": "709cf5dc",
      "metadata": {
        "id": "709cf5dc",
        "outputId": "11771b2f-073c-4921-ab5d-f9e69e3328f9",
        "colab": {
          "base_uri": "https://localhost:8080/"
        }
      },
      "outputs": [
        {
          "output_type": "stream",
          "name": "stdout",
          "text": [
            "[ True False False False]\n"
          ]
        },
        {
          "output_type": "execute_result",
          "data": {
            "text/plain": [
              "True"
            ]
          },
          "metadata": {},
          "execution_count": 23
        }
      ],
      "source": [
        "m=np.array([4,3,2,1])\n",
        "n=np.array([4,2,3,4])\n",
        "print(m==n)\n",
        "np.any(m==n)"
      ]
    },
    {
      "cell_type": "code",
      "execution_count": 24,
      "id": "de303490",
      "metadata": {
        "id": "de303490",
        "outputId": "2e9548ea-52c9-4cb1-c8ea-0bea066a7cff",
        "colab": {
          "base_uri": "https://localhost:8080/"
        }
      },
      "outputs": [
        {
          "output_type": "stream",
          "name": "stdout",
          "text": [
            "[[ 1  2  3  4]\n",
            " [ 5  6  7  8]\n",
            " [ 9 10 11 12]]\n",
            "[[ 2  3  4  5]\n",
            " [ 6  7  8  9]\n",
            " [10 11 12 13]]\n"
          ]
        }
      ],
      "source": [
        "g=np.arange(1,13).reshape((3,4))\n",
        "h=np.arange(2,14).reshape((3,4))\n",
        "print(g)\n",
        "print(h)"
      ]
    },
    {
      "cell_type": "code",
      "execution_count": 25,
      "id": "009cc66a",
      "metadata": {
        "id": "009cc66a",
        "outputId": "09605826-db3a-4a9c-f05c-83e7a18e189b",
        "colab": {
          "base_uri": "https://localhost:8080/"
        }
      },
      "outputs": [
        {
          "output_type": "execute_result",
          "data": {
            "text/plain": [
              "False"
            ]
          },
          "metadata": {},
          "execution_count": 25
        }
      ],
      "source": [
        "np.any(h<g)"
      ]
    },
    {
      "cell_type": "code",
      "execution_count": 26,
      "id": "d95255e9",
      "metadata": {
        "id": "d95255e9",
        "outputId": "cbad6456-3ac8-4c40-c679-b61a9bbba14a",
        "colab": {
          "base_uri": "https://localhost:8080/"
        }
      },
      "outputs": [
        {
          "output_type": "execute_result",
          "data": {
            "text/plain": [
              "True"
            ]
          },
          "metadata": {},
          "execution_count": 26
        }
      ],
      "source": [
        "np.any(h<10)"
      ]
    },
    {
      "cell_type": "code",
      "execution_count": 27,
      "id": "ef883781",
      "metadata": {
        "id": "ef883781",
        "outputId": "0f0c615a-d269-45d0-9639-69b699fa4020",
        "colab": {
          "base_uri": "https://localhost:8080/"
        }
      },
      "outputs": [
        {
          "output_type": "execute_result",
          "data": {
            "text/plain": [
              "array([[ True,  True,  True,  True],\n",
              "       [ True,  True,  True,  True],\n",
              "       [False, False, False, False]])"
            ]
          },
          "metadata": {},
          "execution_count": 27
        }
      ],
      "source": [
        "h<10"
      ]
    },
    {
      "cell_type": "code",
      "execution_count": 28,
      "id": "38f25974",
      "metadata": {
        "id": "38f25974",
        "outputId": "23bf016e-a8b7-42cf-9edc-c960e85849bf",
        "colab": {
          "base_uri": "https://localhost:8080/"
        }
      },
      "outputs": [
        {
          "output_type": "execute_result",
          "data": {
            "text/plain": [
              "False"
            ]
          },
          "metadata": {},
          "execution_count": 28
        }
      ],
      "source": [
        "a=np.array([True,False,True])\n",
        "# no.all returns true if all the values are non zero\n",
        "# returns False if all the values atleast value is zero\n",
        "np.all(a)"
      ]
    },
    {
      "cell_type": "code",
      "execution_count": 29,
      "id": "ee1d051f",
      "metadata": {
        "id": "ee1d051f",
        "outputId": "5823ef17-8ddd-46e5-bb4b-67ce01288105",
        "colab": {
          "base_uri": "https://localhost:8080/"
        }
      },
      "outputs": [
        {
          "output_type": "stream",
          "name": "stdout",
          "text": [
            "[[ 1  2  3  4]\n",
            " [ 5  6  7  8]\n",
            " [ 9 10 11 12]]\n",
            "[[ 2  3  4  5]\n",
            " [ 6  7  8  9]\n",
            " [10 11 12 13]]\n"
          ]
        },
        {
          "output_type": "execute_result",
          "data": {
            "text/plain": [
              "True"
            ]
          },
          "metadata": {},
          "execution_count": 29
        }
      ],
      "source": [
        "g=np.arange(1,13).reshape((3,4))\n",
        "h=np.arange(2,14).reshape((3,4))\n",
        "print(g)\n",
        "print(h)\n",
        "np.all(g<h)"
      ]
    },
    {
      "cell_type": "code",
      "execution_count": 30,
      "id": "ae316e21",
      "metadata": {
        "id": "ae316e21",
        "outputId": "b5ac3f7c-37ce-46b5-8c6a-a60996c49cb6",
        "colab": {
          "base_uri": "https://localhost:8080/"
        }
      },
      "outputs": [
        {
          "output_type": "stream",
          "name": "stdout",
          "text": [
            "True\n"
          ]
        }
      ],
      "source": [
        "a=np.array([[1, 2, 3],\n",
        " [4, 5, 6],\n",
        " [7, 8, 9]])\n",
        "\n",
        "b=np.array([[1, 2, 3],\n",
        " [4, 5, 6],\n",
        " [7, 8, 9]])\n",
        "\n",
        "print(np.all(a==b))"
      ]
    },
    {
      "cell_type": "code",
      "execution_count": 31,
      "id": "1803515c",
      "metadata": {
        "id": "1803515c",
        "outputId": "eaadb0d6-d83b-4982-f209-c2bd5981f2a1",
        "colab": {
          "base_uri": "https://localhost:8080/"
        }
      },
      "outputs": [
        {
          "output_type": "stream",
          "name": "stdout",
          "text": [
            "True\n"
          ]
        }
      ],
      "source": [
        "a=np.array([[1, 2, 3],\n",
        " [4, 6, 6],\n",
        " [7, 8, 9]])\n",
        "\n",
        "b=np.array([[1, 2, 3],\n",
        " [4, 5, 6],\n",
        " [7, 8, 9]])\n",
        "\n",
        "print(np.any(a>b))"
      ]
    },
    {
      "cell_type": "code",
      "execution_count": 32,
      "id": "49a7b10a",
      "metadata": {
        "id": "49a7b10a",
        "outputId": "a10f3606-5e97-44aa-82e3-ed54df47058e",
        "colab": {
          "base_uri": "https://localhost:8080/"
        }
      },
      "outputs": [
        {
          "output_type": "execute_result",
          "data": {
            "text/plain": [
              "True"
            ]
          },
          "metadata": {},
          "execution_count": 32
        }
      ],
      "source": [
        "np.any(a==b)"
      ]
    },
    {
      "cell_type": "code",
      "execution_count": 33,
      "id": "cd6889dd",
      "metadata": {
        "id": "cd6889dd",
        "outputId": "1b738e4c-28d4-4668-ba87-1da23bf4085d",
        "colab": {
          "base_uri": "https://localhost:8080/"
        }
      },
      "outputs": [
        {
          "output_type": "execute_result",
          "data": {
            "text/plain": [
              "array([False, False, False])"
            ]
          },
          "metadata": {},
          "execution_count": 33
        }
      ],
      "source": [
        "a = np.array([0,2,3]) \n",
        "b = np.array([1,3,5])  \n",
        "# What'll be the output of a >= b?\n",
        "a >= b"
      ]
    },
    {
      "cell_type": "code",
      "execution_count": 34,
      "id": "a2be9629",
      "metadata": {
        "id": "a2be9629",
        "outputId": "aace95f3-648d-4c27-b2ab-e34c993736ff",
        "colab": {
          "base_uri": "https://localhost:8080/"
        }
      },
      "outputs": [
        {
          "output_type": "execute_result",
          "data": {
            "text/plain": [
              "True"
            ]
          },
          "metadata": {},
          "execution_count": 34
        }
      ],
      "source": [
        "m=np.array([4,3,2,1])\n",
        "n=np.array([4,2,3,4])\n",
        "k=np.array([1,1,1,1])\n",
        "np.any((m<n)|(n>k))"
      ]
    },
    {
      "cell_type": "code",
      "execution_count": null,
      "id": "0ec59cce",
      "metadata": {
        "id": "0ec59cce",
        "outputId": "172b38c1-c864-4f03-cc9d-25be93aa44a9"
      },
      "outputs": [
        {
          "data": {
            "text/plain": [
              "True"
            ]
          },
          "execution_count": 45,
          "metadata": {},
          "output_type": "execute_result"
        }
      ],
      "source": [
        "np.all((m<n)|(n>k))"
      ]
    },
    {
      "cell_type": "code",
      "execution_count": null,
      "id": "6d4a3ef6",
      "metadata": {
        "id": "6d4a3ef6",
        "outputId": "3f503174-e0db-43c4-f32a-a9b96b71a6fd"
      },
      "outputs": [
        {
          "data": {
            "text/plain": [
              "array([False, False,  True,  True])"
            ]
          },
          "execution_count": 42,
          "metadata": {},
          "output_type": "execute_result"
        }
      ],
      "source": [
        "(m<n)"
      ]
    },
    {
      "cell_type": "code",
      "execution_count": null,
      "id": "51a0c57b",
      "metadata": {
        "id": "51a0c57b",
        "outputId": "900b7186-cb78-49ee-8673-c897ad37d48a"
      },
      "outputs": [
        {
          "data": {
            "text/plain": [
              "array([ True,  True,  True,  True])"
            ]
          },
          "execution_count": 43,
          "metadata": {},
          "output_type": "execute_result"
        }
      ],
      "source": [
        "(n>k)"
      ]
    },
    {
      "cell_type": "code",
      "execution_count": null,
      "id": "02879426",
      "metadata": {
        "id": "02879426"
      },
      "outputs": [],
      "source": [
        ""
      ]
    },
    {
      "cell_type": "code",
      "execution_count": null,
      "id": "ac6bbf58",
      "metadata": {
        "id": "ac6bbf58"
      },
      "outputs": [],
      "source": [
        ""
      ]
    },
    {
      "cell_type": "code",
      "execution_count": null,
      "id": "43adc8eb",
      "metadata": {
        "id": "43adc8eb"
      },
      "outputs": [],
      "source": [
        "# Sorting\n"
      ]
    },
    {
      "cell_type": "code",
      "execution_count": 35,
      "id": "ba88717e",
      "metadata": {
        "id": "ba88717e",
        "outputId": "e7d58ba3-3a81-4d21-89ee-024b8c9993b8",
        "colab": {
          "base_uri": "https://localhost:8080/"
        }
      },
      "outputs": [
        {
          "output_type": "execute_result",
          "data": {
            "text/plain": [
              "array([ 1,  7, 17, 21, 30, 41, 52])"
            ]
          },
          "metadata": {},
          "execution_count": 35
        }
      ],
      "source": [
        "l=np.array([21,30,1,41,7,52,17])\n",
        "# sorting 1D array\n",
        "np.sort(l)"
      ]
    },
    {
      "cell_type": "code",
      "execution_count": 36,
      "id": "e3e443ce",
      "metadata": {
        "id": "e3e443ce",
        "outputId": "7f7db5cd-cc47-46ad-8129-006a9a3c40d9",
        "colab": {
          "base_uri": "https://localhost:8080/"
        }
      },
      "outputs": [
        {
          "output_type": "execute_result",
          "data": {
            "text/plain": [
              "array([2, 4, 6, 0, 1, 3, 5])"
            ]
          },
          "metadata": {},
          "execution_count": 36
        }
      ],
      "source": [
        "# argsort returns an array of the indexes of sorted elements in the original unsorted array\n",
        "np.argsort(l)"
      ]
    },
    {
      "cell_type": "code",
      "execution_count": 37,
      "id": "7a86b647",
      "metadata": {
        "id": "7a86b647",
        "outputId": "bf0c0b34-cfcb-480e-bf04-c95bd7ee1456",
        "colab": {
          "base_uri": "https://localhost:8080/"
        }
      },
      "outputs": [
        {
          "output_type": "execute_result",
          "data": {
            "text/plain": [
              "2"
            ]
          },
          "metadata": {},
          "execution_count": 37
        }
      ],
      "source": [
        "\n",
        "# returns the index of min value element in the array\n",
        "np.argmin(l)"
      ]
    },
    {
      "cell_type": "code",
      "execution_count": 40,
      "id": "d86ba0f4",
      "metadata": {
        "id": "d86ba0f4",
        "outputId": "4c03ad3d-22f5-479e-8cab-0649271ce322",
        "colab": {
          "base_uri": "https://localhost:8080/"
        }
      },
      "outputs": [
        {
          "output_type": "execute_result",
          "data": {
            "text/plain": [
              "52"
            ]
          },
          "metadata": {},
          "execution_count": 40
        }
      ],
      "source": [
        "# returns the index of max value element in the array\n",
        "np.argmax(l)\n",
        "l[5]"
      ]
    },
    {
      "cell_type": "code",
      "execution_count": 41,
      "id": "34e72c86",
      "metadata": {
        "id": "34e72c86",
        "outputId": "b5535986-7e05-48e9-a904-543a60d4fc5a",
        "colab": {
          "base_uri": "https://localhost:8080/"
        }
      },
      "outputs": [
        {
          "output_type": "stream",
          "name": "stdout",
          "text": [
            "[[ 32  80  12]\n",
            " [  3   6   9]\n",
            " [ 98  75 110]]\n"
          ]
        }
      ],
      "source": [
        "j=np.array([[32,80,12],[3,6,9],[98,75,110]])\n",
        "print(j)\n"
      ]
    },
    {
      "cell_type": "code",
      "execution_count": 42,
      "id": "3dc2ecef",
      "metadata": {
        "id": "3dc2ecef",
        "outputId": "20b9ca80-7786-43ea-b923-644f76383f4a",
        "colab": {
          "base_uri": "https://localhost:8080/"
        }
      },
      "outputs": [
        {
          "output_type": "execute_result",
          "data": {
            "text/plain": [
              "array([[  3,   6,   9],\n",
              "       [ 32,  75,  12],\n",
              "       [ 98,  80, 110]])"
            ]
          },
          "metadata": {},
          "execution_count": 42
        }
      ],
      "source": [
        "# we can sort on a chosen axis\n",
        "# axis=0 sorting will sort columns\n",
        "np.sort(j,axis=0)"
      ]
    },
    {
      "cell_type": "code",
      "execution_count": 43,
      "id": "f0fa7eb1",
      "metadata": {
        "id": "f0fa7eb1",
        "outputId": "27574848-29c3-4143-b5a3-c121de02ad65",
        "colab": {
          "base_uri": "https://localhost:8080/"
        }
      },
      "outputs": [
        {
          "output_type": "execute_result",
          "data": {
            "text/plain": [
              "array([[ 12,  32,  80],\n",
              "       [  3,   6,   9],\n",
              "       [ 75,  98, 110]])"
            ]
          },
          "metadata": {},
          "execution_count": 43
        }
      ],
      "source": [
        "# axis=0 sorting will sort rows\n",
        "np.sort(j,axis=1)"
      ]
    },
    {
      "cell_type": "code",
      "execution_count": null,
      "id": "9e9d7056",
      "metadata": {
        "id": "9e9d7056",
        "outputId": "25a94c1d-4042-43bc-f4f0-6e25d3779068"
      },
      "outputs": [
        {
          "data": {
            "text/plain": [
              "array([[ 12,  32,  80],\n",
              "       [  3,   6,   9],\n",
              "       [ 75,  98, 110]])"
            ]
          },
          "execution_count": 63,
          "metadata": {},
          "output_type": "execute_result"
        }
      ],
      "source": [
        "np.sort(j)"
      ]
    },
    {
      "cell_type": "code",
      "execution_count": null,
      "id": "6848e5cc",
      "metadata": {
        "id": "6848e5cc",
        "outputId": "51e5e384-a7af-42e4-e963-8656f1e2a552"
      },
      "outputs": [
        {
          "name": "stdout",
          "output_type": "stream",
          "text": [
            "Downloading...\n",
            "From: https://drive.google.com/uc?id=1kXqcJo4YzmwF1G2BPoA17CI49TZVHANF\n",
            "To: /Users/nikhilsanghi/Downloads/dsml-course-main-live/June_Intermediate/fitness.txt\n",
            "100%|██████████████████████████████████████| 3.14k/3.14k [00:00<00:00, 3.65MB/s]\n"
          ]
        }
      ],
      "source": [
        "# downloading the dataset\n",
        "!gdown 1kXqcJo4YzmwF1G2BPoA17CI49TZVHANF"
      ]
    },
    {
      "cell_type": "code",
      "execution_count": 44,
      "id": "29435298",
      "metadata": {
        "id": "29435298",
        "outputId": "4f912d08-de0f-499c-f477-7a1cc1190df1",
        "colab": {
          "base_uri": "https://localhost:8080/",
          "height": 311
        }
      },
      "outputs": [
        {
          "output_type": "error",
          "ename": "OSError",
          "evalue": "ignored",
          "traceback": [
            "\u001b[0;31m---------------------------------------------------------------------------\u001b[0m",
            "\u001b[0;31mOSError\u001b[0m                                   Traceback (most recent call last)",
            "\u001b[0;32m<ipython-input-44-5e9c24535d63>\u001b[0m in \u001b[0;36m<module>\u001b[0;34m()\u001b[0m\n\u001b[0;32m----> 1\u001b[0;31m \u001b[0mdata\u001b[0m\u001b[0;34m=\u001b[0m\u001b[0mnp\u001b[0m\u001b[0;34m.\u001b[0m\u001b[0mloadtxt\u001b[0m\u001b[0;34m(\u001b[0m\u001b[0;34m\"/Users/nikhilsanghi/Downloads/dsml-course-main-live/June_Intermediate/fitness.txt\"\u001b[0m\u001b[0;34m,\u001b[0m\u001b[0mdtype\u001b[0m\u001b[0;34m=\u001b[0m\u001b[0;34m\"str\"\u001b[0m\u001b[0;34m)\u001b[0m\u001b[0;34m\u001b[0m\u001b[0;34m\u001b[0m\u001b[0m\n\u001b[0m",
            "\u001b[0;32m/usr/local/lib/python3.7/dist-packages/numpy/lib/npyio.py\u001b[0m in \u001b[0;36mloadtxt\u001b[0;34m(fname, dtype, comments, delimiter, converters, skiprows, usecols, unpack, ndmin, encoding, max_rows, like)\u001b[0m\n\u001b[1;32m   1065\u001b[0m             \u001b[0mfname\u001b[0m \u001b[0;34m=\u001b[0m \u001b[0mos_fspath\u001b[0m\u001b[0;34m(\u001b[0m\u001b[0mfname\u001b[0m\u001b[0;34m)\u001b[0m\u001b[0;34m\u001b[0m\u001b[0;34m\u001b[0m\u001b[0m\n\u001b[1;32m   1066\u001b[0m         \u001b[0;32mif\u001b[0m \u001b[0m_is_string_like\u001b[0m\u001b[0;34m(\u001b[0m\u001b[0mfname\u001b[0m\u001b[0;34m)\u001b[0m\u001b[0;34m:\u001b[0m\u001b[0;34m\u001b[0m\u001b[0;34m\u001b[0m\u001b[0m\n\u001b[0;32m-> 1067\u001b[0;31m             \u001b[0mfh\u001b[0m \u001b[0;34m=\u001b[0m \u001b[0mnp\u001b[0m\u001b[0;34m.\u001b[0m\u001b[0mlib\u001b[0m\u001b[0;34m.\u001b[0m\u001b[0m_datasource\u001b[0m\u001b[0;34m.\u001b[0m\u001b[0mopen\u001b[0m\u001b[0;34m(\u001b[0m\u001b[0mfname\u001b[0m\u001b[0;34m,\u001b[0m \u001b[0;34m'rt'\u001b[0m\u001b[0;34m,\u001b[0m \u001b[0mencoding\u001b[0m\u001b[0;34m=\u001b[0m\u001b[0mencoding\u001b[0m\u001b[0;34m)\u001b[0m\u001b[0;34m\u001b[0m\u001b[0;34m\u001b[0m\u001b[0m\n\u001b[0m\u001b[1;32m   1068\u001b[0m             \u001b[0mfencoding\u001b[0m \u001b[0;34m=\u001b[0m \u001b[0mgetattr\u001b[0m\u001b[0;34m(\u001b[0m\u001b[0mfh\u001b[0m\u001b[0;34m,\u001b[0m \u001b[0;34m'encoding'\u001b[0m\u001b[0;34m,\u001b[0m \u001b[0;34m'latin1'\u001b[0m\u001b[0;34m)\u001b[0m\u001b[0;34m\u001b[0m\u001b[0;34m\u001b[0m\u001b[0m\n\u001b[1;32m   1069\u001b[0m             \u001b[0mfh\u001b[0m \u001b[0;34m=\u001b[0m \u001b[0miter\u001b[0m\u001b[0;34m(\u001b[0m\u001b[0mfh\u001b[0m\u001b[0;34m)\u001b[0m\u001b[0;34m\u001b[0m\u001b[0;34m\u001b[0m\u001b[0m\n",
            "\u001b[0;32m/usr/local/lib/python3.7/dist-packages/numpy/lib/_datasource.py\u001b[0m in \u001b[0;36mopen\u001b[0;34m(path, mode, destpath, encoding, newline)\u001b[0m\n\u001b[1;32m    191\u001b[0m \u001b[0;34m\u001b[0m\u001b[0m\n\u001b[1;32m    192\u001b[0m     \u001b[0mds\u001b[0m \u001b[0;34m=\u001b[0m \u001b[0mDataSource\u001b[0m\u001b[0;34m(\u001b[0m\u001b[0mdestpath\u001b[0m\u001b[0;34m)\u001b[0m\u001b[0;34m\u001b[0m\u001b[0;34m\u001b[0m\u001b[0m\n\u001b[0;32m--> 193\u001b[0;31m     \u001b[0;32mreturn\u001b[0m \u001b[0mds\u001b[0m\u001b[0;34m.\u001b[0m\u001b[0mopen\u001b[0m\u001b[0;34m(\u001b[0m\u001b[0mpath\u001b[0m\u001b[0;34m,\u001b[0m \u001b[0mmode\u001b[0m\u001b[0;34m,\u001b[0m \u001b[0mencoding\u001b[0m\u001b[0;34m=\u001b[0m\u001b[0mencoding\u001b[0m\u001b[0;34m,\u001b[0m \u001b[0mnewline\u001b[0m\u001b[0;34m=\u001b[0m\u001b[0mnewline\u001b[0m\u001b[0;34m)\u001b[0m\u001b[0;34m\u001b[0m\u001b[0;34m\u001b[0m\u001b[0m\n\u001b[0m\u001b[1;32m    194\u001b[0m \u001b[0;34m\u001b[0m\u001b[0m\n\u001b[1;32m    195\u001b[0m \u001b[0;34m\u001b[0m\u001b[0m\n",
            "\u001b[0;32m/usr/local/lib/python3.7/dist-packages/numpy/lib/_datasource.py\u001b[0m in \u001b[0;36mopen\u001b[0;34m(self, path, mode, encoding, newline)\u001b[0m\n\u001b[1;32m    531\u001b[0m                                       encoding=encoding, newline=newline)\n\u001b[1;32m    532\u001b[0m         \u001b[0;32melse\u001b[0m\u001b[0;34m:\u001b[0m\u001b[0;34m\u001b[0m\u001b[0;34m\u001b[0m\u001b[0m\n\u001b[0;32m--> 533\u001b[0;31m             \u001b[0;32mraise\u001b[0m \u001b[0mIOError\u001b[0m\u001b[0;34m(\u001b[0m\u001b[0;34m\"%s not found.\"\u001b[0m \u001b[0;34m%\u001b[0m \u001b[0mpath\u001b[0m\u001b[0;34m)\u001b[0m\u001b[0;34m\u001b[0m\u001b[0;34m\u001b[0m\u001b[0m\n\u001b[0m\u001b[1;32m    534\u001b[0m \u001b[0;34m\u001b[0m\u001b[0m\n\u001b[1;32m    535\u001b[0m \u001b[0;34m\u001b[0m\u001b[0m\n",
            "\u001b[0;31mOSError\u001b[0m: /Users/nikhilsanghi/Downloads/dsml-course-main-live/June_Intermediate/fitness.txt not found."
          ]
        }
      ],
      "source": [
        "data=np.loadtxt(\"/Downloads/dsml-course-main-live/June_Intermediate/fitness.txt\",dtype=\"str\")"
      ]
    },
    {
      "cell_type": "code",
      "execution_count": null,
      "id": "76f34a09",
      "metadata": {
        "id": "76f34a09",
        "outputId": "89df334b-a531-487f-a433-6706e3ce71f4"
      },
      "outputs": [
        {
          "data": {
            "text/plain": [
              "array([['06-10-2017', '5464', '200', '181', '5', '0', '66'],\n",
              "       ['07-10-2017', '6041', '100', '197', '8', '0', '66'],\n",
              "       ['08-10-2017', '25', '100', '0', '5', '0', '66'],\n",
              "       ['09-10-2017', '5461', '100', '174', '4', '0', '66'],\n",
              "       ['10-10-2017', '6915', '200', '223', '5', '500', '66'],\n",
              "       ['11-10-2017', '4545', '100', '149', '6', '0', '66'],\n",
              "       ['12-10-2017', '4340', '100', '140', '6', '0', '66'],\n",
              "       ['13-10-2017', '1230', '100', '38', '7', '0', '66'],\n",
              "       ['14-10-2017', '61', '100', '1', '5', '0', '66'],\n",
              "       ['15-10-2017', '1258', '100', '40', '6', '0', '65'],\n",
              "       ['16-10-2017', '3148', '100', '101', '8', '0', '65'],\n",
              "       ['17-10-2017', '4687', '100', '152', '5', '0', '65'],\n",
              "       ['18-10-2017', '4732', '300', '150', '6', '500', '65'],\n",
              "       ['19-10-2017', '3519', '100', '113', '7', '0', '65'],\n",
              "       ['20-10-2017', '1580', '100', '49', '5', '0', '65'],\n",
              "       ['21-10-2017', '2822', '100', '86', '6', '0', '65'],\n",
              "       ['22-10-2017', '181', '100', '6', '8', '0', '65'],\n",
              "       ['23-10-2017', '3158', '200', '99', '5', '0', '65'],\n",
              "       ['24-10-2017', '4383', '200', '143', '4', '0', '64'],\n",
              "       ['25-10-2017', '3881', '200', '125', '5', '0', '64'],\n",
              "       ['26-10-2017', '4037', '200', '129', '6', '0', '64'],\n",
              "       ['27-10-2017', '202', '200', '6', '8', '0', '64'],\n",
              "       ['28-10-2017', '292', '200', '9', '5', '0', '64'],\n",
              "       ['29-10-2017', '330', '300', '10', '6', '0', '64'],\n",
              "       ['30-10-2017', '2209', '200', '72', '5', '0', '64'],\n",
              "       ['31-10-2017', '4550', '300', '150', '8', '500', '64'],\n",
              "       ['01-11-2017', '4435', '300', '141', '5', '0', '64'],\n",
              "       ['02-11-2017', '4779', '300', '156', '4', '0', '64'],\n",
              "       ['03-11-2017', '1831', '300', '57', '5', '0', '64'],\n",
              "       ['04-11-2017', '2255', '300', '72', '4', '0', '64'],\n",
              "       ['05-11-2017', '539', '300', '17', '5', '500', '64'],\n",
              "       ['06-11-2017', '5464', '300', '181', '4', '0', '64'],\n",
              "       ['07-11-2017', '6041', '200', '197', '3', '0', '64'],\n",
              "       ['08-11-2017', '4068', '300', '131', '2', '0', '64'],\n",
              "       ['09-11-2017', '4683', '300', '154', '9', '0', '64'],\n",
              "       ['10-11-2017', '4033', '300', '137', '5', '0', '64'],\n",
              "       ['11-11-2017', '6314', '300', '193', '6', '500', '64'],\n",
              "       ['12-11-2017', '614', '300', '19', '4', '500', '64'],\n",
              "       ['13-11-2017', '3149', '300', '101', '5', '500', '64'],\n",
              "       ['14-11-2017', '4005', '300', '139', '8', '500', '64'],\n",
              "       ['15-11-2017', '4880', '300', '164', '4', '500', '64'],\n",
              "       ['16-11-2017', '4136', '300', '137', '5', '500', '64'],\n",
              "       ['17-11-2017', '705', '300', '22', '6', '500', '64'],\n",
              "       ['18-11-2017', '570', '200', '17', '5', '500', '64'],\n",
              "       ['19-11-2017', '269', '300', '9', '6', '500', '64'],\n",
              "       ['20-11-2017', '4275', '300', '145', '5', '0', '64'],\n",
              "       ['21-11-2017', '5999', '300', '192', '6', '0', '64'],\n",
              "       ['22-11-2017', '4421', '300', '146', '5', '0', '64'],\n",
              "       ['23-11-2017', '6930', '300', '234', '6', '0', '64'],\n",
              "       ['24-11-2017', '5195', '300', '167', '5', '0', '64'],\n",
              "       ['25-11-2017', '546', '300', '16', '6', '0', '64'],\n",
              "       ['26-11-2017', '493', '300', '17', '7', '500', '64'],\n",
              "       ['27-11-2017', '995', '300', '32', '6', '500', '64'],\n",
              "       ['28-11-2017', '1163', '200', '35', '7', '500', '64'],\n",
              "       ['29-11-2017', '6676', '100', '220', '6', '500', '64'],\n",
              "       ['30-11-2017', '3608', '300', '116', '5', '500', '64'],\n",
              "       ['01-12-2017', '774', '300', '23', '6', '500', '64'],\n",
              "       ['02-12-2017', '1421', '300', '44', '7', '500', '64'],\n",
              "       ['03-12-2017', '4064', '300', '131', '8', '500', '64'],\n",
              "       ['04-12-2017', '2725', '300', '86', '8', '500', '64'],\n",
              "       ['05-12-2017', '5934', '300', '194', '7', '500', '64'],\n",
              "       ['06-12-2017', '1867', '300', '60', '8', '500', '64'],\n",
              "       ['07-12-2017', '3721', '100', '121', '5', '500', '64'],\n",
              "       ['08-12-2017', '2374', '200', '76', '4', '0', '64'],\n",
              "       ['09-12-2017', '2909', '200', '93', '3', '500', '64'],\n",
              "       ['10-12-2017', '1648', '100', '53', '3', '500', '64'],\n",
              "       ['11-12-2017', '799', '100', '25', '4', '0', '64'],\n",
              "       ['12-12-2017', '7102', '200', '227', '5', '500', '64'],\n",
              "       ['13-12-2017', '3941', '200', '125', '5', '500', '64'],\n",
              "       ['14-12-2017', '7422', '300', '243', '5', '500', '64'],\n",
              "       ['15-12-2017', '437', '200', '14', '3', '500', '64'],\n",
              "       ['16-12-2017', '1231', '200', '39', '4', '500', '64'],\n",
              "       ['17-12-2017', '1696', '100', '55', '4', '0', '64'],\n",
              "       ['18-12-2017', '4921', '200', '158', '5', '500', '64'],\n",
              "       ['19-12-2017', '221', '100', '7', '5', '500', '64'],\n",
              "       ['20-12-2017', '6500', '200', '213', '5', '500', '64'],\n",
              "       ['21-12-2017', '3575', '200', '116', '5', '500', '64'],\n",
              "       ['22-12-2017', '4061', '100', '129', '5', '0', '64'],\n",
              "       ['23-12-2017', '651', '100', '21', '5', '0', '64'],\n",
              "       ['24-12-2017', '753', '100', '28', '4', '0', '64'],\n",
              "       ['25-12-2017', '518', '100', '16', '3', '0', '64'],\n",
              "       ['26-12-2017', '5537', '300', '180', '4', '500', '64'],\n",
              "       ['27-12-2017', '4108', '200', '138', '5', '500', '64'],\n",
              "       ['28-12-2017', '5376', '300', '176', '5', '500', '64'],\n",
              "       ['29-12-2017', '3066', '200', '99', '4', '500', '64'],\n",
              "       ['30-12-2017', '177', '100', '5', '5', '0', '64'],\n",
              "       ['31-12-2017', '36', '100', '1', '3', '0', '64'],\n",
              "       ['01-01-2018', '299', '100', '10', '3', '0', '64'],\n",
              "       ['02-01-2018', '1447', '200', '47', '3', '0', '64'],\n",
              "       ['03-01-2018', '2599', '200', '84', '2', '0', '64'],\n",
              "       ['04-01-2018', '702', '100', '23', '3', '0', '64'],\n",
              "       ['05-01-2018', '133', '100', '4', '2', '0', '64'],\n",
              "       ['06-01-2018', '153', '300', '0', '8', '0', '64'],\n",
              "       ['07-01-2018', '500', '200', '0', '5', '500', '64'],\n",
              "       ['08-01-2018', '2127', '200', '0', '5', '0', '64'],\n",
              "       ['09-01-2018', '2203', '300', '0', '5', '500', '64']], dtype='<U10')"
            ]
          },
          "execution_count": 66,
          "metadata": {},
          "output_type": "execute_result"
        }
      ],
      "source": [
        "data"
      ]
    },
    {
      "cell_type": "code",
      "source": [
        "data = np.array([['06-10-2017', '5464', '200', '181', '5', '0', '66'],\n",
        "       ['07-10-2017', '6041', '100', '197', '8', '0', '66'],\n",
        "       ['08-10-2017', '25', '100', '0', '5', '0', '66'],\n",
        "       ['09-10-2017', '5461', '100', '174', '4', '0', '66'],\n",
        "       ['10-10-2017', '6915', '200', '223', '5', '500', '66'],\n",
        "       ['11-10-2017', '4545', '100', '149', '6', '0', '66'],\n",
        "       ['12-10-2017', '4340', '100', '140', '6', '0', '66'],\n",
        "       ['13-10-2017', '1230', '100', '38', '7', '0', '66'],\n",
        "       ['14-10-2017', '61', '100', '1', '5', '0', '66'],\n",
        "       ['15-10-2017', '1258', '100', '40', '6', '0', '65'],\n",
        "       ['16-10-2017', '3148', '100', '101', '8', '0', '65'],\n",
        "       ['17-10-2017', '4687', '100', '152', '5', '0', '65'],\n",
        "       ['18-10-2017', '4732', '300', '150', '6', '500', '65'],\n",
        "       ['19-10-2017', '3519', '100', '113', '7', '0', '65'],\n",
        "       ['20-10-2017', '1580', '100', '49', '5', '0', '65'],\n",
        "       ['21-10-2017', '2822', '100', '86', '6', '0', '65'],\n",
        "       ['22-10-2017', '181', '100', '6', '8', '0', '65'],\n",
        "       ['23-10-2017', '3158', '200', '99', '5', '0', '65'],\n",
        "       ['24-10-2017', '4383', '200', '143', '4', '0', '64'],\n",
        "       ['25-10-2017', '3881', '200', '125', '5', '0', '64'],\n",
        "       ['26-10-2017', '4037', '200', '129', '6', '0', '64'],\n",
        "       ['27-10-2017', '202', '200', '6', '8', '0', '64'],\n",
        "       ['28-10-2017', '292', '200', '9', '5', '0', '64'],\n",
        "       ['29-10-2017', '330', '300', '10', '6', '0', '64'],\n",
        "       ['30-10-2017', '2209', '200', '72', '5', '0', '64'],\n",
        "       ['31-10-2017', '4550', '300', '150', '8', '500', '64'],\n",
        "       ['01-11-2017', '4435', '300', '141', '5', '0', '64'],\n",
        "       ['02-11-2017', '4779', '300', '156', '4', '0', '64'],\n",
        "       ['03-11-2017', '1831', '300', '57', '5', '0', '64'],\n",
        "       ['04-11-2017', '2255', '300', '72', '4', '0', '64'],\n",
        "       ['05-11-2017', '539', '300', '17', '5', '500', '64'],\n",
        "       ['06-11-2017', '5464', '300', '181', '4', '0', '64'],\n",
        "       ['07-11-2017', '6041', '200', '197', '3', '0', '64'],\n",
        "       ['08-11-2017', '4068', '300', '131', '2', '0', '64'],\n",
        "       ['09-11-2017', '4683', '300', '154', '9', '0', '64'],\n",
        "       ['10-11-2017', '4033', '300', '137', '5', '0', '64'],\n",
        "       ['11-11-2017', '6314', '300', '193', '6', '500', '64'],\n",
        "       ['12-11-2017', '614', '300', '19', '4', '500', '64'],\n",
        "       ['13-11-2017', '3149', '300', '101', '5', '500', '64'],\n",
        "       ['14-11-2017', '4005', '300', '139', '8', '500', '64'],\n",
        "       ['15-11-2017', '4880', '300', '164', '4', '500', '64'],\n",
        "       ['16-11-2017', '4136', '300', '137', '5', '500', '64'],\n",
        "       ['17-11-2017', '705', '300', '22', '6', '500', '64'],\n",
        "       ['18-11-2017', '570', '200', '17', '5', '500', '64'],\n",
        "       ['19-11-2017', '269', '300', '9', '6', '500', '64'],\n",
        "       ['20-11-2017', '4275', '300', '145', '5', '0', '64'],\n",
        "       ['21-11-2017', '5999', '300', '192', '6', '0', '64'],\n",
        "       ['22-11-2017', '4421', '300', '146', '5', '0', '64'],\n",
        "       ['23-11-2017', '6930', '300', '234', '6', '0', '64'],\n",
        "       ['24-11-2017', '5195', '300', '167', '5', '0', '64'],\n",
        "       ['25-11-2017', '546', '300', '16', '6', '0', '64'],\n",
        "       ['26-11-2017', '493', '300', '17', '7', '500', '64'],\n",
        "       ['27-11-2017', '995', '300', '32', '6', '500', '64'],\n",
        "       ['28-11-2017', '1163', '200', '35', '7', '500', '64'],\n",
        "       ['29-11-2017', '6676', '100', '220', '6', '500', '64'],\n",
        "       ['30-11-2017', '3608', '300', '116', '5', '500', '64'],\n",
        "       ['01-12-2017', '774', '300', '23', '6', '500', '64'],\n",
        "       ['02-12-2017', '1421', '300', '44', '7', '500', '64'],\n",
        "       ['03-12-2017', '4064', '300', '131', '8', '500', '64'],\n",
        "       ['04-12-2017', '2725', '300', '86', '8', '500', '64'],\n",
        "       ['05-12-2017', '5934', '300', '194', '7', '500', '64'],\n",
        "       ['06-12-2017', '1867', '300', '60', '8', '500', '64'],\n",
        "       ['07-12-2017', '3721', '100', '121', '5', '500', '64'],\n",
        "       ['08-12-2017', '2374', '200', '76', '4', '0', '64'],\n",
        "       ['09-12-2017', '2909', '200', '93', '3', '500', '64'],\n",
        "       ['10-12-2017', '1648', '100', '53', '3', '500', '64'],\n",
        "       ['11-12-2017', '799', '100', '25', '4', '0', '64'],\n",
        "       ['12-12-2017', '7102', '200', '227', '5', '500', '64'],\n",
        "       ['13-12-2017', '3941', '200', '125', '5', '500', '64'],\n",
        "       ['14-12-2017', '7422', '300', '243', '5', '500', '64'],\n",
        "       ['15-12-2017', '437', '200', '14', '3', '500', '64'],\n",
        "       ['16-12-2017', '1231', '200', '39', '4', '500', '64'],\n",
        "       ['17-12-2017', '1696', '100', '55', '4', '0', '64'],\n",
        "       ['18-12-2017', '4921', '200', '158', '5', '500', '64'],\n",
        "       ['19-12-2017', '221', '100', '7', '5', '500', '64'],\n",
        "       ['20-12-2017', '6500', '200', '213', '5', '500', '64'],\n",
        "       ['21-12-2017', '3575', '200', '116', '5', '500', '64'],\n",
        "       ['22-12-2017', '4061', '100', '129', '5', '0', '64'],\n",
        "       ['23-12-2017', '651', '100', '21', '5', '0', '64'],\n",
        "       ['24-12-2017', '753', '100', '28', '4', '0', '64'],\n",
        "       ['25-12-2017', '518', '100', '16', '3', '0', '64'],\n",
        "       ['26-12-2017', '5537', '300', '180', '4', '500', '64'],\n",
        "       ['27-12-2017', '4108', '200', '138', '5', '500', '64'],\n",
        "       ['28-12-2017', '5376', '300', '176', '5', '500', '64'],\n",
        "       ['29-12-2017', '3066', '200', '99', '4', '500', '64'],\n",
        "       ['30-12-2017', '177', '100', '5', '5', '0', '64'],\n",
        "       ['31-12-2017', '36', '100', '1', '3', '0', '64'],\n",
        "       ['01-01-2018', '299', '100', '10', '3', '0', '64'],\n",
        "       ['02-01-2018', '1447', '200', '47', '3', '0', '64'],\n",
        "       ['03-01-2018', '2599', '200', '84', '2', '0', '64'],\n",
        "       ['04-01-2018', '702', '100', '23', '3', '0', '64'],\n",
        "       ['05-01-2018', '133', '100', '4', '2', '0', '64'],\n",
        "       ['06-01-2018', '153', '300', '0', '8', '0', '64'],\n",
        "       ['07-01-2018', '500', '200', '0', '5', '500', '64'],\n",
        "       ['08-01-2018', '2127', '200', '0', '5', '0', '64'],\n",
        "       ['09-01-2018', '2203', '300', '0', '5', '500', '64']], dtype='<U10')"
      ],
      "metadata": {
        "id": "F9qdJUIZi_wl"
      },
      "id": "F9qdJUIZi_wl",
      "execution_count": 52,
      "outputs": []
    },
    {
      "cell_type": "code",
      "execution_count": 50,
      "id": "0a558667",
      "metadata": {
        "id": "0a558667",
        "outputId": "8c20e71b-eab9-423e-c9bc-5da62aa45a3b",
        "colab": {
          "base_uri": "https://localhost:8080/",
          "height": 166
        }
      },
      "outputs": [
        {
          "output_type": "error",
          "ename": "TypeError",
          "evalue": "ignored",
          "traceback": [
            "\u001b[0;31m---------------------------------------------------------------------------\u001b[0m",
            "\u001b[0;31mTypeError\u001b[0m                                 Traceback (most recent call last)",
            "\u001b[0;32m<ipython-input-50-666a0d62bcc9>\u001b[0m in \u001b[0;36m<module>\u001b[0;34m()\u001b[0m\n\u001b[0;32m----> 1\u001b[0;31m \u001b[0mdata\u001b[0m\u001b[0;34m[\u001b[0m\u001b[0;34m:\u001b[0m\u001b[0;34m,\u001b[0m\u001b[0;36m0\u001b[0m\u001b[0;34m]\u001b[0m\u001b[0;34m\u001b[0m\u001b[0;34m\u001b[0m\u001b[0m\n\u001b[0m",
            "\u001b[0;31mTypeError\u001b[0m: list indices must be integers or slices, not tuple"
          ]
        }
      ],
      "source": [
        "data[:,0]"
      ]
    },
    {
      "cell_type": "code",
      "execution_count": null,
      "id": "057c4075",
      "metadata": {
        "id": "057c4075",
        "outputId": "c124ac41-04c7-412e-b698-7f3d5671fdfa"
      },
      "outputs": [
        {
          "ename": "NameError",
          "evalue": "name 'calories_burned' is not defined",
          "output_type": "error",
          "traceback": [
            "\u001b[0;31m---------------------------------------------------------------------------\u001b[0m",
            "\u001b[0;31mNameError\u001b[0m                                 Traceback (most recent call last)",
            "\u001b[0;32m/var/folders/hd/9z4dczb56dj54lb7q8w7s4zw0000gn/T/ipykernel_22371/1614041964.py\u001b[0m in \u001b[0;36m<module>\u001b[0;34m\u001b[0m\n\u001b[0;32m----> 1\u001b[0;31m \u001b[0mdate\u001b[0m\u001b[0;34m,\u001b[0m\u001b[0mstep_count\u001b[0m\u001b[0;34m,\u001b[0m\u001b[0mmood\u001b[0m\u001b[0;34m,\u001b[0m\u001b[0mcalories_burned\u001b[0m\u001b[0;34m,\u001b[0m\u001b[0mhours_of_sleep\u001b[0m\u001b[0;34m,\u001b[0m\u001b[0mbool_active\u001b[0m\u001b[0;34m,\u001b[0m\u001b[0mweight\u001b[0m\u001b[0;34m\u001b[0m\u001b[0;34m\u001b[0m\u001b[0m\n\u001b[0m",
            "\u001b[0;31mNameError\u001b[0m: name 'calories_burned' is not defined"
          ]
        }
      ],
      "source": [
        "# columns \n",
        "# date,step_count,mood,calories_burned,hours_of_sleep,bool_active,weight\n"
      ]
    },
    {
      "cell_type": "code",
      "execution_count": null,
      "id": "3f7ca578",
      "metadata": {
        "id": "3f7ca578"
      },
      "outputs": [],
      "source": [
        "# date=data[:,0]\n",
        "# data[:,1]\n",
        "\n",
        "#Taking a transpose of data to convert each feature into rows \n",
        "data=data.T"
      ]
    },
    {
      "cell_type": "code",
      "execution_count": 53,
      "id": "c4e70387",
      "metadata": {
        "id": "c4e70387",
        "outputId": "f2dbaa13-18c2-41a9-ec97-f1e92b779d08",
        "colab": {
          "base_uri": "https://localhost:8080/",
          "height": 201
        }
      },
      "outputs": [
        {
          "output_type": "error",
          "ename": "ValueError",
          "evalue": "ignored",
          "traceback": [
            "\u001b[0;31m---------------------------------------------------------------------------\u001b[0m",
            "\u001b[0;31mValueError\u001b[0m                                Traceback (most recent call last)",
            "\u001b[0;32m<ipython-input-53-a3fc9d1ad011>\u001b[0m in \u001b[0;36m<module>\u001b[0;34m()\u001b[0m\n\u001b[1;32m      1\u001b[0m \u001b[0;31m# unpacking the data\u001b[0m\u001b[0;34m\u001b[0m\u001b[0;34m\u001b[0m\u001b[0;34m\u001b[0m\u001b[0m\n\u001b[1;32m      2\u001b[0m \u001b[0;34m\u001b[0m\u001b[0m\n\u001b[0;32m----> 3\u001b[0;31m \u001b[0mdate\u001b[0m\u001b[0;34m,\u001b[0m\u001b[0mstep_count\u001b[0m\u001b[0;34m,\u001b[0m\u001b[0mmood\u001b[0m\u001b[0;34m,\u001b[0m\u001b[0mcalories_burned\u001b[0m\u001b[0;34m,\u001b[0m\u001b[0mhours_of_sleep\u001b[0m\u001b[0;34m,\u001b[0m\u001b[0mbool_active\u001b[0m\u001b[0;34m,\u001b[0m\u001b[0mweight\u001b[0m\u001b[0;34m=\u001b[0m\u001b[0mdata\u001b[0m\u001b[0;34m\u001b[0m\u001b[0;34m\u001b[0m\u001b[0m\n\u001b[0m",
            "\u001b[0;31mValueError\u001b[0m: too many values to unpack (expected 7)"
          ]
        }
      ],
      "source": [
        "# unpacking the data\n",
        "\n",
        "date,step_count,mood,calories_burned,hours_of_sleep,bool_active,weight=data"
      ]
    },
    {
      "cell_type": "code",
      "execution_count": null,
      "id": "d7d53964",
      "metadata": {
        "id": "d7d53964",
        "outputId": "d9260f08-40db-4c2c-f6aa-002525b5b095"
      },
      "outputs": [
        {
          "data": {
            "text/plain": [
              "array(['06-10-2017', '07-10-2017', '08-10-2017', '09-10-2017',\n",
              "       '10-10-2017', '11-10-2017', '12-10-2017', '13-10-2017',\n",
              "       '14-10-2017', '15-10-2017', '16-10-2017', '17-10-2017',\n",
              "       '18-10-2017', '19-10-2017', '20-10-2017', '21-10-2017',\n",
              "       '22-10-2017', '23-10-2017', '24-10-2017', '25-10-2017',\n",
              "       '26-10-2017', '27-10-2017', '28-10-2017', '29-10-2017',\n",
              "       '30-10-2017', '31-10-2017', '01-11-2017', '02-11-2017',\n",
              "       '03-11-2017', '04-11-2017', '05-11-2017', '06-11-2017',\n",
              "       '07-11-2017', '08-11-2017', '09-11-2017', '10-11-2017',\n",
              "       '11-11-2017', '12-11-2017', '13-11-2017', '14-11-2017',\n",
              "       '15-11-2017', '16-11-2017', '17-11-2017', '18-11-2017',\n",
              "       '19-11-2017', '20-11-2017', '21-11-2017', '22-11-2017',\n",
              "       '23-11-2017', '24-11-2017', '25-11-2017', '26-11-2017',\n",
              "       '27-11-2017', '28-11-2017', '29-11-2017', '30-11-2017',\n",
              "       '01-12-2017', '02-12-2017', '03-12-2017', '04-12-2017',\n",
              "       '05-12-2017', '06-12-2017', '07-12-2017', '08-12-2017',\n",
              "       '09-12-2017', '10-12-2017', '11-12-2017', '12-12-2017',\n",
              "       '13-12-2017', '14-12-2017', '15-12-2017', '16-12-2017',\n",
              "       '17-12-2017', '18-12-2017', '19-12-2017', '20-12-2017',\n",
              "       '21-12-2017', '22-12-2017', '23-12-2017', '24-12-2017',\n",
              "       '25-12-2017', '26-12-2017', '27-12-2017', '28-12-2017',\n",
              "       '29-12-2017', '30-12-2017', '31-12-2017', '01-01-2018',\n",
              "       '02-01-2018', '03-01-2018', '04-01-2018', '05-01-2018',\n",
              "       '06-01-2018', '07-01-2018', '08-01-2018', '09-01-2018'],\n",
              "      dtype='<U10')"
            ]
          },
          "execution_count": 95,
          "metadata": {},
          "output_type": "execute_result"
        }
      ],
      "source": [
        "date"
      ]
    },
    {
      "cell_type": "code",
      "execution_count": null,
      "id": "46f03ae8",
      "metadata": {
        "id": "46f03ae8",
        "outputId": "1215912c-490d-4603-a225-c5d6396dd73d"
      },
      "outputs": [
        {
          "data": {
            "text/plain": [
              "array(['200', '100', '100', '100', '200', '100', '100', '100', '100',\n",
              "       '100', '100', '100', '300', '100', '100', '100', '100', '200',\n",
              "       '200', '200', '200', '200', '200', '300', '200', '300', '300',\n",
              "       '300', '300', '300', '300', '300', '200', '300', '300', '300',\n",
              "       '300', '300', '300', '300', '300', '300', '300', '200', '300',\n",
              "       '300', '300', '300', '300', '300', '300', '300', '300', '200',\n",
              "       '100', '300', '300', '300', '300', '300', '300', '300', '100',\n",
              "       '200', '200', '100', '100', '200', '200', '300', '200', '200',\n",
              "       '100', '200', '100', '200', '200', '100', '100', '100', '100',\n",
              "       '300', '200', '300', '200', '100', '100', '100', '200', '200',\n",
              "       '100', '100', '300', '200', '200', '300'], dtype='<U10')"
            ]
          },
          "execution_count": 96,
          "metadata": {},
          "output_type": "execute_result"
        }
      ],
      "source": [
        "mood"
      ]
    },
    {
      "cell_type": "code",
      "execution_count": null,
      "id": "87ef4ed7",
      "metadata": {
        "id": "87ef4ed7",
        "outputId": "b1fd30d8-a38f-4999-b864-3da8f418869b"
      },
      "outputs": [
        {
          "data": {
            "text/plain": [
              "array(['5464', '6041', '25', '5461', '6915', '4545', '4340', '1230', '61',\n",
              "       '1258', '3148', '4687', '4732', '3519', '1580', '2822', '181',\n",
              "       '3158', '4383', '3881', '4037', '202', '292', '330', '2209',\n",
              "       '4550', '4435', '4779', '1831', '2255', '539', '5464', '6041',\n",
              "       '4068', '4683', '4033', '6314', '614', '3149', '4005', '4880',\n",
              "       '4136', '705', '570', '269', '4275', '5999', '4421', '6930',\n",
              "       '5195', '546', '493', '995', '1163', '6676', '3608', '774', '1421',\n",
              "       '4064', '2725', '5934', '1867', '3721', '2374', '2909', '1648',\n",
              "       '799', '7102', '3941', '7422', '437', '1231', '1696', '4921',\n",
              "       '221', '6500', '3575', '4061', '651', '753', '518', '5537', '4108',\n",
              "       '5376', '3066', '177', '36', '299', '1447', '2599', '702', '133',\n",
              "       '153', '500', '2127', '2203'], dtype='<U10')"
            ]
          },
          "execution_count": 97,
          "metadata": {},
          "output_type": "execute_result"
        }
      ],
      "source": [
        "step_count"
      ]
    },
    {
      "cell_type": "code",
      "execution_count": null,
      "id": "b76b4ff1",
      "metadata": {
        "id": "b76b4ff1",
        "outputId": "635db2f8-6a5a-499d-e288-ec9069a28b61"
      },
      "outputs": [
        {
          "data": {
            "text/plain": [
              "array([5464, 6041,   25, 5461, 6915, 4545, 4340, 1230,   61, 1258, 3148,\n",
              "       4687, 4732, 3519, 1580, 2822,  181, 3158, 4383, 3881, 4037,  202,\n",
              "        292,  330, 2209, 4550, 4435, 4779, 1831, 2255,  539, 5464, 6041,\n",
              "       4068, 4683, 4033, 6314,  614, 3149, 4005, 4880, 4136,  705,  570,\n",
              "        269, 4275, 5999, 4421, 6930, 5195,  546,  493,  995, 1163, 6676,\n",
              "       3608,  774, 1421, 4064, 2725, 5934, 1867, 3721, 2374, 2909, 1648,\n",
              "        799, 7102, 3941, 7422,  437, 1231, 1696, 4921,  221, 6500, 3575,\n",
              "       4061,  651,  753,  518, 5537, 4108, 5376, 3066,  177,   36,  299,\n",
              "       1447, 2599,  702,  133,  153,  500, 2127, 2203])"
            ]
          },
          "execution_count": 98,
          "metadata": {},
          "output_type": "execute_result"
        }
      ],
      "source": [
        "# converting data type of columns to integer\n",
        "step_count=np.array(step_count,dtype=\"int\")\n",
        "step_count"
      ]
    },
    {
      "cell_type": "code",
      "execution_count": null,
      "id": "8a538b83",
      "metadata": {
        "id": "8a538b83",
        "outputId": "1db0d6a5-c97f-4e82-feb6-40f7ebbfdf5e"
      },
      "outputs": [
        {
          "data": {
            "text/plain": [
              "array([181, 197,   0, 174, 223, 149, 140,  38,   1,  40, 101, 152, 150,\n",
              "       113,  49,  86,   6,  99, 143, 125, 129,   6,   9,  10,  72, 150,\n",
              "       141, 156,  57,  72,  17, 181, 197, 131, 154, 137, 193,  19, 101,\n",
              "       139, 164, 137,  22,  17,   9, 145, 192, 146, 234, 167,  16,  17,\n",
              "        32,  35, 220, 116,  23,  44, 131,  86, 194,  60, 121,  76,  93,\n",
              "        53,  25, 227, 125, 243,  14,  39,  55, 158,   7, 213, 116, 129,\n",
              "        21,  28,  16, 180, 138, 176,  99,   5,   1,  10,  47,  84,  23,\n",
              "         4,   0,   0,   0,   0])"
            ]
          },
          "execution_count": 99,
          "metadata": {},
          "output_type": "execute_result"
        }
      ],
      "source": [
        "calories_burned=np.array(calories_burned,dtype=\"int\")\n",
        "calories_burned"
      ]
    },
    {
      "cell_type": "code",
      "execution_count": null,
      "id": "1654b650",
      "metadata": {
        "id": "1654b650",
        "outputId": "73225af9-c24e-4f1c-e4ff-f72c8b958e2e"
      },
      "outputs": [
        {
          "data": {
            "text/plain": [
              "array([5, 8, 5, 4, 5, 6, 6, 7, 5, 6, 8, 5, 6, 7, 5, 6, 8, 5, 4, 5, 6, 8,\n",
              "       5, 6, 5, 8, 5, 4, 5, 4, 5, 4, 3, 2, 9, 5, 6, 4, 5, 8, 4, 5, 6, 5,\n",
              "       6, 5, 6, 5, 6, 5, 6, 7, 6, 7, 6, 5, 6, 7, 8, 8, 7, 8, 5, 4, 3, 3,\n",
              "       4, 5, 5, 5, 3, 4, 4, 5, 5, 5, 5, 5, 5, 4, 3, 4, 5, 5, 4, 5, 3, 3,\n",
              "       3, 2, 3, 2, 8, 5, 5, 5])"
            ]
          },
          "execution_count": 100,
          "metadata": {},
          "output_type": "execute_result"
        }
      ],
      "source": [
        "hours_of_sleep=np.array(hours_of_sleep,dtype=\"int\")\n",
        "hours_of_sleep"
      ]
    },
    {
      "cell_type": "code",
      "execution_count": null,
      "id": "e6b92ebe",
      "metadata": {
        "id": "e6b92ebe",
        "outputId": "3224ad62-6011-4e47-9d14-aab8a3bef789"
      },
      "outputs": [
        {
          "data": {
            "text/plain": [
              "array([66, 66, 66, 66, 66, 66, 66, 66, 66, 65, 65, 65, 65, 65, 65, 65, 65,\n",
              "       65, 64, 64, 64, 64, 64, 64, 64, 64, 64, 64, 64, 64, 64, 64, 64, 64,\n",
              "       64, 64, 64, 64, 64, 64, 64, 64, 64, 64, 64, 64, 64, 64, 64, 64, 64,\n",
              "       64, 64, 64, 64, 64, 64, 64, 64, 64, 64, 64, 64, 64, 64, 64, 64, 64,\n",
              "       64, 64, 64, 64, 64, 64, 64, 64, 64, 64, 64, 64, 64, 64, 64, 64, 64,\n",
              "       64, 64, 64, 64, 64, 64, 64, 64, 64, 64, 64])"
            ]
          },
          "execution_count": 101,
          "metadata": {},
          "output_type": "execute_result"
        }
      ],
      "source": [
        "weight=np.array(weight,dtype=\"int\")\n",
        "weight"
      ]
    },
    {
      "cell_type": "code",
      "execution_count": null,
      "id": "8a082867",
      "metadata": {
        "id": "8a082867",
        "outputId": "31662740-0bf9-4ae1-853e-a5ea8d375713"
      },
      "outputs": [
        {
          "data": {
            "text/plain": [
              "array(['200', '100', '100', '100', '200', '100', '100', '100', '100',\n",
              "       '100', '100', '100', '300', '100', '100', '100', '100', '200',\n",
              "       '200', '200', '200', '200', '200', '300', '200', '300', '300',\n",
              "       '300', '300', '300', '300', '300', '200', '300', '300', '300',\n",
              "       '300', '300', '300', '300', '300', '300', '300', '200', '300',\n",
              "       '300', '300', '300', '300', '300', '300', '300', '300', '200',\n",
              "       '100', '300', '300', '300', '300', '300', '300', '300', '100',\n",
              "       '200', '200', '100', '100', '200', '200', '300', '200', '200',\n",
              "       '100', '200', '100', '200', '200', '100', '100', '100', '100',\n",
              "       '300', '200', '300', '200', '100', '100', '100', '200', '200',\n",
              "       '100', '100', '300', '200', '200', '300'], dtype='<U10')"
            ]
          },
          "execution_count": 102,
          "metadata": {},
          "output_type": "execute_result"
        }
      ],
      "source": [
        "mood"
      ]
    },
    {
      "cell_type": "code",
      "execution_count": null,
      "id": "4bc543c2",
      "metadata": {
        "id": "4bc543c2"
      },
      "outputs": [],
      "source": [
        "# Changing the categorical values to much more intuitive valuesa\n",
        "mood[mood == \"300\"] = \"Happy\""
      ]
    },
    {
      "cell_type": "markdown",
      "id": "38d66f97",
      "metadata": {
        "id": "38d66f97"
      },
      "source": [
        "mood"
      ]
    },
    {
      "cell_type": "code",
      "execution_count": null,
      "id": "8fcd4bf8",
      "metadata": {
        "id": "8fcd4bf8",
        "outputId": "d726452b-b174-4eee-f85b-029a3690305f"
      },
      "outputs": [
        {
          "data": {
            "text/plain": [
              "array(['200', '100', '100', '100', '200', '100', '100', '100', '100',\n",
              "       '100', '100', '100', 'Happy', '100', '100', '100', '100', '200',\n",
              "       '200', '200', '200', '200', '200', 'Happy', '200', 'Happy',\n",
              "       'Happy', 'Happy', 'Happy', 'Happy', 'Happy', 'Happy', '200',\n",
              "       'Happy', 'Happy', 'Happy', 'Happy', 'Happy', 'Happy', 'Happy',\n",
              "       'Happy', 'Happy', 'Happy', '200', 'Happy', 'Happy', 'Happy',\n",
              "       'Happy', 'Happy', 'Happy', 'Happy', 'Happy', 'Happy', '200', '100',\n",
              "       'Happy', 'Happy', 'Happy', 'Happy', 'Happy', 'Happy', 'Happy',\n",
              "       '100', '200', '200', '100', '100', '200', '200', 'Happy', '200',\n",
              "       '200', '100', '200', '100', '200', '200', '100', '100', '100',\n",
              "       '100', 'Happy', '200', 'Happy', '200', '100', '100', '100', '200',\n",
              "       '200', '100', '100', 'Happy', '200', '200', 'Happy'], dtype='<U10')"
            ]
          },
          "execution_count": 104,
          "metadata": {},
          "output_type": "execute_result"
        }
      ],
      "source": [
        "mood"
      ]
    },
    {
      "cell_type": "code",
      "execution_count": null,
      "id": "c58de43e",
      "metadata": {
        "id": "c58de43e"
      },
      "outputs": [],
      "source": [
        "mood[mood == \"100\"] = \"Sad\""
      ]
    },
    {
      "cell_type": "code",
      "execution_count": null,
      "id": "5deeff54",
      "metadata": {
        "id": "5deeff54"
      },
      "outputs": [],
      "source": [
        "mood[mood == \"200\"] = \"Neutral\""
      ]
    },
    {
      "cell_type": "code",
      "execution_count": null,
      "id": "9deaf0c4",
      "metadata": {
        "id": "9deaf0c4",
        "outputId": "8b8cbc85-6cb0-4f5e-ac02-eb547ef51ac0"
      },
      "outputs": [
        {
          "data": {
            "text/plain": [
              "array(['Neutral', 'Sad', 'Sad', 'Sad', 'Neutral', 'Sad', 'Sad', 'Sad',\n",
              "       'Sad', 'Sad', 'Sad', 'Sad', 'Happy', 'Sad', 'Sad', 'Sad', 'Sad',\n",
              "       'Neutral', 'Neutral', 'Neutral', 'Neutral', 'Neutral', 'Neutral',\n",
              "       'Happy', 'Neutral', 'Happy', 'Happy', 'Happy', 'Happy', 'Happy',\n",
              "       'Happy', 'Happy', 'Neutral', 'Happy', 'Happy', 'Happy', 'Happy',\n",
              "       'Happy', 'Happy', 'Happy', 'Happy', 'Happy', 'Happy', 'Neutral',\n",
              "       'Happy', 'Happy', 'Happy', 'Happy', 'Happy', 'Happy', 'Happy',\n",
              "       'Happy', 'Happy', 'Neutral', 'Sad', 'Happy', 'Happy', 'Happy',\n",
              "       'Happy', 'Happy', 'Happy', 'Happy', 'Sad', 'Neutral', 'Neutral',\n",
              "       'Sad', 'Sad', 'Neutral', 'Neutral', 'Happy', 'Neutral', 'Neutral',\n",
              "       'Sad', 'Neutral', 'Sad', 'Neutral', 'Neutral', 'Sad', 'Sad', 'Sad',\n",
              "       'Sad', 'Happy', 'Neutral', 'Happy', 'Neutral', 'Sad', 'Sad', 'Sad',\n",
              "       'Neutral', 'Neutral', 'Sad', 'Sad', 'Happy', 'Neutral', 'Neutral',\n",
              "       'Happy'], dtype='<U10')"
            ]
          },
          "execution_count": 107,
          "metadata": {},
          "output_type": "execute_result"
        }
      ],
      "source": [
        "mood"
      ]
    },
    {
      "cell_type": "code",
      "execution_count": null,
      "id": "d95d25c1",
      "metadata": {
        "id": "d95d25c1"
      },
      "outputs": [],
      "source": [
        "bool_active[bool_active == \"500\"] = \"Active\""
      ]
    },
    {
      "cell_type": "code",
      "execution_count": null,
      "id": "5f8ce008",
      "metadata": {
        "id": "5f8ce008"
      },
      "outputs": [],
      "source": [
        "bool_active[bool_active == \"0\"] = \"Inactive\""
      ]
    },
    {
      "cell_type": "code",
      "execution_count": null,
      "id": "2ebbfef3",
      "metadata": {
        "id": "2ebbfef3",
        "outputId": "29e9685e-953a-4914-ca09-477febbb0d59"
      },
      "outputs": [
        {
          "data": {
            "text/plain": [
              "array(['Inactive', 'Inactive', 'Inactive', 'Inactive', 'Active',\n",
              "       'Inactive', 'Inactive', 'Inactive', 'Inactive', 'Inactive',\n",
              "       'Inactive', 'Inactive', 'Active', 'Inactive', 'Inactive',\n",
              "       'Inactive', 'Inactive', 'Inactive', 'Inactive', 'Inactive',\n",
              "       'Inactive', 'Inactive', 'Inactive', 'Inactive', 'Inactive',\n",
              "       'Active', 'Inactive', 'Inactive', 'Inactive', 'Inactive', 'Active',\n",
              "       'Inactive', 'Inactive', 'Inactive', 'Inactive', 'Inactive',\n",
              "       'Active', 'Active', 'Active', 'Active', 'Active', 'Active',\n",
              "       'Active', 'Active', 'Active', 'Inactive', 'Inactive', 'Inactive',\n",
              "       'Inactive', 'Inactive', 'Inactive', 'Active', 'Active', 'Active',\n",
              "       'Active', 'Active', 'Active', 'Active', 'Active', 'Active',\n",
              "       'Active', 'Active', 'Active', 'Inactive', 'Active', 'Active',\n",
              "       'Inactive', 'Active', 'Active', 'Active', 'Active', 'Active',\n",
              "       'Inactive', 'Active', 'Active', 'Active', 'Active', 'Inactive',\n",
              "       'Inactive', 'Inactive', 'Inactive', 'Active', 'Active', 'Active',\n",
              "       'Active', 'Inactive', 'Inactive', 'Inactive', 'Inactive',\n",
              "       'Inactive', 'Inactive', 'Inactive', 'Inactive', 'Active',\n",
              "       'Inactive', 'Active'], dtype='<U10')"
            ]
          },
          "execution_count": 110,
          "metadata": {},
          "output_type": "execute_result"
        }
      ],
      "source": [
        "bool_active"
      ]
    },
    {
      "cell_type": "code",
      "execution_count": null,
      "id": "1c2fe621",
      "metadata": {
        "id": "1c2fe621",
        "outputId": "52721aa4-7141-45c3-b51c-c03cb98d88ea"
      },
      "outputs": [
        {
          "data": {
            "text/plain": [
              "dtype('<U10')"
            ]
          },
          "execution_count": 111,
          "metadata": {},
          "output_type": "execute_result"
        }
      ],
      "source": [
        "mood.dtype"
      ]
    },
    {
      "cell_type": "code",
      "execution_count": null,
      "id": "0e2aee86",
      "metadata": {
        "id": "0e2aee86",
        "outputId": "157b6f16-b25f-4bd2-a070-d0c74035d153"
      },
      "outputs": [
        {
          "data": {
            "text/plain": [
              "2935.9375"
            ]
          },
          "execution_count": 112,
          "metadata": {},
          "output_type": "execute_result"
        }
      ],
      "source": [
        "# calculating the mean of steps that person took.\n",
        "np.mean(step_count)"
      ]
    },
    {
      "cell_type": "code",
      "execution_count": null,
      "id": "24e111e5",
      "metadata": {
        "id": "24e111e5",
        "outputId": "5fc015a4-d8f5-4657-9d42-3d84017de003"
      },
      "outputs": [
        {
          "data": {
            "text/plain": [
              "'14-12-2017'"
            ]
          },
          "execution_count": 114,
          "metadata": {},
          "output_type": "execute_result"
        }
      ],
      "source": [
        "# trying to find out the date on which the person took maximum number of steps.\n",
        "date[np.argmax(step_count)]"
      ]
    },
    {
      "cell_type": "code",
      "execution_count": null,
      "id": "8a9606db",
      "metadata": {
        "id": "8a9606db",
        "outputId": "3915ee91-a73d-4217-8c44-b2d277487082"
      },
      "outputs": [
        {
          "data": {
            "text/plain": [
              "array(['14-12-2017'], dtype='<U10')"
            ]
          },
          "execution_count": 115,
          "metadata": {},
          "output_type": "execute_result"
        }
      ],
      "source": [
        "date[step_count==7422]"
      ]
    },
    {
      "cell_type": "code",
      "execution_count": null,
      "id": "35de864a",
      "metadata": {
        "id": "35de864a",
        "outputId": "6ddcfa59-9b14-4fff-f947-e920d3e70d5b"
      },
      "outputs": [
        {
          "data": {
            "text/plain": [
              "'08-10-2017'"
            ]
          },
          "execution_count": 116,
          "metadata": {},
          "output_type": "execute_result"
        }
      ],
      "source": [
        "# trying to find out the date on which the person took minimum number of steps.\n",
        "date[np.argmin(step_count)]"
      ]
    },
    {
      "cell_type": "code",
      "execution_count": null,
      "id": "96264677",
      "metadata": {
        "id": "96264677",
        "outputId": "0e322074-a883-4c79-f8ba-92fb398b583e"
      },
      "outputs": [
        {
          "data": {
            "text/plain": [
              "243"
            ]
          },
          "execution_count": 117,
          "metadata": {},
          "output_type": "execute_result"
        }
      ],
      "source": [
        "# trying to find out the calories burned on a day on which the person took maximum number of steps.\n",
        "calories_burned[np.argmax(step_count)]"
      ]
    },
    {
      "cell_type": "code",
      "execution_count": null,
      "id": "60aed2d8",
      "metadata": {
        "id": "60aed2d8",
        "outputId": "e2893104-d949-49f0-8de1-4183ad1fb895"
      },
      "outputs": [
        {
          "data": {
            "text/plain": [
              "243"
            ]
          },
          "execution_count": 118,
          "metadata": {},
          "output_type": "execute_result"
        }
      ],
      "source": [
        "np.max(calories_burned)"
      ]
    },
    {
      "cell_type": "code",
      "execution_count": null,
      "id": "e1f467b0",
      "metadata": {
        "id": "e1f467b0",
        "outputId": "d8d32273-59d6-4f70-bb78-a84b6b26eb15"
      },
      "outputs": [
        {
          "data": {
            "text/plain": [
              "array(['Neutral', 'Sad', 'Sad', 'Sad', 'Neutral', 'Sad', 'Sad', 'Sad',\n",
              "       'Sad', 'Sad', 'Sad', 'Sad', 'Happy', 'Sad', 'Sad', 'Sad', 'Sad',\n",
              "       'Neutral', 'Neutral', 'Neutral', 'Neutral', 'Neutral', 'Neutral',\n",
              "       'Happy', 'Neutral', 'Happy', 'Happy', 'Happy', 'Happy', 'Happy',\n",
              "       'Happy', 'Happy', 'Neutral', 'Happy', 'Happy', 'Happy', 'Happy',\n",
              "       'Happy', 'Happy', 'Happy', 'Happy', 'Happy', 'Happy', 'Neutral',\n",
              "       'Happy', 'Happy', 'Happy', 'Happy', 'Happy', 'Happy', 'Happy',\n",
              "       'Happy', 'Happy', 'Neutral', 'Sad', 'Happy', 'Happy', 'Happy',\n",
              "       'Happy', 'Happy', 'Happy', 'Happy', 'Sad', 'Neutral', 'Neutral',\n",
              "       'Sad', 'Sad', 'Neutral', 'Neutral', 'Happy', 'Neutral', 'Neutral',\n",
              "       'Sad', 'Neutral', 'Sad', 'Neutral', 'Neutral', 'Sad', 'Sad', 'Sad',\n",
              "       'Sad', 'Happy', 'Neutral', 'Happy', 'Neutral', 'Sad', 'Sad', 'Sad',\n",
              "       'Neutral', 'Neutral', 'Sad', 'Sad', 'Happy', 'Neutral', 'Neutral',\n",
              "       'Happy'], dtype='<U10')"
            ]
          },
          "execution_count": 119,
          "metadata": {},
          "output_type": "execute_result"
        }
      ],
      "source": [
        "mood"
      ]
    },
    {
      "cell_type": "code",
      "execution_count": null,
      "id": "27e60023",
      "metadata": {
        "id": "27e60023"
      },
      "outputs": [],
      "source": [
        ""
      ]
    },
    {
      "cell_type": "code",
      "execution_count": null,
      "id": "10d3088f",
      "metadata": {
        "id": "10d3088f",
        "outputId": "ff11284f-1507-40ec-ab06-04a775fd134b"
      },
      "outputs": [
        {
          "data": {
            "text/plain": [
              "(40,)"
            ]
          },
          "execution_count": 121,
          "metadata": {},
          "output_type": "execute_result"
        }
      ],
      "source": [
        "mood[mood == \"Happy\"].shape"
      ]
    },
    {
      "cell_type": "code",
      "execution_count": null,
      "id": "d644b97e",
      "metadata": {
        "id": "d644b97e",
        "outputId": "d131ab07-9f21-4cac-872e-4649a85d0b78"
      },
      "outputs": [
        {
          "data": {
            "text/plain": [
              "(29,)"
            ]
          },
          "execution_count": 122,
          "metadata": {},
          "output_type": "execute_result"
        }
      ],
      "source": [
        "mood[mood == \"Sad\"].shape"
      ]
    },
    {
      "cell_type": "code",
      "execution_count": null,
      "id": "2b166351",
      "metadata": {
        "id": "2b166351",
        "outputId": "7e4e8038-c54f-4d2b-ead7-84f62cf99cc0"
      },
      "outputs": [
        {
          "data": {
            "text/plain": [
              "(27,)"
            ]
          },
          "execution_count": 123,
          "metadata": {},
          "output_type": "execute_result"
        }
      ],
      "source": [
        "mood[mood == \"Neutral\"].shape"
      ]
    },
    {
      "cell_type": "code",
      "execution_count": null,
      "id": "d9ab4c0f",
      "metadata": {
        "id": "d9ab4c0f",
        "outputId": "5416c2de-414a-41a8-d84d-920cffacb843"
      },
      "outputs": [
        {
          "data": {
            "text/plain": [
              "array(['Happy', 'Neutral', 'Sad'], dtype='<U10')"
            ]
          },
          "execution_count": 124,
          "metadata": {},
          "output_type": "execute_result"
        }
      ],
      "source": [
        "np.unique(mood)"
      ]
    },
    {
      "cell_type": "code",
      "source": [
        "A = [1,2,3,4,5,1,2,5,5]"
      ],
      "metadata": {
        "id": "Y3uqbRe5mKUN"
      },
      "id": "Y3uqbRe5mKUN",
      "execution_count": 54,
      "outputs": []
    },
    {
      "cell_type": "code",
      "source": [
        "# trying to find out the frequency of each unique values in the mood columns\n",
        "\n",
        "np.unique(A,return_counts=True)"
      ],
      "metadata": {
        "id": "GxmK9AjEmPik",
        "outputId": "b423ab39-9eea-4d87-8161-eda86f53b7bf",
        "colab": {
          "base_uri": "https://localhost:8080/"
        }
      },
      "id": "GxmK9AjEmPik",
      "execution_count": 55,
      "outputs": [
        {
          "output_type": "execute_result",
          "data": {
            "text/plain": [
              "(array([1, 2, 3, 4, 5]), array([2, 2, 1, 1, 3]))"
            ]
          },
          "metadata": {},
          "execution_count": 55
        }
      ]
    },
    {
      "cell_type": "code",
      "source": [
        ""
      ],
      "metadata": {
        "id": "yiNLmuc1mPms"
      },
      "id": "yiNLmuc1mPms",
      "execution_count": null,
      "outputs": []
    },
    {
      "cell_type": "code",
      "execution_count": null,
      "id": "7dae7e90",
      "metadata": {
        "id": "7dae7e90",
        "outputId": "2fece129-73a1-43c0-a0e4-35e6a69ed79e"
      },
      "outputs": [
        {
          "data": {
            "text/plain": [
              "(array(['Happy', 'Neutral', 'Sad'], dtype='<U10'), array([40, 27, 29]))"
            ]
          },
          "execution_count": 131,
          "metadata": {},
          "output_type": "execute_result"
        }
      ],
      "source": [
        "# trying to find out the frequency of each unique values in the mood columns\n",
        "\n",
        "np.unique(mood,return_counts=True)"
      ]
    },
    {
      "cell_type": "code",
      "execution_count": null,
      "id": "af144a3a",
      "metadata": {
        "id": "af144a3a",
        "outputId": "70f29c5a-23d3-4c37-b92e-d23ce0509732"
      },
      "outputs": [
        {
          "data": {
            "text/plain": [
              "(array(['Active', 'Inactive'], dtype='<U10'), array([42, 54]))"
            ]
          },
          "execution_count": 127,
          "metadata": {},
          "output_type": "execute_result"
        }
      ],
      "source": [
        "np.unique(bool_active,return_counts=True)"
      ]
    },
    {
      "cell_type": "code",
      "execution_count": null,
      "id": "302d2ea3",
      "metadata": {
        "id": "302d2ea3",
        "outputId": "67954051-56ee-4d14-c01e-a5178a027076"
      },
      "outputs": [
        {
          "data": {
            "text/plain": [
              "3392.725"
            ]
          },
          "execution_count": 132,
          "metadata": {},
          "output_type": "execute_result"
        }
      ],
      "source": [
        "np.mean(step_count[mood==\"Happy\"])"
      ]
    },
    {
      "cell_type": "code",
      "execution_count": null,
      "id": "2e80b01e",
      "metadata": {
        "id": "2e80b01e",
        "outputId": "83c060a9-3cd6-4204-80f1-870907126d16"
      },
      "outputs": [
        {
          "data": {
            "text/plain": [
              "2103.0689655172414"
            ]
          },
          "execution_count": 133,
          "metadata": {},
          "output_type": "execute_result"
        }
      ],
      "source": [
        "np.mean(step_count[mood==\"Sad\"])"
      ]
    },
    {
      "cell_type": "code",
      "execution_count": null,
      "id": "5455c9ce",
      "metadata": {
        "id": "5455c9ce",
        "outputId": "94965f2d-2d98-4fd5-ef2e-620ca57b2ff4"
      },
      "outputs": [
        {
          "data": {
            "text/plain": [
              "3153.777777777778"
            ]
          },
          "execution_count": 134,
          "metadata": {},
          "output_type": "execute_result"
        }
      ],
      "source": [
        "np.mean(step_count[mood==\"Neutral\"])"
      ]
    },
    {
      "cell_type": "code",
      "execution_count": null,
      "id": "9b5015d5",
      "metadata": {
        "id": "9b5015d5",
        "outputId": "09ae8ba8-f98c-4773-d284-b3ea571dfd3e"
      },
      "outputs": [
        {
          "data": {
            "text/plain": [
              "(array(['Happy', 'Neutral', 'Sad'], dtype='<U10'), array([22,  9,  7]))"
            ]
          },
          "execution_count": 135,
          "metadata": {},
          "output_type": "execute_result"
        }
      ],
      "source": [
        "# calculating freq of mood where the number of steps taken is more than 4000\n",
        "np.unique(mood[step_count>4000],return_counts=True)"
      ]
    },
    {
      "cell_type": "code",
      "execution_count": null,
      "id": "1056b015",
      "metadata": {
        "id": "1056b015",
        "outputId": "55d3ee67-e436-439b-be37-cd86163daf54"
      },
      "outputs": [
        {
          "data": {
            "text/plain": [
              "(array(['Happy', 'Neutral', 'Sad'], dtype='<U10'), array([13,  8, 18]))"
            ]
          },
          "execution_count": 136,
          "metadata": {},
          "output_type": "execute_result"
        }
      ],
      "source": [
        "np.unique(mood[step_count<2000],return_counts=True)"
      ]
    },
    {
      "cell_type": "code",
      "execution_count": null,
      "id": "b215a632",
      "metadata": {
        "id": "b215a632"
      },
      "outputs": [],
      "source": [
        ""
      ]
    },
    {
      "cell_type": "code",
      "execution_count": null,
      "id": "195fb462",
      "metadata": {
        "id": "195fb462"
      },
      "outputs": [],
      "source": [
        "a = np.array([[23,4,43],\n",
        "              [12,89,3],\n",
        "              [69,420,0]])\n",
        "\n",
        "b = np.sort(a)"
      ]
    },
    {
      "cell_type": "code",
      "execution_count": null,
      "id": "f7945e6b",
      "metadata": {
        "id": "f7945e6b",
        "outputId": "35cb4e3b-e193-4d82-8327-3f1522bbae67"
      },
      "outputs": [
        {
          "data": {
            "text/plain": [
              "array([[  4,  23,  43],\n",
              "       [  3,  12,  89],\n",
              "       [  0,  69, 420]])"
            ]
          },
          "execution_count": 138,
          "metadata": {},
          "output_type": "execute_result"
        }
      ],
      "source": [
        "b"
      ]
    },
    {
      "cell_type": "code",
      "execution_count": null,
      "id": "8c962956",
      "metadata": {
        "id": "8c962956",
        "outputId": "6d058066-0e32-4496-a821-594d3cd41239"
      },
      "outputs": [
        {
          "name": "stdout",
          "output_type": "stream",
          "text": [
            "[7 8 9]\n"
          ]
        }
      ],
      "source": [
        "a=[[1 ,2 ,3],\n",
        "[4 ,5, 6],\n",
        "[7 ,8, 9]]\n",
        "print(np.max(a, axis=0))\n",
        "\n"
      ]
    },
    {
      "cell_type": "code",
      "execution_count": null,
      "id": "99be6aad",
      "metadata": {
        "id": "99be6aad",
        "outputId": "d5ffc965-55ff-4eec-a7e7-2f8192712fc4"
      },
      "outputs": [
        {
          "data": {
            "text/plain": [
              "array([3, 5, 7])"
            ]
          },
          "execution_count": 141,
          "metadata": {},
          "output_type": "execute_result"
        }
      ],
      "source": [
        "a=np.array([1,2,3])\n",
        "b=np.array([2,3,4])\n",
        "a+b"
      ]
    },
    {
      "cell_type": "code",
      "execution_count": null,
      "id": "db5664ee",
      "metadata": {
        "id": "db5664ee",
        "outputId": "db936826-dbb4-40de-d712-d101e403153a"
      },
      "outputs": [
        {
          "data": {
            "text/plain": [
              "array([3, 5, 7])"
            ]
          },
          "execution_count": 142,
          "metadata": {},
          "output_type": "execute_result"
        }
      ],
      "source": [
        "np.add(a,b)"
      ]
    },
    {
      "cell_type": "code",
      "execution_count": null,
      "id": "01724b82",
      "metadata": {
        "id": "01724b82",
        "outputId": "a95d0ce8-b754-45d9-b67e-78ab903ded4b"
      },
      "outputs": [
        {
          "data": {
            "text/plain": [
              "array([[  2,   6,  12,  20],\n",
              "       [ 30,  42,  56,  72],\n",
              "       [ 90, 110, 132, 156]])"
            ]
          },
          "execution_count": 144,
          "metadata": {},
          "output_type": "execute_result"
        }
      ],
      "source": [
        "m=np.arange(1,13).reshape((3,4))\n",
        "n=np.arange(2,14).reshape((3,4))\n",
        "m*n"
      ]
    },
    {
      "cell_type": "code",
      "execution_count": null,
      "id": "2ead1fc4",
      "metadata": {
        "id": "2ead1fc4",
        "outputId": "930ab03c-e52e-4b70-dcb1-44ff04ba00d0"
      },
      "outputs": [
        {
          "ename": "ValueError",
          "evalue": "matmul: Input operand 1 has a mismatch in its core dimension 0, with gufunc signature (n?,k),(k,m?)->(n?,m?) (size 3 is different from 4)",
          "output_type": "error",
          "traceback": [
            "\u001b[0;31m---------------------------------------------------------------------------\u001b[0m",
            "\u001b[0;31mValueError\u001b[0m                                Traceback (most recent call last)",
            "\u001b[0;32m/var/folders/hd/9z4dczb56dj54lb7q8w7s4zw0000gn/T/ipykernel_22371/2617146941.py\u001b[0m in \u001b[0;36m<module>\u001b[0;34m\u001b[0m\n\u001b[0;32m----> 1\u001b[0;31m \u001b[0mnp\u001b[0m\u001b[0;34m.\u001b[0m\u001b[0mmatmul\u001b[0m\u001b[0;34m(\u001b[0m\u001b[0mm\u001b[0m\u001b[0;34m,\u001b[0m\u001b[0mn\u001b[0m\u001b[0;34m)\u001b[0m\u001b[0;34m\u001b[0m\u001b[0;34m\u001b[0m\u001b[0m\n\u001b[0m",
            "\u001b[0;31mValueError\u001b[0m: matmul: Input operand 1 has a mismatch in its core dimension 0, with gufunc signature (n?,k),(k,m?)->(n?,m?) (size 3 is different from 4)"
          ]
        }
      ],
      "source": [
        "# obtaining matrix multiplication result of 2 arrays\n",
        "# Method 1\n",
        "np.matmul(m,n)"
      ]
    },
    {
      "cell_type": "code",
      "execution_count": null,
      "id": "d34926d3",
      "metadata": {
        "id": "d34926d3",
        "outputId": "9f31f31e-49c8-4d5d-ec31-3a42fcd2d96c"
      },
      "outputs": [
        {
          "data": {
            "text/plain": [
              "array([[ 80,  90, 100],\n",
              "       [184, 210, 236],\n",
              "       [288, 330, 372]])"
            ]
          },
          "execution_count": 146,
          "metadata": {},
          "output_type": "execute_result"
        }
      ],
      "source": [
        "m=np.arange(1,13).reshape((3,4))\n",
        "n=np.arange(2,14).reshape((4,3))\n",
        "np.matmul(m,n)"
      ]
    },
    {
      "cell_type": "code",
      "execution_count": null,
      "id": "9572f0ff",
      "metadata": {
        "id": "9572f0ff",
        "outputId": "0c1eb51c-ceb9-4be0-f63a-b088764455fd"
      },
      "outputs": [
        {
          "data": {
            "text/plain": [
              "array([[ 53,  62,  71,  80],\n",
              "       [ 98, 116, 134, 152],\n",
              "       [143, 170, 197, 224],\n",
              "       [188, 224, 260, 296]])"
            ]
          },
          "execution_count": 147,
          "metadata": {},
          "output_type": "execute_result"
        }
      ],
      "source": [
        "np.matmul(n,m)"
      ]
    },
    {
      "cell_type": "code",
      "execution_count": null,
      "id": "2e7441ae",
      "metadata": {
        "id": "2e7441ae",
        "outputId": "532604b7-215c-41b6-eb44-2a12f7b2ab16"
      },
      "outputs": [
        {
          "data": {
            "text/plain": [
              "array([[ 53,  62,  71,  80],\n",
              "       [ 98, 116, 134, 152],\n",
              "       [143, 170, 197, 224],\n",
              "       [188, 224, 260, 296]])"
            ]
          },
          "execution_count": 148,
          "metadata": {},
          "output_type": "execute_result"
        }
      ],
      "source": [
        "# Method 2\n",
        "n@m"
      ]
    },
    {
      "cell_type": "code",
      "execution_count": null,
      "id": "aa5292f0",
      "metadata": {
        "id": "aa5292f0",
        "outputId": "a1762d6b-541b-4cfa-94d1-0d056cd692bb"
      },
      "outputs": [
        {
          "data": {
            "text/plain": [
              "array([[ 53,  62,  71,  80],\n",
              "       [ 98, 116, 134, 152],\n",
              "       [143, 170, 197, 224],\n",
              "       [188, 224, 260, 296]])"
            ]
          },
          "execution_count": 149,
          "metadata": {},
          "output_type": "execute_result"
        }
      ],
      "source": [
        "# Method 1\n",
        "# Better and preferred\n",
        "np.dot(n,m)"
      ]
    },
    {
      "cell_type": "code",
      "execution_count": null,
      "id": "644e6455",
      "metadata": {
        "id": "644e6455",
        "outputId": "dfa671de-70d2-4898-89d0-9d5b8d72b1fd"
      },
      "outputs": [
        {
          "data": {
            "text/plain": [
              "20"
            ]
          },
          "execution_count": 150,
          "metadata": {},
          "output_type": "execute_result"
        }
      ],
      "source": [
        "a=np.array([1,2,3])\n",
        "b=np.array([2,3,4])\n",
        "np.matmul(a,b)"
      ]
    },
    {
      "cell_type": "code",
      "execution_count": null,
      "id": "dd9d5c01",
      "metadata": {
        "id": "dd9d5c01",
        "outputId": "6c1d73a1-d795-4bf3-8baa-0ee9c87fb097"
      },
      "outputs": [
        {
          "ename": "ValueError",
          "evalue": "matmul: Input operand 0 does not have enough dimensions (has 0, gufunc core with signature (n?,k),(k,m?)->(n?,m?) requires 1)",
          "output_type": "error",
          "traceback": [
            "\u001b[0;31m---------------------------------------------------------------------------\u001b[0m",
            "\u001b[0;31mValueError\u001b[0m                                Traceback (most recent call last)",
            "\u001b[0;32m/var/folders/hd/9z4dczb56dj54lb7q8w7s4zw0000gn/T/ipykernel_22371/4235031990.py\u001b[0m in \u001b[0;36m<module>\u001b[0;34m\u001b[0m\n\u001b[0;32m----> 1\u001b[0;31m \u001b[0mnp\u001b[0m\u001b[0;34m.\u001b[0m\u001b[0mmatmul\u001b[0m\u001b[0;34m(\u001b[0m\u001b[0;36m4\u001b[0m\u001b[0;34m,\u001b[0m\u001b[0;36m5\u001b[0m\u001b[0;34m)\u001b[0m\u001b[0;34m\u001b[0m\u001b[0;34m\u001b[0m\u001b[0m\n\u001b[0m",
            "\u001b[0;31mValueError\u001b[0m: matmul: Input operand 0 does not have enough dimensions (has 0, gufunc core with signature (n?,k),(k,m?)->(n?,m?) requires 1)"
          ]
        }
      ],
      "source": [
        "np.matmul(4,5)"
      ]
    },
    {
      "cell_type": "code",
      "execution_count": null,
      "id": "ad73b450",
      "metadata": {
        "id": "ad73b450",
        "outputId": "6c85d133-0d58-4fab-a9a7-9ff945c29abb"
      },
      "outputs": [
        {
          "data": {
            "text/plain": [
              "20"
            ]
          },
          "execution_count": 152,
          "metadata": {},
          "output_type": "execute_result"
        }
      ],
      "source": [
        "np.dot(a,b)"
      ]
    },
    {
      "cell_type": "code",
      "execution_count": null,
      "id": "f893e07a",
      "metadata": {
        "id": "f893e07a",
        "outputId": "6ce3884f-0ba3-4dc3-e26c-3e8df7a52aa2"
      },
      "outputs": [
        {
          "data": {
            "text/plain": [
              "6"
            ]
          },
          "execution_count": 154,
          "metadata": {},
          "output_type": "execute_result"
        }
      ],
      "source": [
        "np.dot(3,2)"
      ]
    },
    {
      "cell_type": "code",
      "execution_count": null,
      "id": "be1a81ed",
      "metadata": {
        "id": "be1a81ed",
        "outputId": "846e3508-6d08-4aa7-af5f-51e4aee519a9"
      },
      "outputs": [
        {
          "data": {
            "text/plain": [
              "20"
            ]
          },
          "execution_count": 155,
          "metadata": {},
          "output_type": "execute_result"
        }
      ],
      "source": [
        "a@b"
      ]
    },
    {
      "cell_type": "code",
      "execution_count": null,
      "id": "d90178c6",
      "metadata": {
        "id": "d90178c6",
        "outputId": "2b4a4b8c-cbf0-4597-e78e-651a49d80c18"
      },
      "outputs": [
        {
          "ename": "TypeError",
          "evalue": "unsupported operand type(s) for @: 'int' and 'int'",
          "output_type": "error",
          "traceback": [
            "\u001b[0;31m---------------------------------------------------------------------------\u001b[0m",
            "\u001b[0;31mTypeError\u001b[0m                                 Traceback (most recent call last)",
            "\u001b[0;32m/var/folders/hd/9z4dczb56dj54lb7q8w7s4zw0000gn/T/ipykernel_22371/1092958690.py\u001b[0m in \u001b[0;36m<module>\u001b[0;34m\u001b[0m\n\u001b[0;32m----> 1\u001b[0;31m \u001b[0;36m4\u001b[0m\u001b[0;34m@\u001b[0m\u001b[0;36m5\u001b[0m\u001b[0;34m\u001b[0m\u001b[0;34m\u001b[0m\u001b[0m\n\u001b[0m",
            "\u001b[0;31mTypeError\u001b[0m: unsupported operand type(s) for @: 'int' and 'int'"
          ]
        }
      ],
      "source": [
        "4@5"
      ]
    },
    {
      "cell_type": "code",
      "execution_count": null,
      "id": "e9d16100",
      "metadata": {
        "id": "e9d16100",
        "outputId": "13c3df31-be9e-4c6a-adee-ab4fe3197732"
      },
      "outputs": [
        {
          "data": {
            "text/plain": [
              "array([[1, 2, 3],\n",
              "       [4, 5, 6],\n",
              "       [7, 8, 9]])"
            ]
          },
          "execution_count": 157,
          "metadata": {},
          "output_type": "execute_result"
        }
      ],
      "source": [
        "m=np.arange(1,10).reshape((3,3))\n",
        "m"
      ]
    },
    {
      "cell_type": "code",
      "execution_count": null,
      "id": "31c91000",
      "metadata": {
        "id": "31c91000",
        "outputId": "26bf1918-563e-444c-c6c1-e4edba7e573b"
      },
      "outputs": [
        {
          "data": {
            "text/plain": [
              "(3,)"
            ]
          },
          "execution_count": 159,
          "metadata": {},
          "output_type": "execute_result"
        }
      ],
      "source": [
        "a=np.array([1,2,3])\n",
        "a.shape"
      ]
    },
    {
      "cell_type": "code",
      "execution_count": null,
      "id": "0357bdf9",
      "metadata": {
        "id": "0357bdf9",
        "outputId": "2120c1d0-ae8a-4cb9-c006-3d2305b86668"
      },
      "outputs": [
        {
          "data": {
            "text/plain": [
              "array([[ 1,  4,  9],\n",
              "       [ 4, 10, 18],\n",
              "       [ 7, 16, 27]])"
            ]
          },
          "execution_count": 160,
          "metadata": {},
          "output_type": "execute_result"
        }
      ],
      "source": [
        "m*a"
      ]
    },
    {
      "cell_type": "code",
      "execution_count": null,
      "id": "d1e7da9c",
      "metadata": {
        "id": "d1e7da9c",
        "outputId": "290d70d9-c96a-4223-c5df-5936068c27f1"
      },
      "outputs": [
        {
          "data": {
            "text/plain": [
              "array([14, 32, 50])"
            ]
          },
          "execution_count": 161,
          "metadata": {},
          "output_type": "execute_result"
        }
      ],
      "source": [
        "np.matmul(m,a)"
      ]
    },
    {
      "cell_type": "code",
      "execution_count": null,
      "id": "d8eb3f6f",
      "metadata": {
        "id": "d8eb3f6f",
        "outputId": "5b1bc467-b846-4772-c6cf-c29b885d31c8"
      },
      "outputs": [
        {
          "data": {
            "text/plain": [
              "array([30, 36, 42])"
            ]
          },
          "execution_count": 162,
          "metadata": {},
          "output_type": "execute_result"
        }
      ],
      "source": [
        "np.matmul(a,m)"
      ]
    },
    {
      "cell_type": "code",
      "execution_count": null,
      "id": "f6be285b",
      "metadata": {
        "id": "f6be285b",
        "outputId": "3c53122f-3d28-400d-b5b3-8bb76f77adf6"
      },
      "outputs": [
        {
          "data": {
            "text/plain": [
              "array([14, 32, 50])"
            ]
          },
          "execution_count": 163,
          "metadata": {},
          "output_type": "execute_result"
        }
      ],
      "source": [
        "np.dot(m,a)"
      ]
    },
    {
      "cell_type": "code",
      "execution_count": null,
      "id": "cf7bfb14",
      "metadata": {
        "id": "cf7bfb14",
        "outputId": "4e2a443b-a6eb-4117-b4f0-fb4dde699dc2"
      },
      "outputs": [
        {
          "data": {
            "text/plain": [
              "array([30, 36, 42])"
            ]
          },
          "execution_count": 164,
          "metadata": {},
          "output_type": "execute_result"
        }
      ],
      "source": [
        "np.dot(a,m)"
      ]
    },
    {
      "cell_type": "code",
      "execution_count": null,
      "id": "47cada13",
      "metadata": {
        "id": "47cada13",
        "outputId": "670f7c2d-90bc-4383-a872-38cbcedd90ef"
      },
      "outputs": [
        {
          "name": "stdout",
          "output_type": "stream",
          "text": [
            "[ 1 10 21 35 72]\n"
          ]
        }
      ],
      "source": [
        "a = np.array([1,2,3,5,8])\n",
        "b = np.array([0,3,4,2,1])\n",
        "c = a + b\n",
        "\n",
        "c = c*a\n",
        "print(c)\n",
        "# print (c[2])"
      ]
    },
    {
      "cell_type": "code",
      "execution_count": null,
      "id": "f33b35de",
      "metadata": {
        "id": "f33b35de",
        "outputId": "a6837730-94c5-454b-ace1-ce14cac863a9"
      },
      "outputs": [
        {
          "name": "stdout",
          "output_type": "stream",
          "text": [
            "[1 2 3 5 8]\n"
          ]
        }
      ],
      "source": [
        "import math\n",
        "a = np.array([1,2,3,5,8])\n",
        "print(a)\n"
      ]
    },
    {
      "cell_type": "code",
      "execution_count": null,
      "id": "6c753c3f",
      "metadata": {
        "id": "6c753c3f",
        "outputId": "8e42e8eb-1b3b-4059-8a42-89656a0f5728"
      },
      "outputs": [
        {
          "data": {
            "text/plain": [
              "array([0.        , 0.69314718, 1.09861229, 1.60943791, 2.07944154])"
            ]
          },
          "execution_count": 170,
          "metadata": {},
          "output_type": "execute_result"
        }
      ],
      "source": [
        "# we can vercotize any function on work on each element of numpy array.\n",
        "func=np.vectorize(math.log)\n",
        "func(a)"
      ]
    },
    {
      "cell_type": "code",
      "execution_count": null,
      "id": "fbf0dc56",
      "metadata": {
        "id": "fbf0dc56",
        "outputId": "5b4f16bd-4176-40b3-8a31-2288559d1d69"
      },
      "outputs": [
        {
          "data": {
            "text/plain": [
              "array([  1,   8,  27, 125, 512])"
            ]
          },
          "execution_count": 172,
          "metadata": {},
          "output_type": "execute_result"
        }
      ],
      "source": [
        "def cube(s):\n",
        "    return s**3\n",
        "func1=np.vectorize(cube)\n",
        "func1(a)"
      ]
    },
    {
      "cell_type": "code",
      "execution_count": null,
      "id": "3d5f4fb1",
      "metadata": {
        "id": "3d5f4fb1"
      },
      "outputs": [],
      "source": [
        ""
      ]
    },
    {
      "cell_type": "code",
      "execution_count": null,
      "id": "31bd8fba",
      "metadata": {
        "id": "31bd8fba",
        "outputId": "3247b92d-2e89-4a03-bce3-9ee9a208a1c6"
      },
      "outputs": [
        {
          "name": "stdout",
          "output_type": "stream",
          "text": [
            "[[ 1  2  3  4]\n",
            " [ 5  6  7  8]\n",
            " [ 9 10 11 12]]\n"
          ]
        }
      ],
      "source": [
        "a=np.arange(1,13).reshape((3,4))\n",
        "print(a)"
      ]
    },
    {
      "cell_type": "code",
      "execution_count": null,
      "id": "ef87ae01",
      "metadata": {
        "id": "ef87ae01",
        "outputId": "e0cef67e-2bc7-4029-833a-418f94631a6e"
      },
      "outputs": [
        {
          "data": {
            "text/plain": [
              "array([[ 1,  2,  3,  4,  1,  2,  3,  4],\n",
              "       [ 5,  6,  7,  8,  5,  6,  7,  8],\n",
              "       [ 9, 10, 11, 12,  9, 10, 11, 12],\n",
              "       [ 1,  2,  3,  4,  1,  2,  3,  4],\n",
              "       [ 5,  6,  7,  8,  5,  6,  7,  8],\n",
              "       [ 9, 10, 11, 12,  9, 10, 11, 12]])"
            ]
          },
          "execution_count": 174,
          "metadata": {},
          "output_type": "execute_result"
        }
      ],
      "source": [
        "# creating multiple copies of the same data by creating tiles and replicating it across rows and columns\n",
        "np.tile(a,(2,2))"
      ]
    },
    {
      "cell_type": "code",
      "execution_count": null,
      "id": "affe2357",
      "metadata": {
        "id": "affe2357",
        "outputId": "4c179ed1-61ca-41e4-bfba-eff1e45cc0ac"
      },
      "outputs": [
        {
          "data": {
            "text/plain": [
              "array([[ 1,  2,  3,  4,  1,  2,  3,  4],\n",
              "       [ 5,  6,  7,  8,  5,  6,  7,  8],\n",
              "       [ 9, 10, 11, 12,  9, 10, 11, 12],\n",
              "       [ 1,  2,  3,  4,  1,  2,  3,  4],\n",
              "       [ 5,  6,  7,  8,  5,  6,  7,  8],\n",
              "       [ 9, 10, 11, 12,  9, 10, 11, 12],\n",
              "       [ 1,  2,  3,  4,  1,  2,  3,  4],\n",
              "       [ 5,  6,  7,  8,  5,  6,  7,  8],\n",
              "       [ 9, 10, 11, 12,  9, 10, 11, 12]])"
            ]
          },
          "execution_count": 175,
          "metadata": {},
          "output_type": "execute_result"
        }
      ],
      "source": [
        "np.tile(a,(3,2))"
      ]
    },
    {
      "cell_type": "code",
      "execution_count": null,
      "id": "8f0b8768",
      "metadata": {
        "id": "8f0b8768"
      },
      "outputs": [],
      "source": [
        "a = np.arange(1,100000)\n",
        "b = np.ones(100000)\n",
        "# %timeit a.any()\n",
        "# %timeit b.any()"
      ]
    },
    {
      "cell_type": "code",
      "execution_count": null,
      "id": "0668450d",
      "metadata": {
        "id": "0668450d",
        "outputId": "1ebe9ba4-84b1-477d-96ed-e30c109c2b5c"
      },
      "outputs": [
        {
          "name": "stdout",
          "output_type": "stream",
          "text": [
            "[    1     2     3 ... 99997 99998 99999]\n"
          ]
        }
      ],
      "source": [
        "\n",
        "print(a)"
      ]
    },
    {
      "cell_type": "code",
      "execution_count": null,
      "id": "72f1f2c3",
      "metadata": {
        "id": "72f1f2c3",
        "outputId": "3aa50c71-254e-490b-bec6-92b46420a692"
      },
      "outputs": [
        {
          "name": "stdout",
          "output_type": "stream",
          "text": [
            "[1. 1. 1. ... 1. 1. 1.]\n"
          ]
        }
      ],
      "source": [
        "print(b)"
      ]
    },
    {
      "cell_type": "code",
      "execution_count": null,
      "id": "1fbc8a2b",
      "metadata": {
        "id": "1fbc8a2b",
        "outputId": "f95ce10b-0353-406f-960d-cdfdd2e4395c"
      },
      "outputs": [
        {
          "name": "stdout",
          "output_type": "stream",
          "text": [
            "31 µs ± 559 ns per loop (mean ± std. dev. of 7 runs, 10000 loops each)\n"
          ]
        }
      ],
      "source": [
        "%timeit np.any(a)"
      ]
    },
    {
      "cell_type": "code",
      "execution_count": null,
      "id": "19b8ad68",
      "metadata": {
        "id": "19b8ad68",
        "outputId": "e5cab5ff-8d4d-43d8-a5e8-0758c1be45b0"
      },
      "outputs": [
        {
          "name": "stdout",
          "output_type": "stream",
          "text": [
            "32.1 µs ± 155 ns per loop (mean ± std. dev. of 7 runs, 10000 loops each)\n"
          ]
        }
      ],
      "source": [
        "%timeit np.any(b)"
      ]
    },
    {
      "cell_type": "code",
      "execution_count": null,
      "id": "5d857df8",
      "metadata": {
        "id": "5d857df8"
      },
      "outputs": [],
      "source": [
        ""
      ]
    },
    {
      "cell_type": "code",
      "execution_count": null,
      "id": "e7706969",
      "metadata": {
        "id": "e7706969",
        "outputId": "321aba97-a0ae-4aa0-fa37-64866be68616"
      },
      "outputs": [
        {
          "ename": "ValueError",
          "evalue": "can only specify one unknown dimension",
          "output_type": "error",
          "traceback": [
            "\u001b[0;31m---------------------------------------------------------------------------\u001b[0m",
            "\u001b[0;31mValueError\u001b[0m                                Traceback (most recent call last)",
            "\u001b[0;32m/var/folders/hd/9z4dczb56dj54lb7q8w7s4zw0000gn/T/ipykernel_22371/4218722455.py\u001b[0m in \u001b[0;36m<module>\u001b[0;34m\u001b[0m\n\u001b[0;32m----> 1\u001b[0;31m \u001b[0ma\u001b[0m\u001b[0;34m=\u001b[0m\u001b[0mnp\u001b[0m\u001b[0;34m.\u001b[0m\u001b[0marange\u001b[0m\u001b[0;34m(\u001b[0m\u001b[0;36m1\u001b[0m\u001b[0;34m,\u001b[0m\u001b[0;36m11\u001b[0m\u001b[0;34m)\u001b[0m\u001b[0;34m.\u001b[0m\u001b[0mreshape\u001b[0m\u001b[0;34m(\u001b[0m\u001b[0;34m-\u001b[0m\u001b[0;36m1\u001b[0m\u001b[0;34m,\u001b[0m\u001b[0;34m-\u001b[0m\u001b[0;36m1\u001b[0m\u001b[0;34m)\u001b[0m\u001b[0;34m\u001b[0m\u001b[0;34m\u001b[0m\u001b[0m\n\u001b[0m\u001b[1;32m      2\u001b[0m \u001b[0ma\u001b[0m\u001b[0;34m\u001b[0m\u001b[0;34m\u001b[0m\u001b[0m\n",
            "\u001b[0;31mValueError\u001b[0m: can only specify one unknown dimension"
          ]
        }
      ],
      "source": [
        "a=np.arange(1,11).reshape(-1,-1)\n",
        "a"
      ]
    },
    {
      "cell_type": "code",
      "execution_count": null,
      "id": "8bc39135",
      "metadata": {
        "id": "8bc39135"
      },
      "outputs": [],
      "source": [
        "()"
      ]
    },
    {
      "cell_type": "code",
      "execution_count": null,
      "id": "87a3d3b7",
      "metadata": {
        "id": "87a3d3b7"
      },
      "outputs": [],
      "source": [
        ""
      ]
    },
    {
      "cell_type": "code",
      "execution_count": null,
      "id": "7ba18a12",
      "metadata": {
        "id": "7ba18a12"
      },
      "outputs": [],
      "source": [
        ""
      ]
    },
    {
      "cell_type": "code",
      "execution_count": null,
      "id": "ce24c874",
      "metadata": {
        "id": "ce24c874"
      },
      "outputs": [],
      "source": [
        ""
      ]
    },
    {
      "cell_type": "code",
      "execution_count": null,
      "id": "4f0eabcb",
      "metadata": {
        "id": "4f0eabcb"
      },
      "outputs": [],
      "source": [
        ""
      ]
    },
    {
      "cell_type": "code",
      "execution_count": null,
      "id": "ff47528a",
      "metadata": {
        "id": "ff47528a"
      },
      "outputs": [],
      "source": [
        ""
      ]
    },
    {
      "cell_type": "code",
      "execution_count": null,
      "id": "a62fc39d",
      "metadata": {
        "id": "a62fc39d"
      },
      "outputs": [],
      "source": [
        ""
      ]
    },
    {
      "cell_type": "code",
      "execution_count": null,
      "id": "2ea7d063",
      "metadata": {
        "id": "2ea7d063"
      },
      "outputs": [],
      "source": [
        ""
      ]
    },
    {
      "cell_type": "code",
      "execution_count": null,
      "id": "fcda954d",
      "metadata": {
        "id": "fcda954d"
      },
      "outputs": [],
      "source": [
        ""
      ]
    },
    {
      "cell_type": "code",
      "execution_count": null,
      "id": "1abf8121",
      "metadata": {
        "id": "1abf8121"
      },
      "outputs": [],
      "source": [
        ""
      ]
    }
  ],
  "metadata": {
    "kernelspec": {
      "display_name": "Python 3 (ipykernel)",
      "language": "python",
      "name": "python3"
    },
    "language_info": {
      "codemirror_mode": {
        "name": "ipython",
        "version": 3
      },
      "file_extension": ".py",
      "mimetype": "text/x-python",
      "name": "python",
      "nbconvert_exporter": "python",
      "pygments_lexer": "ipython3",
      "version": "3.9.7"
    },
    "colab": {
      "name": "Numpy-2.ipynb",
      "provenance": [],
      "include_colab_link": true
    }
  },
  "nbformat": 4,
  "nbformat_minor": 5
}