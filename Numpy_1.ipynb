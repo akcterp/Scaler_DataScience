{
  "cells": [
    {
      "cell_type": "markdown",
      "metadata": {
        "id": "view-in-github",
        "colab_type": "text"
      },
      "source": [
        "<a href=\"https://colab.research.google.com/github/akcterp/Scaler_DataScience/blob/main/Numpy_1.ipynb\" target=\"_parent\"><img src=\"https://colab.research.google.com/assets/colab-badge.svg\" alt=\"Open In Colab\"/></a>"
      ]
    },
    {
      "cell_type": "code",
      "execution_count": 2,
      "id": "cfed3e72",
      "metadata": {
        "id": "cfed3e72"
      },
      "outputs": [],
      "source": [
        "import numpy as np"
      ]
    },
    {
      "cell_type": "code",
      "execution_count": 3,
      "id": "2866252c",
      "metadata": {
        "id": "2866252c",
        "outputId": "26472d5f-e160-45e0-cbc1-ee5966d61321",
        "colab": {
          "base_uri": "https://localhost:8080/"
        }
      },
      "outputs": [
        {
          "output_type": "stream",
          "name": "stdout",
          "text": [
            "[1, 4, 9, 16, 25]\n"
          ]
        }
      ],
      "source": [
        "a=[1,2,3,4,5]\n",
        "print([i**2 for i in a])"
      ]
    },
    {
      "cell_type": "code",
      "execution_count": 4,
      "id": "714fabb5",
      "metadata": {
        "id": "714fabb5",
        "outputId": "6e3ded2c-2df9-4242-dd80-58125d794c01",
        "colab": {
          "base_uri": "https://localhost:8080/"
        }
      },
      "outputs": [
        {
          "output_type": "stream",
          "name": "stdout",
          "text": [
            "[ 1  4  9 16 25]\n"
          ]
        }
      ],
      "source": [
        "# we can create numpy arrays using np.array\n",
        "b=np.array([1,2,3,4,5])\n",
        "print(b**2)"
      ]
    },
    {
      "cell_type": "code",
      "execution_count": 5,
      "id": "55edcc31",
      "metadata": {
        "id": "55edcc31",
        "outputId": "9c605ee8-bef3-4513-e92b-aade90eece87",
        "colab": {
          "base_uri": "https://localhost:8080/"
        }
      },
      "outputs": [
        {
          "output_type": "stream",
          "name": "stdout",
          "text": [
            "[3 4 5 6 7]\n"
          ]
        }
      ],
      "source": [
        "# numpy supports elementwise operations\n",
        "print(b+2)"
      ]
    },
    {
      "cell_type": "code",
      "execution_count": 6,
      "id": "6a51804d",
      "metadata": {
        "id": "6a51804d",
        "outputId": "821d6352-e896-463a-e239-48fecd1b9187",
        "colab": {
          "base_uri": "https://localhost:8080/"
        }
      },
      "outputs": [
        {
          "output_type": "stream",
          "name": "stdout",
          "text": [
            "[1 2 3 4 5]\n"
          ]
        }
      ],
      "source": [
        "c=np.array(a)\n",
        "print(c)"
      ]
    },
    {
      "cell_type": "code",
      "execution_count": 7,
      "id": "d303526c",
      "metadata": {
        "id": "d303526c",
        "outputId": "c049e9ba-a194-4106-f999-b9804df8f7f9",
        "colab": {
          "base_uri": "https://localhost:8080/"
        }
      },
      "outputs": [
        {
          "output_type": "execute_result",
          "data": {
            "text/plain": [
              "list"
            ]
          },
          "metadata": {},
          "execution_count": 7
        }
      ],
      "source": [
        "# type of the entire Numpy array\n",
        "type(a)"
      ]
    },
    {
      "cell_type": "code",
      "execution_count": 8,
      "id": "342f0e60",
      "metadata": {
        "id": "342f0e60",
        "outputId": "e13a8a7e-5051-4e48-b41d-6486aac60282",
        "colab": {
          "base_uri": "https://localhost:8080/"
        }
      },
      "outputs": [
        {
          "output_type": "execute_result",
          "data": {
            "text/plain": [
              "numpy.ndarray"
            ]
          },
          "metadata": {},
          "execution_count": 8
        }
      ],
      "source": [
        "type(b)"
      ]
    },
    {
      "cell_type": "code",
      "execution_count": 9,
      "id": "16d7c778",
      "metadata": {
        "id": "16d7c778"
      },
      "outputs": [],
      "source": [
        "l=range(10000)\n"
      ]
    },
    {
      "cell_type": "code",
      "execution_count": 10,
      "id": "c847faf6",
      "metadata": {
        "id": "c847faf6",
        "outputId": "fe32fc40-bd82-4bdd-9242-8448c9bdbcad",
        "colab": {
          "base_uri": "https://localhost:8080/"
        }
      },
      "outputs": [
        {
          "output_type": "stream",
          "name": "stdout",
          "text": [
            "100 loops, best of 5: 2.82 ms per loop\n"
          ]
        }
      ],
      "source": [
        "%timeit [i**2 for i in l]"
      ]
    },
    {
      "cell_type": "code",
      "execution_count": 11,
      "id": "922aadf7",
      "metadata": {
        "id": "922aadf7",
        "outputId": "e39525b6-fced-4ff8-bd76-e46b6d137101",
        "colab": {
          "base_uri": "https://localhost:8080/"
        }
      },
      "outputs": [
        {
          "output_type": "stream",
          "name": "stdout",
          "text": [
            "[   0    1    2 ... 9997 9998 9999]\n"
          ]
        }
      ],
      "source": [
        "m=np.arange(10000)\n",
        "print(m)"
      ]
    },
    {
      "cell_type": "code",
      "execution_count": 12,
      "id": "af7b1e01",
      "metadata": {
        "id": "af7b1e01",
        "outputId": "a5c3ff2e-cdec-416f-fdaf-3a341769cf6b",
        "colab": {
          "base_uri": "https://localhost:8080/"
        }
      },
      "outputs": [
        {
          "output_type": "stream",
          "name": "stdout",
          "text": [
            "The slowest run took 15.81 times longer than the fastest. This could mean that an intermediate result is being cached.\n",
            "100000 loops, best of 5: 6.4 µs per loop\n"
          ]
        }
      ],
      "source": [
        "%timeit m**2"
      ]
    },
    {
      "cell_type": "code",
      "execution_count": 13,
      "id": "428c58be",
      "metadata": {
        "id": "428c58be",
        "outputId": "1149fbb2-b55c-4258-e5db-b06a9fe68b72",
        "colab": {
          "base_uri": "https://localhost:8080/"
        }
      },
      "outputs": [
        {
          "output_type": "stream",
          "name": "stdout",
          "text": [
            "<class 'numpy.ndarray'>\n"
          ]
        },
        {
          "output_type": "execute_result",
          "data": {
            "text/plain": [
              "dtype('int64')"
            ]
          },
          "metadata": {},
          "execution_count": 13
        }
      ],
      "source": [
        "c=np.array([1,2,3])\n",
        "print(type(c))\n",
        "# data type of elements of the numpy array\n",
        "c.dtype"
      ]
    },
    {
      "cell_type": "code",
      "execution_count": 14,
      "id": "8ad96282",
      "metadata": {
        "id": "8ad96282",
        "outputId": "77a4c788-f26b-4212-d1dc-86bea65d0ee3",
        "colab": {
          "base_uri": "https://localhost:8080/"
        }
      },
      "outputs": [
        {
          "output_type": "stream",
          "name": "stdout",
          "text": [
            "<class 'numpy.ndarray'>\n",
            "[1.  2.  3.  4.5]\n"
          ]
        },
        {
          "output_type": "execute_result",
          "data": {
            "text/plain": [
              "dtype('float64')"
            ]
          },
          "metadata": {},
          "execution_count": 14
        }
      ],
      "source": [
        "# because of one element 4.5 , every element's dtype has been type casted into float\n",
        "c=np.array([1,2,3,4.5])\n",
        "print(type(c))\n",
        "print(c)\n",
        "c.dtype"
      ]
    },
    {
      "cell_type": "code",
      "execution_count": 15,
      "id": "bd7520e3",
      "metadata": {
        "id": "bd7520e3",
        "outputId": "a4d84981-b67a-4d07-a876-1c2f2fc116e5",
        "colab": {
          "base_uri": "https://localhost:8080/"
        }
      },
      "outputs": [
        {
          "output_type": "stream",
          "name": "stdout",
          "text": [
            "<class 'numpy.ndarray'>\n",
            "['1' '2' '3' 'c']\n"
          ]
        },
        {
          "output_type": "execute_result",
          "data": {
            "text/plain": [
              "dtype('<U21')"
            ]
          },
          "metadata": {},
          "execution_count": 15
        }
      ],
      "source": [
        "# because of one element 4.5 , every element's dtype has been type casted into string\n",
        "c=np.array([1,2,3,\"c\"])\n",
        "print(type(c))\n",
        "print(c)\n",
        "c.dtype"
      ]
    },
    {
      "cell_type": "code",
      "execution_count": 16,
      "id": "2db585e2",
      "metadata": {
        "id": "2db585e2",
        "outputId": "0c0a1f52-1f95-43bf-bc71-6d35dd4feff7",
        "colab": {
          "base_uri": "https://localhost:8080/"
        }
      },
      "outputs": [
        {
          "output_type": "stream",
          "name": "stdout",
          "text": [
            "<class 'numpy.ndarray'>\n",
            "['1' '2' '3' '4.5' '3.9']\n"
          ]
        },
        {
          "output_type": "execute_result",
          "data": {
            "text/plain": [
              "dtype('<U32')"
            ]
          },
          "metadata": {},
          "execution_count": 16
        }
      ],
      "source": [
        "c=np.array([1,2,3,\"4.5\",3.9])\n",
        "print(type(c))\n",
        "print(c)\n",
        "c.dtype"
      ]
    },
    {
      "cell_type": "code",
      "execution_count": 17,
      "id": "4cc34c25",
      "metadata": {
        "id": "4cc34c25",
        "outputId": "d04323be-b0eb-4610-8767-1b6d2cf919e1",
        "colab": {
          "base_uri": "https://localhost:8080/"
        }
      },
      "outputs": [
        {
          "output_type": "stream",
          "name": "stdout",
          "text": [
            "<class 'numpy.ndarray'>\n",
            "[1 1 0 1 0]\n"
          ]
        },
        {
          "output_type": "execute_result",
          "data": {
            "text/plain": [
              "dtype('int64')"
            ]
          },
          "metadata": {},
          "execution_count": 17
        }
      ],
      "source": [
        "# booleans are treated as 1 and 0 for True and False respectively\n",
        "c=np.array([1,1,0,True,False])\n",
        "print(type(c))\n",
        "print(c)\n",
        "c.dtype"
      ]
    },
    {
      "cell_type": "code",
      "execution_count": 18,
      "id": "8d158886",
      "metadata": {
        "id": "8d158886",
        "outputId": "2c1e1658-d02a-4bf5-bd1b-8807e186b24d",
        "colab": {
          "base_uri": "https://localhost:8080/"
        }
      },
      "outputs": [
        {
          "output_type": "execute_result",
          "data": {
            "text/plain": [
              "1"
            ]
          },
          "metadata": {},
          "execution_count": 18
        }
      ],
      "source": [
        "b=np.array([1,2,3,4,5])\n",
        "# used to find out the dimension of the array\n",
        "b.ndim"
      ]
    },
    {
      "cell_type": "code",
      "execution_count": 19,
      "id": "82b0c2a4",
      "metadata": {
        "id": "82b0c2a4",
        "outputId": "39a19096-9c1d-4c99-933c-a5970fe1fd3b",
        "colab": {
          "base_uri": "https://localhost:8080/"
        }
      },
      "outputs": [
        {
          "output_type": "execute_result",
          "data": {
            "text/plain": [
              "(5,)"
            ]
          },
          "metadata": {},
          "execution_count": 19
        }
      ],
      "source": [
        "# used to find out the shape of the numpy array\n",
        "b.shape"
      ]
    },
    {
      "cell_type": "code",
      "execution_count": 20,
      "id": "38353488",
      "metadata": {
        "id": "38353488",
        "outputId": "9aa50ca3-5e0d-453e-8090-57cfb97ec3fe",
        "colab": {
          "base_uri": "https://localhost:8080/"
        }
      },
      "outputs": [
        {
          "output_type": "stream",
          "name": "stdout",
          "text": [
            "1 (8,)\n"
          ]
        }
      ],
      "source": [
        "a = np.array([1,2,3,4,5,6,7,8])\n",
        "print(a.ndim, a.shape)"
      ]
    },
    {
      "cell_type": "code",
      "execution_count": 21,
      "id": "6573cc82",
      "metadata": {
        "id": "6573cc82",
        "outputId": "7bdb4e42-b750-4bc4-aac5-0759ea53bb86",
        "colab": {
          "base_uri": "https://localhost:8080/"
        }
      },
      "outputs": [
        {
          "output_type": "stream",
          "name": "stdout",
          "text": [
            "range(0, 10)\n"
          ]
        }
      ],
      "source": [
        "# range function generates numbers for start to end(excluded) with some step size\n",
        "# range( start, stop,step_size)\n",
        "f=range(0,10,1)\n",
        "print(f)"
      ]
    },
    {
      "cell_type": "code",
      "execution_count": 22,
      "id": "705e6602",
      "metadata": {
        "id": "705e6602",
        "outputId": "49fe6164-1ef1-4228-faee-10037c6da895",
        "colab": {
          "base_uri": "https://localhost:8080/"
        }
      },
      "outputs": [
        {
          "output_type": "stream",
          "name": "stdout",
          "text": [
            "[0.   0.67 1.34 2.01 2.68 3.35 4.02 4.69 5.36 6.03 6.7  7.37 8.04 8.71\n",
            " 9.38]\n"
          ]
        }
      ],
      "source": [
        "# arange function in numpy generates numbers for start to end(excluded) with some step size\n",
        "# arange( start, stop,step_size)\n",
        "# arange is different from range --> we can give floats as step size\n",
        "g=np.arange(0,10,0.67)\n",
        "print(g)"
      ]
    },
    {
      "cell_type": "code",
      "execution_count": 24,
      "id": "a774f449",
      "metadata": {
        "id": "a774f449",
        "outputId": "866925d1-0163-46dc-b517-2cf4e12ac51f",
        "colab": {
          "base_uri": "https://localhost:8080/"
        }
      },
      "outputs": [
        {
          "output_type": "execute_result",
          "data": {
            "text/plain": [
              "array([  0.        ,   4.16666667,   8.33333333,  12.5       ,\n",
              "        16.66666667,  20.83333333,  25.        ,  29.16666667,\n",
              "        33.33333333,  37.5       ,  41.66666667,  45.83333333,\n",
              "        50.        ,  54.16666667,  58.33333333,  62.5       ,\n",
              "        66.66666667,  70.83333333,  75.        ,  79.16666667,\n",
              "        83.33333333,  87.5       ,  91.66666667,  95.83333333,\n",
              "       100.        ])"
            ]
          },
          "metadata": {},
          "execution_count": 24
        }
      ],
      "source": [
        "# linspace is used to create equally spaced numbers between start and end both included.\n",
        "start,end,flag_count=0,100,25\n",
        "np.linspace(start,end,flag_count)"
      ]
    },
    {
      "cell_type": "code",
      "execution_count": 26,
      "id": "32e5b262",
      "metadata": {
        "id": "32e5b262",
        "outputId": "3fd3264e-8e1c-48da-c896-0222d4670e5c",
        "colab": {
          "base_uri": "https://localhost:8080/"
        }
      },
      "outputs": [
        {
          "output_type": "execute_result",
          "data": {
            "text/plain": [
              "array([ 0.        ,  3.33333333,  6.66666667, 10.        ])"
            ]
          },
          "metadata": {},
          "execution_count": 26
        }
      ],
      "source": [
        "f=np.linspace(0,10,4)\n",
        "f"
      ]
    },
    {
      "cell_type": "code",
      "execution_count": 27,
      "id": "eeb456fd",
      "metadata": {
        "id": "eeb456fd",
        "outputId": "68236792-43ac-49af-b51d-774696277c4d",
        "colab": {
          "base_uri": "https://localhost:8080/"
        }
      },
      "outputs": [
        {
          "output_type": "execute_result",
          "data": {
            "text/plain": [
              "array([[1, 2, 3],\n",
              "       [4, 5, 6]])"
            ]
          },
          "metadata": {},
          "execution_count": 27
        }
      ],
      "source": [
        "# creating a 2d numpy Array\n",
        "m=np.array([[1,2,3],[4,5,6]])\n",
        "m"
      ]
    },
    {
      "cell_type": "code",
      "execution_count": 28,
      "id": "f2bbb3a1",
      "metadata": {
        "id": "f2bbb3a1",
        "outputId": "5897896e-830e-4407-d888-49fad5a297df",
        "colab": {
          "base_uri": "https://localhost:8080/"
        }
      },
      "outputs": [
        {
          "output_type": "execute_result",
          "data": {
            "text/plain": [
              "(2, 3)"
            ]
          },
          "metadata": {},
          "execution_count": 28
        }
      ],
      "source": [
        "m.shape"
      ]
    },
    {
      "cell_type": "code",
      "execution_count": 29,
      "id": "803c11ef",
      "metadata": {
        "id": "803c11ef",
        "outputId": "2bd2a0cb-ce43-4468-b6c4-6ee4d563e157",
        "colab": {
          "base_uri": "https://localhost:8080/"
        }
      },
      "outputs": [
        {
          "output_type": "execute_result",
          "data": {
            "text/plain": [
              "2"
            ]
          },
          "metadata": {},
          "execution_count": 29
        }
      ],
      "source": [
        "m.ndim"
      ]
    },
    {
      "cell_type": "code",
      "execution_count": 30,
      "id": "9adfcd55",
      "metadata": {
        "id": "9adfcd55",
        "outputId": "779a918e-8a99-45fa-89f8-c3b2245d9c03",
        "colab": {
          "base_uri": "https://localhost:8080/"
        }
      },
      "outputs": [
        {
          "output_type": "execute_result",
          "data": {
            "text/plain": [
              "8"
            ]
          },
          "metadata": {},
          "execution_count": 30
        }
      ],
      "source": [
        "a = np.array([1,2,3,4,5,6,7,8])\n",
        "len(a)"
      ]
    },
    {
      "cell_type": "code",
      "execution_count": null,
      "id": "2ca1be4a",
      "metadata": {
        "id": "2ca1be4a",
        "outputId": "f912d527-4d6f-40eb-8a4a-855b4d61ec7c"
      },
      "outputs": [
        {
          "data": {
            "text/plain": [
              "2"
            ]
          },
          "execution_count": 48,
          "metadata": {},
          "output_type": "execute_result"
        }
      ],
      "source": [
        "len(m)"
      ]
    },
    {
      "cell_type": "code",
      "execution_count": 31,
      "id": "b306e12f",
      "metadata": {
        "id": "b306e12f",
        "outputId": "5a930a70-921e-4aad-bd76-114821379e03",
        "colab": {
          "base_uri": "https://localhost:8080/"
        }
      },
      "outputs": [
        {
          "output_type": "execute_result",
          "data": {
            "text/plain": [
              "array([ 1,  2,  3,  4,  5,  6,  7,  8,  9, 10, 11, 12])"
            ]
          },
          "metadata": {},
          "execution_count": 31
        }
      ],
      "source": [
        "m2=np.arange(1,13)\n",
        "m2"
      ]
    },
    {
      "cell_type": "code",
      "execution_count": 32,
      "id": "dbcd90c6",
      "metadata": {
        "id": "dbcd90c6",
        "outputId": "c59ac3b2-13a3-4552-f022-2bb720c3b605",
        "colab": {
          "base_uri": "https://localhost:8080/"
        }
      },
      "outputs": [
        {
          "output_type": "execute_result",
          "data": {
            "text/plain": [
              "array([[ 1,  2,  3,  4],\n",
              "       [ 5,  6,  7,  8],\n",
              "       [ 9, 10, 11, 12]])"
            ]
          },
          "metadata": {},
          "execution_count": 32
        }
      ],
      "source": [
        "m2.reshape(3,4)"
      ]
    },
    {
      "cell_type": "code",
      "execution_count": 33,
      "id": "150fb4e9",
      "metadata": {
        "id": "150fb4e9",
        "outputId": "d20ba890-1bd7-41d3-f66d-a2a1c05be919",
        "colab": {
          "base_uri": "https://localhost:8080/"
        }
      },
      "outputs": [
        {
          "output_type": "execute_result",
          "data": {
            "text/plain": [
              "array([[ 1,  2,  3],\n",
              "       [ 4,  5,  6],\n",
              "       [ 7,  8,  9],\n",
              "       [10, 11, 12]])"
            ]
          },
          "metadata": {},
          "execution_count": 33
        }
      ],
      "source": [
        "m2.reshape(4,3)"
      ]
    },
    {
      "cell_type": "code",
      "execution_count": 34,
      "id": "b212a71b",
      "metadata": {
        "id": "b212a71b",
        "outputId": "e4f1a9df-2a76-4567-b6cc-ebf8fceeb4ce",
        "colab": {
          "base_uri": "https://localhost:8080/"
        }
      },
      "outputs": [
        {
          "output_type": "execute_result",
          "data": {
            "text/plain": [
              "array([[ 1,  2,  3,  4,  5,  6],\n",
              "       [ 7,  8,  9, 10, 11, 12]])"
            ]
          },
          "metadata": {},
          "execution_count": 34
        }
      ],
      "source": [
        "# here we knew that we want 2 rows, but not the columns, so we passed -1 as the parameter. \n",
        "# numpy will automatically find out the required number of columns it need to display the data.\n",
        "m2.reshape(2,-1)"
      ]
    },
    {
      "cell_type": "code",
      "execution_count": 35,
      "id": "c844cee7",
      "metadata": {
        "id": "c844cee7",
        "outputId": "42dd983c-d973-46a2-b1f5-6f42a2842bd1",
        "colab": {
          "base_uri": "https://localhost:8080/"
        }
      },
      "outputs": [
        {
          "output_type": "execute_result",
          "data": {
            "text/plain": [
              "array([[ 1,  2,  3],\n",
              "       [ 4,  5,  6],\n",
              "       [ 7,  8,  9],\n",
              "       [10, 11, 12]])"
            ]
          },
          "metadata": {},
          "execution_count": 35
        }
      ],
      "source": [
        "m2.reshape(-1,3)"
      ]
    },
    {
      "cell_type": "code",
      "execution_count": 36,
      "id": "88fbda97",
      "metadata": {
        "id": "88fbda97",
        "outputId": "f65f51dc-193f-446c-9f79-f2ed70093d7d",
        "colab": {
          "base_uri": "https://localhost:8080/",
          "height": 183
        }
      },
      "outputs": [
        {
          "output_type": "error",
          "ename": "ValueError",
          "evalue": "ignored",
          "traceback": [
            "\u001b[0;31m---------------------------------------------------------------------------\u001b[0m",
            "\u001b[0;31mValueError\u001b[0m                                Traceback (most recent call last)",
            "\u001b[0;32m<ipython-input-36-b9fab115b0df>\u001b[0m in \u001b[0;36m<module>\u001b[0;34m()\u001b[0m\n\u001b[1;32m      1\u001b[0m \u001b[0;31m# we need to pass atleast one dimension\u001b[0m\u001b[0;34m\u001b[0m\u001b[0;34m\u001b[0m\u001b[0;34m\u001b[0m\u001b[0m\n\u001b[0;32m----> 2\u001b[0;31m \u001b[0mm2\u001b[0m\u001b[0;34m.\u001b[0m\u001b[0mreshape\u001b[0m\u001b[0;34m(\u001b[0m\u001b[0;34m-\u001b[0m\u001b[0;36m1\u001b[0m\u001b[0;34m,\u001b[0m\u001b[0;34m-\u001b[0m\u001b[0;36m1\u001b[0m\u001b[0;34m)\u001b[0m\u001b[0;34m\u001b[0m\u001b[0;34m\u001b[0m\u001b[0m\n\u001b[0m",
            "\u001b[0;31mValueError\u001b[0m: can only specify one unknown dimension"
          ]
        }
      ],
      "source": [
        "# we need to pass atleast one dimension\n",
        "m2.reshape(-1,-1)"
      ]
    },
    {
      "cell_type": "code",
      "execution_count": 37,
      "id": "d016cc2e",
      "metadata": {
        "id": "d016cc2e",
        "outputId": "d6b56a22-4fbf-422c-ed5d-64f997331b31",
        "colab": {
          "base_uri": "https://localhost:8080/",
          "height": 166
        }
      },
      "outputs": [
        {
          "output_type": "error",
          "ename": "ValueError",
          "evalue": "ignored",
          "traceback": [
            "\u001b[0;31m---------------------------------------------------------------------------\u001b[0m",
            "\u001b[0;31mValueError\u001b[0m                                Traceback (most recent call last)",
            "\u001b[0;32m<ipython-input-37-0ce53bc65ae9>\u001b[0m in \u001b[0;36m<module>\u001b[0;34m()\u001b[0m\n\u001b[0;32m----> 1\u001b[0;31m \u001b[0mm2\u001b[0m\u001b[0;34m.\u001b[0m\u001b[0mreshape\u001b[0m\u001b[0;34m(\u001b[0m\u001b[0;36m5\u001b[0m\u001b[0;34m,\u001b[0m\u001b[0;34m-\u001b[0m\u001b[0;36m1\u001b[0m\u001b[0;34m)\u001b[0m\u001b[0;34m\u001b[0m\u001b[0;34m\u001b[0m\u001b[0m\n\u001b[0m",
            "\u001b[0;31mValueError\u001b[0m: cannot reshape array of size 12 into shape (5,newaxis)"
          ]
        }
      ],
      "source": [
        "m2.reshape(5,-1)"
      ]
    },
    {
      "cell_type": "code",
      "execution_count": 38,
      "id": "466fc7c7",
      "metadata": {
        "id": "466fc7c7"
      },
      "outputs": [],
      "source": [
        "m2=np.arange(1,13)\n",
        "#reshape functions reshapes the arrays into the shape of (rows and columns) we define\n",
        "m2=m2.reshape(3,4)\n"
      ]
    },
    {
      "cell_type": "code",
      "execution_count": 39,
      "id": "4b2e41b1",
      "metadata": {
        "id": "4b2e41b1",
        "outputId": "f26f9043-02cc-47df-f5cd-e677e556d3f0",
        "colab": {
          "base_uri": "https://localhost:8080/"
        }
      },
      "outputs": [
        {
          "output_type": "execute_result",
          "data": {
            "text/plain": [
              "array([[ 1,  2,  3,  4],\n",
              "       [ 5,  6,  7,  8],\n",
              "       [ 9, 10, 11, 12]])"
            ]
          },
          "metadata": {},
          "execution_count": 39
        }
      ],
      "source": [
        "m2"
      ]
    },
    {
      "cell_type": "code",
      "execution_count": null,
      "id": "8a5284b4",
      "metadata": {
        "id": "8a5284b4",
        "outputId": "850a64ba-f1fd-4599-e298-753058b624dd"
      },
      "outputs": [
        {
          "data": {
            "text/plain": [
              "array([[ 1,  2,  3],\n",
              "       [ 4,  5,  6],\n",
              "       [ 7,  8,  9],\n",
              "       [10, 11, 12]])"
            ]
          },
          "execution_count": 60,
          "metadata": {},
          "output_type": "execute_result"
        }
      ],
      "source": [
        "m2.reshape(4,3)"
      ]
    },
    {
      "cell_type": "code",
      "execution_count": 40,
      "id": "b0c39cf9",
      "metadata": {
        "id": "b0c39cf9",
        "outputId": "642fbcef-1cb8-4d70-f8da-6af9490f1c53",
        "colab": {
          "base_uri": "https://localhost:8080/"
        }
      },
      "outputs": [
        {
          "output_type": "execute_result",
          "data": {
            "text/plain": [
              "array([ 1,  2,  3,  4,  5,  6,  7,  8,  9, 10, 11, 12, 13])"
            ]
          },
          "metadata": {},
          "execution_count": 40
        }
      ],
      "source": [
        "m3=np.arange(1,14)\n",
        "m3"
      ]
    },
    {
      "cell_type": "code",
      "execution_count": 41,
      "id": "b5974674",
      "metadata": {
        "id": "b5974674",
        "outputId": "b381c36a-012d-49f9-a92f-00af33a45625",
        "colab": {
          "base_uri": "https://localhost:8080/",
          "height": 166
        }
      },
      "outputs": [
        {
          "output_type": "error",
          "ename": "ValueError",
          "evalue": "ignored",
          "traceback": [
            "\u001b[0;31m---------------------------------------------------------------------------\u001b[0m",
            "\u001b[0;31mValueError\u001b[0m                                Traceback (most recent call last)",
            "\u001b[0;32m<ipython-input-41-9e7f761abbaf>\u001b[0m in \u001b[0;36m<module>\u001b[0;34m()\u001b[0m\n\u001b[0;32m----> 1\u001b[0;31m \u001b[0mm3\u001b[0m\u001b[0;34m.\u001b[0m\u001b[0mreshape\u001b[0m\u001b[0;34m(\u001b[0m\u001b[0;36m3\u001b[0m\u001b[0;34m,\u001b[0m\u001b[0;36m4\u001b[0m\u001b[0;34m)\u001b[0m\u001b[0;34m\u001b[0m\u001b[0;34m\u001b[0m\u001b[0m\n\u001b[0m",
            "\u001b[0;31mValueError\u001b[0m: cannot reshape array of size 13 into shape (3,4)"
          ]
        }
      ],
      "source": [
        "m3.reshape(3,4)"
      ]
    },
    {
      "cell_type": "code",
      "execution_count": 42,
      "id": "fa11b686",
      "metadata": {
        "id": "fa11b686",
        "outputId": "89d63cad-1962-45f7-9733-692b5b4ab0d4",
        "colab": {
          "base_uri": "https://localhost:8080/"
        }
      },
      "outputs": [
        {
          "output_type": "stream",
          "name": "stderr",
          "text": [
            "/usr/local/lib/python3.7/dist-packages/ipykernel_launcher.py:1: VisibleDeprecationWarning: Creating an ndarray from ragged nested sequences (which is a list-or-tuple of lists-or-tuples-or ndarrays with different lengths or shapes) is deprecated. If you meant to do this, you must specify 'dtype=object' when creating the ndarray.\n",
            "  \"\"\"Entry point for launching an IPython kernel.\n"
          ]
        },
        {
          "output_type": "execute_result",
          "data": {
            "text/plain": [
              "array([list([1, 2, 3]), list([4, 5, 6, 8, 0, 9])], dtype=object)"
            ]
          },
          "metadata": {},
          "execution_count": 42
        }
      ],
      "source": [
        "m4=np.array([[1,2,3],[4,5,6,8,0,9]])\n",
        "m4"
      ]
    },
    {
      "cell_type": "code",
      "execution_count": null,
      "id": "f3bb6d45",
      "metadata": {
        "id": "f3bb6d45"
      },
      "outputs": [],
      "source": [
        ""
      ]
    },
    {
      "cell_type": "code",
      "execution_count": 43,
      "id": "fee337d4",
      "metadata": {
        "id": "fee337d4",
        "outputId": "6c25f92e-f69e-4cc0-8dc5-ac80922ffdf4",
        "colab": {
          "base_uri": "https://localhost:8080/"
        }
      },
      "outputs": [
        {
          "output_type": "execute_result",
          "data": {
            "text/plain": [
              "array([ 1,  2,  3,  4,  5,  6,  7,  8,  9, 10, 11, 12, 13])"
            ]
          },
          "metadata": {},
          "execution_count": 43
        }
      ],
      "source": [
        "m3=np.arange(1,14)\n",
        "m3"
      ]
    },
    {
      "cell_type": "code",
      "execution_count": 44,
      "id": "5c9b0fc7",
      "metadata": {
        "id": "5c9b0fc7",
        "outputId": "ada5cfc5-3ef1-4cd5-a8c5-5c14d0ee2eff",
        "colab": {
          "base_uri": "https://localhost:8080/"
        }
      },
      "outputs": [
        {
          "output_type": "execute_result",
          "data": {
            "text/plain": [
              "array([[ 1,  2,  3,  4,  5,  6,  7,  8,  9, 10, 11, 12, 13]])"
            ]
          },
          "metadata": {},
          "execution_count": 44
        }
      ],
      "source": [
        "m3.reshape(1,13)"
      ]
    },
    {
      "cell_type": "code",
      "execution_count": 45,
      "id": "862ea67d",
      "metadata": {
        "id": "862ea67d",
        "outputId": "6b976981-989d-4ef7-8c47-8b4850131a26",
        "colab": {
          "base_uri": "https://localhost:8080/"
        }
      },
      "outputs": [
        {
          "output_type": "execute_result",
          "data": {
            "text/plain": [
              "array([[ 1],\n",
              "       [ 2],\n",
              "       [ 3],\n",
              "       [ 4],\n",
              "       [ 5],\n",
              "       [ 6],\n",
              "       [ 7],\n",
              "       [ 8],\n",
              "       [ 9],\n",
              "       [10],\n",
              "       [11],\n",
              "       [12],\n",
              "       [13]])"
            ]
          },
          "metadata": {},
          "execution_count": 45
        }
      ],
      "source": [
        "m3.reshape(13,1)"
      ]
    },
    {
      "cell_type": "code",
      "execution_count": null,
      "id": "fd6547b4",
      "metadata": {
        "id": "fd6547b4",
        "outputId": "7e1be9be-0e72-4439-b170-b470561a8392"
      },
      "outputs": [
        {
          "ename": "ValueError",
          "evalue": "cannot reshape array of size 13 into shape (2,newaxis)",
          "output_type": "error",
          "traceback": [
            "\u001b[0;31m---------------------------------------------------------------------------\u001b[0m",
            "\u001b[0;31mValueError\u001b[0m                                Traceback (most recent call last)",
            "\u001b[0;32m/var/folders/hd/9z4dczb56dj54lb7q8w7s4zw0000gn/T/ipykernel_41514/1475252514.py\u001b[0m in \u001b[0;36m<module>\u001b[0;34m\u001b[0m\n\u001b[0;32m----> 1\u001b[0;31m \u001b[0mm3\u001b[0m\u001b[0;34m.\u001b[0m\u001b[0mreshape\u001b[0m\u001b[0;34m(\u001b[0m\u001b[0;36m2\u001b[0m\u001b[0;34m,\u001b[0m\u001b[0;34m-\u001b[0m\u001b[0;36m1\u001b[0m\u001b[0;34m)\u001b[0m\u001b[0;34m\u001b[0m\u001b[0;34m\u001b[0m\u001b[0m\n\u001b[0m",
            "\u001b[0;31mValueError\u001b[0m: cannot reshape array of size 13 into shape (2,newaxis)"
          ]
        }
      ],
      "source": [
        "m3.reshape(2,-1)"
      ]
    },
    {
      "cell_type": "code",
      "execution_count": 46,
      "id": "1c0647b5",
      "metadata": {
        "id": "1c0647b5",
        "outputId": "df42e697-7c1d-4d1e-a682-e4c86c1c0f93",
        "colab": {
          "base_uri": "https://localhost:8080/"
        }
      },
      "outputs": [
        {
          "output_type": "execute_result",
          "data": {
            "text/plain": [
              "(8, 2)"
            ]
          },
          "metadata": {},
          "execution_count": 46
        }
      ],
      "source": [
        "\n",
        "a = np.arange(1,17).reshape(-1,2)\n",
        "a.shape"
      ]
    },
    {
      "cell_type": "code",
      "execution_count": 47,
      "id": "468bba6d",
      "metadata": {
        "id": "468bba6d",
        "outputId": "89ac2876-40d9-4f71-f02f-edb9aa4667d6",
        "colab": {
          "base_uri": "https://localhost:8080/"
        }
      },
      "outputs": [
        {
          "output_type": "execute_result",
          "data": {
            "text/plain": [
              "array([[ 1,  2],\n",
              "       [ 3,  4],\n",
              "       [ 5,  6],\n",
              "       [ 7,  8],\n",
              "       [ 9, 10],\n",
              "       [11, 12],\n",
              "       [13, 14],\n",
              "       [15, 16]])"
            ]
          },
          "metadata": {},
          "execution_count": 47
        }
      ],
      "source": [
        "a = np.arange(1,17).reshape(-1,2)\n",
        "a"
      ]
    },
    {
      "cell_type": "code",
      "execution_count": 48,
      "id": "9916bf10",
      "metadata": {
        "id": "9916bf10",
        "outputId": "e6b76b98-4431-428e-c167-8ee335ecff82",
        "colab": {
          "base_uri": "https://localhost:8080/"
        }
      },
      "outputs": [
        {
          "output_type": "execute_result",
          "data": {
            "text/plain": [
              "array([1, 2, 3, 4, 5, 6])"
            ]
          },
          "metadata": {},
          "execution_count": 48
        }
      ],
      "source": [
        "m4=np.arange(1,7)\n",
        "m4"
      ]
    },
    {
      "cell_type": "code",
      "execution_count": 49,
      "id": "afb533a7",
      "metadata": {
        "id": "afb533a7",
        "outputId": "68c19325-f562-456e-f27f-c26de9c69999",
        "colab": {
          "base_uri": "https://localhost:8080/"
        }
      },
      "outputs": [
        {
          "output_type": "stream",
          "name": "stdout",
          "text": [
            "[[1 2 3]\n",
            " [4 5 6]]\n"
          ]
        }
      ],
      "source": [
        "m5=m4.reshape(2,3)\n",
        "print(m5)"
      ]
    },
    {
      "cell_type": "code",
      "execution_count": 50,
      "id": "fbad5cf8",
      "metadata": {
        "id": "fbad5cf8",
        "outputId": "9e377ec0-69a0-4d79-a69f-4384c52fe66a",
        "colab": {
          "base_uri": "https://localhost:8080/"
        }
      },
      "outputs": [
        {
          "output_type": "execute_result",
          "data": {
            "text/plain": [
              "array([[1, 4],\n",
              "       [2, 5],\n",
              "       [3, 6]])"
            ]
          },
          "metadata": {},
          "execution_count": 50
        }
      ],
      "source": [
        "m5.T"
      ]
    },
    {
      "cell_type": "code",
      "execution_count": 51,
      "id": "d0818aa3",
      "metadata": {
        "id": "d0818aa3",
        "outputId": "5a79bc89-5b5e-4466-e183-d855afa0fada",
        "colab": {
          "base_uri": "https://localhost:8080/"
        }
      },
      "outputs": [
        {
          "output_type": "stream",
          "name": "stdout",
          "text": [
            "[[ 1  2]\n",
            " [ 3  4]\n",
            " [ 5  6]\n",
            " [ 7  8]\n",
            " [ 9 10]\n",
            " [11 12]]\n"
          ]
        },
        {
          "output_type": "execute_result",
          "data": {
            "text/plain": [
              "array([[ 1,  3,  5,  7,  9, 11],\n",
              "       [ 2,  4,  6,  8, 10, 12]])"
            ]
          },
          "metadata": {},
          "execution_count": 51
        }
      ],
      "source": [
        "m4=np.arange(1,13).reshape(6,2)\n",
        "print(m4)\n",
        "# .T creates a transpose of a matrix rows--> columns, columns--> rows\n",
        "# converting rows into columns.\n",
        "m4.T"
      ]
    },
    {
      "cell_type": "code",
      "execution_count": 52,
      "id": "57524c82",
      "metadata": {
        "id": "57524c82",
        "outputId": "9405c318-a971-413f-c743-61cba47782d5",
        "colab": {
          "base_uri": "https://localhost:8080/"
        }
      },
      "outputs": [
        {
          "output_type": "execute_result",
          "data": {
            "text/plain": [
              "2"
            ]
          },
          "metadata": {},
          "execution_count": 52
        }
      ],
      "source": [
        "m5=np.arange(3).reshape(1,3)\n",
        "m5.ndim"
      ]
    },
    {
      "cell_type": "code",
      "execution_count": 53,
      "id": "76292510",
      "metadata": {
        "id": "76292510",
        "outputId": "a60ac055-1587-40b5-cfb8-529116599b46",
        "colab": {
          "base_uri": "https://localhost:8080/"
        }
      },
      "outputs": [
        {
          "output_type": "execute_result",
          "data": {
            "text/plain": [
              "(1, 3)"
            ]
          },
          "metadata": {},
          "execution_count": 53
        }
      ],
      "source": [
        "m5.shape"
      ]
    },
    {
      "cell_type": "code",
      "execution_count": 54,
      "id": "29112cb4",
      "metadata": {
        "id": "29112cb4",
        "outputId": "ce2e954c-a7c3-47a4-d903-e360e9633b38",
        "colab": {
          "base_uri": "https://localhost:8080/"
        }
      },
      "outputs": [
        {
          "output_type": "execute_result",
          "data": {
            "text/plain": [
              "(3, 1)"
            ]
          },
          "metadata": {},
          "execution_count": 54
        }
      ],
      "source": [
        "m5.T.shape"
      ]
    },
    {
      "cell_type": "code",
      "execution_count": 55,
      "id": "32ede033",
      "metadata": {
        "id": "32ede033",
        "outputId": "54b6fedb-eab9-497b-ab2f-91ace07a2cd1",
        "colab": {
          "base_uri": "https://localhost:8080/"
        }
      },
      "outputs": [
        {
          "output_type": "execute_result",
          "data": {
            "text/plain": [
              "(3,)"
            ]
          },
          "metadata": {},
          "execution_count": 55
        }
      ],
      "source": [
        "m6=np.array([1,2,3])\n",
        "m6.shape"
      ]
    },
    {
      "cell_type": "code",
      "execution_count": 56,
      "id": "b15a7bdc",
      "metadata": {
        "id": "b15a7bdc",
        "outputId": "96529f81-3e31-4b90-c2ed-0a3323cdf84f",
        "colab": {
          "base_uri": "https://localhost:8080/"
        }
      },
      "outputs": [
        {
          "output_type": "execute_result",
          "data": {
            "text/plain": [
              "1"
            ]
          },
          "metadata": {},
          "execution_count": 56
        }
      ],
      "source": [
        "m6.ndim"
      ]
    },
    {
      "cell_type": "code",
      "execution_count": 57,
      "id": "397d4598",
      "metadata": {
        "id": "397d4598",
        "outputId": "6836e393-7885-4421-9734-d8922db328f5",
        "colab": {
          "base_uri": "https://localhost:8080/"
        }
      },
      "outputs": [
        {
          "output_type": "execute_result",
          "data": {
            "text/plain": [
              "array([1, 2, 3])"
            ]
          },
          "metadata": {},
          "execution_count": 57
        }
      ],
      "source": [
        "m6.T"
      ]
    },
    {
      "cell_type": "code",
      "execution_count": null,
      "id": "046e9f3b",
      "metadata": {
        "id": "046e9f3b",
        "outputId": "3b937383-268a-4512-bd5b-0cdcafb152f5"
      },
      "outputs": [
        {
          "data": {
            "text/plain": [
              "(1, 3)"
            ]
          },
          "execution_count": 84,
          "metadata": {},
          "output_type": "execute_result"
        }
      ],
      "source": [
        "m6=np.array([[1,2,3]])\n",
        "m6.shape"
      ]
    },
    {
      "cell_type": "code",
      "execution_count": 58,
      "id": "f9be07c9",
      "metadata": {
        "id": "f9be07c9",
        "outputId": "e5258d3d-987a-4ef6-ad94-d6aa18998d04",
        "colab": {
          "base_uri": "https://localhost:8080/"
        }
      },
      "outputs": [
        {
          "output_type": "execute_result",
          "data": {
            "text/plain": [
              "1"
            ]
          },
          "metadata": {},
          "execution_count": 58
        }
      ],
      "source": [
        "m6.ndim"
      ]
    },
    {
      "cell_type": "code",
      "execution_count": 59,
      "id": "ed30f7ae",
      "metadata": {
        "id": "ed30f7ae",
        "outputId": "dde11ef7-e525-4392-d078-22a164f624fe",
        "colab": {
          "base_uri": "https://localhost:8080/"
        }
      },
      "outputs": [
        {
          "output_type": "execute_result",
          "data": {
            "text/plain": [
              "array([1, 2, 3])"
            ]
          },
          "metadata": {},
          "execution_count": 59
        }
      ],
      "source": [
        "m6.T"
      ]
    },
    {
      "cell_type": "code",
      "execution_count": 60,
      "id": "fac31054",
      "metadata": {
        "id": "fac31054",
        "outputId": "68c79c9a-cfdc-4840-b5b3-4d82226ffc24",
        "colab": {
          "base_uri": "https://localhost:8080/"
        }
      },
      "outputs": [
        {
          "output_type": "execute_result",
          "data": {
            "text/plain": [
              "array([[ 1,  2,  3,  4],\n",
              "       [ 5,  6,  7,  8],\n",
              "       [ 9, 10, 11, 12]])"
            ]
          },
          "metadata": {},
          "execution_count": 60
        }
      ],
      "source": [
        "m7=np.arange(1,13).reshape(3,4)\n",
        "m7"
      ]
    },
    {
      "cell_type": "code",
      "execution_count": 61,
      "id": "6d2b8e73",
      "metadata": {
        "id": "6d2b8e73",
        "outputId": "3ee33af6-0621-4584-8744-6d4e9abb0685",
        "colab": {
          "base_uri": "https://localhost:8080/"
        }
      },
      "outputs": [
        {
          "output_type": "execute_result",
          "data": {
            "text/plain": [
              "array([ 1,  2,  3,  4,  5,  6,  7,  8,  9, 10, 11, 12])"
            ]
          },
          "metadata": {},
          "execution_count": 61
        }
      ],
      "source": [
        "m7.flatten()"
      ]
    },
    {
      "cell_type": "code",
      "execution_count": null,
      "id": "1f3e8305",
      "metadata": {
        "id": "1f3e8305"
      },
      "outputs": [],
      "source": [
        "# creating special arrays"
      ]
    },
    {
      "cell_type": "code",
      "execution_count": 62,
      "id": "bd7469ee",
      "metadata": {
        "id": "bd7469ee",
        "outputId": "24c55ddb-93bd-44f2-86b8-224caa23dea5",
        "colab": {
          "base_uri": "https://localhost:8080/"
        }
      },
      "outputs": [
        {
          "output_type": "execute_result",
          "data": {
            "text/plain": [
              "array([0., 0., 0.])"
            ]
          },
          "metadata": {},
          "execution_count": 62
        }
      ],
      "source": [
        "# creating 1D array with all the values as 0\n",
        "np.zeros(3)"
      ]
    },
    {
      "cell_type": "code",
      "execution_count": 63,
      "id": "c89bdec3",
      "metadata": {
        "id": "c89bdec3",
        "outputId": "f20785bc-3e09-412c-dac8-e2577133d906",
        "colab": {
          "base_uri": "https://localhost:8080/"
        }
      },
      "outputs": [
        {
          "output_type": "execute_result",
          "data": {
            "text/plain": [
              "array([[0., 0., 0.],\n",
              "       [0., 0., 0.],\n",
              "       [0., 0., 0.]])"
            ]
          },
          "metadata": {},
          "execution_count": 63
        }
      ],
      "source": [
        "# creating 2D array  of shape (3,3) with all the values as 0\n",
        "np.zeros((3,3))"
      ]
    },
    {
      "cell_type": "code",
      "execution_count": 64,
      "id": "d7f142a2",
      "metadata": {
        "id": "d7f142a2",
        "outputId": "55055a04-e2fa-44ff-c097-9870c55173e1",
        "colab": {
          "base_uri": "https://localhost:8080/"
        }
      },
      "outputs": [
        {
          "output_type": "execute_result",
          "data": {
            "text/plain": [
              "array([[0., 0., 0., 0.],\n",
              "       [0., 0., 0., 0.],\n",
              "       [0., 0., 0., 0.]])"
            ]
          },
          "metadata": {},
          "execution_count": 64
        }
      ],
      "source": [
        "np.zeros((3,4))"
      ]
    },
    {
      "cell_type": "code",
      "execution_count": 65,
      "id": "bbcfdc09",
      "metadata": {
        "id": "bbcfdc09",
        "outputId": "8d4d3b92-70bd-4e0b-9b90-a85d9602881d",
        "colab": {
          "base_uri": "https://localhost:8080/"
        }
      },
      "outputs": [
        {
          "output_type": "execute_result",
          "data": {
            "text/plain": [
              "array([1., 1., 1.])"
            ]
          },
          "metadata": {},
          "execution_count": 65
        }
      ],
      "source": [
        "# creating 2D array  of shape (3,) with all the values as 1\n",
        "\n",
        "np.ones(3)"
      ]
    },
    {
      "cell_type": "code",
      "execution_count": 66,
      "id": "d3cbba5f",
      "metadata": {
        "id": "d3cbba5f",
        "outputId": "8e527c50-f0a7-4a0d-d262-73591d32e232",
        "colab": {
          "base_uri": "https://localhost:8080/"
        }
      },
      "outputs": [
        {
          "output_type": "execute_result",
          "data": {
            "text/plain": [
              "array([[1., 1.],\n",
              "       [1., 1.],\n",
              "       [1., 1.],\n",
              "       [1., 1.],\n",
              "       [1., 1.],\n",
              "       [1., 1.]])"
            ]
          },
          "metadata": {},
          "execution_count": 66
        }
      ],
      "source": [
        "# creating 2D array  of shape (6,2) with all the values as 1\n",
        "np.ones((6,2))"
      ]
    },
    {
      "cell_type": "code",
      "execution_count": 67,
      "id": "a8a9db76",
      "metadata": {
        "id": "a8a9db76",
        "outputId": "0c11886e-00a0-42d2-ac71-8b0a0bbe0eb9",
        "colab": {
          "base_uri": "https://localhost:8080/"
        }
      },
      "outputs": [
        {
          "output_type": "execute_result",
          "data": {
            "text/plain": [
              "array([[1., 1., 1.],\n",
              "       [1., 1., 1.],\n",
              "       [1., 1., 1.]])"
            ]
          },
          "metadata": {},
          "execution_count": 67
        }
      ],
      "source": [
        "np.ones((3,3))"
      ]
    },
    {
      "cell_type": "code",
      "execution_count": 68,
      "id": "183220a2",
      "metadata": {
        "id": "183220a2",
        "outputId": "f78cd308-6c0f-4339-9ed3-070db59c5a17",
        "colab": {
          "base_uri": "https://localhost:8080/"
        }
      },
      "outputs": [
        {
          "output_type": "stream",
          "name": "stdout",
          "text": [
            "[[1. 1. 1.]\n",
            " [1. 1. 1.]\n",
            " [1. 1. 1.]]\n"
          ]
        }
      ],
      "source": [
        "a=np.ones((3,3))\n",
        "print(a)"
      ]
    },
    {
      "cell_type": "code",
      "execution_count": 69,
      "id": "929f50a1",
      "metadata": {
        "id": "929f50a1",
        "outputId": "9415fcae-22dd-4350-f23b-58fa6282155a",
        "colab": {
          "base_uri": "https://localhost:8080/"
        }
      },
      "outputs": [
        {
          "output_type": "execute_result",
          "data": {
            "text/plain": [
              "array([[2., 2., 2.],\n",
              "       [2., 2., 2.],\n",
              "       [2., 2., 2.]])"
            ]
          },
          "metadata": {},
          "execution_count": 69
        }
      ],
      "source": [
        "a*2"
      ]
    },
    {
      "cell_type": "code",
      "execution_count": 70,
      "id": "9c815919",
      "metadata": {
        "id": "9c815919",
        "outputId": "1c9ba67c-ee85-4a38-cb16-33a753ee37ec",
        "colab": {
          "base_uri": "https://localhost:8080/"
        }
      },
      "outputs": [
        {
          "output_type": "execute_result",
          "data": {
            "text/plain": [
              "array([[1, 1, 1],\n",
              "       [1, 1, 1],\n",
              "       [1, 1, 1]], dtype=int32)"
            ]
          },
          "metadata": {},
          "execution_count": 70
        }
      ],
      "source": [
        "a=np.ones((3,3),dtype=np.int32)\n",
        "a"
      ]
    },
    {
      "cell_type": "code",
      "execution_count": 71,
      "id": "5d858e44",
      "metadata": {
        "id": "5d858e44",
        "outputId": "3ee72c66-df3f-49ca-be93-4859869a2308",
        "colab": {
          "base_uri": "https://localhost:8080/"
        }
      },
      "outputs": [
        {
          "output_type": "execute_result",
          "data": {
            "text/plain": [
              "array([[4., 4., 4.],\n",
              "       [4., 4., 4.],\n",
              "       [4., 4., 4.]])"
            ]
          },
          "metadata": {},
          "execution_count": 71
        }
      ],
      "source": [
        "# creating 2D array  of shape (3,3) with all the values as 4.0\n",
        "np.full((3,3),4.0)"
      ]
    },
    {
      "cell_type": "code",
      "execution_count": 72,
      "id": "8efe4385",
      "metadata": {
        "id": "8efe4385",
        "outputId": "67a9df8b-3fa2-4f25-be82-e9d4db398ec4",
        "colab": {
          "base_uri": "https://localhost:8080/"
        }
      },
      "outputs": [
        {
          "output_type": "execute_result",
          "data": {
            "text/plain": [
              "array([[1., 0., 0.],\n",
              "       [0., 1., 0.],\n",
              "       [0., 0., 1.]])"
            ]
          },
          "metadata": {},
          "execution_count": 72
        }
      ],
      "source": [
        "# creating 2D array  of shape (3,3) with values at main diagonal as 1 and rest as 0\n",
        "np.eye(3)"
      ]
    },
    {
      "cell_type": "code",
      "execution_count": 73,
      "id": "3a1e121b",
      "metadata": {
        "id": "3a1e121b",
        "outputId": "ef0094d2-69fb-41c9-8ab5-1bbc5eb843bb",
        "colab": {
          "base_uri": "https://localhost:8080/"
        }
      },
      "outputs": [
        {
          "output_type": "execute_result",
          "data": {
            "text/plain": [
              "array([[1., 0., 0.],\n",
              "       [0., 1., 0.],\n",
              "       [0., 0., 1.]])"
            ]
          },
          "metadata": {},
          "execution_count": 73
        }
      ],
      "source": [
        "# creating 2D array  of shape (3,3) with values at main diagonal as 1 and rest as 0\n",
        "np.identity(3)"
      ]
    },
    {
      "cell_type": "code",
      "execution_count": 74,
      "id": "78f08570",
      "metadata": {
        "id": "78f08570",
        "outputId": "e769863c-1db3-4dba-f1fe-1428ed120f83",
        "colab": {
          "base_uri": "https://localhost:8080/"
        }
      },
      "outputs": [
        {
          "output_type": "execute_result",
          "data": {
            "text/plain": [
              "array([[1, 0, 0],\n",
              "       [0, 2, 0],\n",
              "       [0, 0, 3]])"
            ]
          },
          "metadata": {},
          "execution_count": 74
        }
      ],
      "source": [
        "# creating 2D array  of shape (3,3) with values at main diagonal as 1,2,3 and rest as 0\n",
        "np.diag([1,2,3])"
      ]
    },
    {
      "cell_type": "code",
      "execution_count": 74,
      "id": "01b9e7d0",
      "metadata": {
        "id": "01b9e7d0"
      },
      "outputs": [],
      "source": [
        ""
      ]
    },
    {
      "cell_type": "code",
      "execution_count": 75,
      "id": "844347c5",
      "metadata": {
        "id": "844347c5"
      },
      "outputs": [],
      "source": [
        "#indexing"
      ]
    },
    {
      "cell_type": "code",
      "execution_count": 76,
      "id": "17d9992f",
      "metadata": {
        "id": "17d9992f",
        "outputId": "4647c700-8011-4b9a-8e6d-a9b951044680",
        "colab": {
          "base_uri": "https://localhost:8080/"
        }
      },
      "outputs": [
        {
          "output_type": "execute_result",
          "data": {
            "text/plain": [
              "array([3, 4, 5, 6, 7, 8, 9])"
            ]
          },
          "metadata": {},
          "execution_count": 76
        }
      ],
      "source": [
        "m1=np.arange(3,10)\n",
        "m1"
      ]
    },
    {
      "cell_type": "code",
      "execution_count": 77,
      "id": "5141c7c2",
      "metadata": {
        "id": "5141c7c2",
        "outputId": "c6b50d6e-226a-4801-a7b0-fc25e57ebc4e",
        "colab": {
          "base_uri": "https://localhost:8080/"
        }
      },
      "outputs": [
        {
          "output_type": "execute_result",
          "data": {
            "text/plain": [
              "3"
            ]
          },
          "metadata": {},
          "execution_count": 77
        }
      ],
      "source": [
        "#accessing the data\n",
        "m1[0]"
      ]
    },
    {
      "cell_type": "code",
      "execution_count": 78,
      "id": "92ea95dd",
      "metadata": {
        "id": "92ea95dd",
        "outputId": "4263f813-63a1-4a41-8597-b5832bd1d55f",
        "colab": {
          "base_uri": "https://localhost:8080/"
        }
      },
      "outputs": [
        {
          "output_type": "execute_result",
          "data": {
            "text/plain": [
              "4"
            ]
          },
          "metadata": {},
          "execution_count": 78
        }
      ],
      "source": [
        "m1[1]"
      ]
    },
    {
      "cell_type": "code",
      "execution_count": 79,
      "id": "3c84d23d",
      "metadata": {
        "id": "3c84d23d",
        "outputId": "c1b6e4e2-2fa3-4b7f-c287-970fa76a19aa",
        "colab": {
          "base_uri": "https://localhost:8080/"
        }
      },
      "outputs": [
        {
          "output_type": "execute_result",
          "data": {
            "text/plain": [
              "9"
            ]
          },
          "metadata": {},
          "execution_count": 79
        }
      ],
      "source": [
        "# we can access using negative indexes\n",
        "m1[-1]"
      ]
    },
    {
      "cell_type": "code",
      "execution_count": 80,
      "id": "8788b663",
      "metadata": {
        "id": "8788b663",
        "outputId": "a12f02b6-d1ed-4de9-d3c1-b5bcdb22ade6",
        "colab": {
          "base_uri": "https://localhost:8080/"
        }
      },
      "outputs": [
        {
          "output_type": "execute_result",
          "data": {
            "text/plain": [
              "8"
            ]
          },
          "metadata": {},
          "execution_count": 80
        }
      ],
      "source": [
        "m1[-2]"
      ]
    },
    {
      "cell_type": "code",
      "execution_count": 81,
      "id": "811ea206",
      "metadata": {
        "id": "811ea206",
        "outputId": "0d0c80c5-6ed6-4d17-ff03-757f29a64679",
        "colab": {
          "base_uri": "https://localhost:8080/"
        }
      },
      "outputs": [
        {
          "output_type": "execute_result",
          "data": {
            "text/plain": [
              "3"
            ]
          },
          "metadata": {},
          "execution_count": 81
        }
      ],
      "source": [
        "m1[-7]"
      ]
    },
    {
      "cell_type": "code",
      "execution_count": 81,
      "id": "0f2532ed",
      "metadata": {
        "id": "0f2532ed"
      },
      "outputs": [],
      "source": [
        ""
      ]
    },
    {
      "cell_type": "code",
      "execution_count": 82,
      "id": "b64de168",
      "metadata": {
        "id": "b64de168",
        "outputId": "0a1e8d78-c4a1-4b13-db33-b5a1d055febd",
        "colab": {
          "base_uri": "https://localhost:8080/"
        }
      },
      "outputs": [
        {
          "output_type": "execute_result",
          "data": {
            "text/plain": [
              "array([[ 1,  2,  3,  4],\n",
              "       [ 5,  6,  7,  8],\n",
              "       [ 9, 10, 11, 12]])"
            ]
          },
          "metadata": {},
          "execution_count": 82
        }
      ],
      "source": [
        "m2=np.arange(1,13).reshape(3,4)\n",
        "m2"
      ]
    },
    {
      "cell_type": "code",
      "execution_count": 83,
      "id": "c45824e4",
      "metadata": {
        "id": "c45824e4",
        "outputId": "56ee2c7c-3132-4785-e96f-f65d799e64bb",
        "colab": {
          "base_uri": "https://localhost:8080/"
        }
      },
      "outputs": [
        {
          "output_type": "execute_result",
          "data": {
            "text/plain": [
              "6"
            ]
          },
          "metadata": {},
          "execution_count": 83
        }
      ],
      "source": [
        "# method - 1, for accessing elements\n",
        "m2[1][1]"
      ]
    },
    {
      "cell_type": "code",
      "execution_count": 84,
      "id": "066f64c5",
      "metadata": {
        "id": "066f64c5",
        "outputId": "4ac08107-65ab-487e-f040-5431dbbb3547",
        "colab": {
          "base_uri": "https://localhost:8080/"
        }
      },
      "outputs": [
        {
          "output_type": "execute_result",
          "data": {
            "text/plain": [
              "6"
            ]
          },
          "metadata": {},
          "execution_count": 84
        }
      ],
      "source": [
        "# method - 2, for accessing elements ( Preferred )\n",
        "m2[1,1]"
      ]
    },
    {
      "cell_type": "code",
      "execution_count": 85,
      "id": "510fd888",
      "metadata": {
        "id": "510fd888",
        "outputId": "3152ed99-c2d2-43ff-afea-b87c606e5e75",
        "colab": {
          "base_uri": "https://localhost:8080/"
        }
      },
      "outputs": [
        {
          "output_type": "execute_result",
          "data": {
            "text/plain": [
              "array([100, 100, 300, 400, 500, 600])"
            ]
          },
          "metadata": {},
          "execution_count": 85
        }
      ],
      "source": [
        "m7=np.array([100,100,300,400,500,600])\n",
        "m7"
      ]
    },
    {
      "cell_type": "code",
      "execution_count": 86,
      "id": "5ffc324f",
      "metadata": {
        "id": "5ffc324f",
        "outputId": "5374c3af-b3c6-4e39-f775-46e01073eb3c",
        "colab": {
          "base_uri": "https://localhost:8080/"
        }
      },
      "outputs": [
        {
          "output_type": "execute_result",
          "data": {
            "text/plain": [
              "array([300, 500, 600, 500])"
            ]
          },
          "metadata": {},
          "execution_count": 86
        }
      ],
      "source": [
        "# We can pass a list of indexes of the elements we want to access \n",
        "m7[[2,4,5,4]]"
      ]
    },
    {
      "cell_type": "code",
      "execution_count": 87,
      "id": "97237285",
      "metadata": {
        "id": "97237285",
        "outputId": "73710f72-ca0b-4702-ba8e-d5c0a79879f1",
        "colab": {
          "base_uri": "https://localhost:8080/"
        }
      },
      "outputs": [
        {
          "output_type": "execute_result",
          "data": {
            "text/plain": [
              "array([[ 1,  2,  3,  4],\n",
              "       [ 5,  6,  7,  8],\n",
              "       [ 9, 10, 11, 12]])"
            ]
          },
          "metadata": {},
          "execution_count": 87
        }
      ],
      "source": [
        "m2=np.arange(1,13).reshape(3,4)\n",
        "m2"
      ]
    },
    {
      "cell_type": "code",
      "execution_count": 88,
      "id": "0120adc9",
      "metadata": {
        "id": "0120adc9",
        "outputId": "1069b2d1-f68d-4110-96b0-5f3b6576a4e3",
        "colab": {
          "base_uri": "https://localhost:8080/"
        }
      },
      "outputs": [
        {
          "output_type": "execute_result",
          "data": {
            "text/plain": [
              "array([ 6,  8, 12])"
            ]
          },
          "metadata": {},
          "execution_count": 88
        }
      ],
      "source": [
        "# to access multiple elements, we need to pass the row and column indexes separately in lists.\n",
        "m2[[1,1,2],[1,3,3]]"
      ]
    },
    {
      "cell_type": "code",
      "execution_count": 89,
      "id": "894a5d0f",
      "metadata": {
        "id": "894a5d0f"
      },
      "outputs": [],
      "source": [
        "# we cannot pass each elements separately.\n",
        "# m2[[1,1],[1,3],[2,3]]"
      ]
    },
    {
      "cell_type": "code",
      "execution_count": 90,
      "id": "ea108990",
      "metadata": {
        "id": "ea108990"
      },
      "outputs": [],
      "source": [
        "m8=np.arange(1,13)"
      ]
    },
    {
      "cell_type": "code",
      "execution_count": 91,
      "id": "def11cdb",
      "metadata": {
        "id": "def11cdb",
        "outputId": "69a5cdaa-39d9-4a57-d41d-30d6d00426c1",
        "colab": {
          "base_uri": "https://localhost:8080/"
        }
      },
      "outputs": [
        {
          "output_type": "execute_result",
          "data": {
            "text/plain": [
              "array([ 1,  2,  3,  4,  5,  6,  7,  8,  9, 10, 11, 12])"
            ]
          },
          "metadata": {},
          "execution_count": 91
        }
      ],
      "source": [
        "m8"
      ]
    },
    {
      "cell_type": "code",
      "execution_count": 92,
      "id": "fb00f028",
      "metadata": {
        "id": "fb00f028",
        "outputId": "d9f35253-82d7-4dcb-f054-d3dc346430a9",
        "colab": {
          "base_uri": "https://localhost:8080/"
        }
      },
      "outputs": [
        {
          "output_type": "execute_result",
          "data": {
            "text/plain": [
              "array([1, 2, 3, 4, 5])"
            ]
          },
          "metadata": {},
          "execution_count": 92
        }
      ],
      "source": [
        "# slicing elements from a numpy array.\n",
        "m8[:5]"
      ]
    },
    {
      "cell_type": "code",
      "execution_count": 93,
      "id": "965f116f",
      "metadata": {
        "id": "965f116f",
        "outputId": "b78b29d0-be2c-4db8-e0d3-832739a23e03",
        "colab": {
          "base_uri": "https://localhost:8080/"
        }
      },
      "outputs": [
        {
          "output_type": "execute_result",
          "data": {
            "text/plain": [
              "array([ 8,  9, 10, 11, 12])"
            ]
          },
          "metadata": {},
          "execution_count": 93
        }
      ],
      "source": [
        "m8[7:]"
      ]
    },
    {
      "cell_type": "code",
      "execution_count": 94,
      "id": "f79ce76e",
      "metadata": {
        "id": "f79ce76e",
        "outputId": "8eb0ff00-d5ab-4c59-a9e6-be512ccab03e",
        "colab": {
          "base_uri": "https://localhost:8080/"
        }
      },
      "outputs": [
        {
          "output_type": "execute_result",
          "data": {
            "text/plain": [
              "array([ 2,  4,  6,  8, 10, 12])"
            ]
          },
          "metadata": {},
          "execution_count": 94
        }
      ],
      "source": [
        "# slicing elements from a numpy array using step size\n",
        "m8[1::2]"
      ]
    },
    {
      "cell_type": "code",
      "execution_count": 95,
      "id": "b0baaafa",
      "metadata": {
        "id": "b0baaafa",
        "outputId": "b556a11a-a097-4e44-c33e-5321764ebd27",
        "colab": {
          "base_uri": "https://localhost:8080/"
        }
      },
      "outputs": [
        {
          "output_type": "execute_result",
          "data": {
            "text/plain": [
              "array([ 2,  5,  8, 11])"
            ]
          },
          "metadata": {},
          "execution_count": 95
        }
      ],
      "source": [
        "m8[1::3]"
      ]
    },
    {
      "cell_type": "code",
      "execution_count": null,
      "id": "1453b43d",
      "metadata": {
        "id": "1453b43d",
        "outputId": "48932816-fa5b-4437-9aa2-51080b0425da"
      },
      "outputs": [
        {
          "data": {
            "text/plain": [
              "array([2, 3, 4, 5, 6, 7])"
            ]
          },
          "execution_count": 142,
          "metadata": {},
          "output_type": "execute_result"
        }
      ],
      "source": [
        "# we can pass negative step sizes as well\n",
        "m8[-11:-5]"
      ]
    },
    {
      "cell_type": "code",
      "execution_count": null,
      "id": "15498a0b",
      "metadata": {
        "id": "15498a0b",
        "outputId": "9cd3443f-8469-49ff-ef18-a6cb4d9e4130"
      },
      "outputs": [
        {
          "data": {
            "text/plain": [
              "array([12, 11, 10,  9,  8,  7,  6,  5,  4,  3,  2,  1])"
            ]
          },
          "execution_count": 143,
          "metadata": {},
          "output_type": "execute_result"
        }
      ],
      "source": [
        "m8[::-1]"
      ]
    },
    {
      "cell_type": "code",
      "execution_count": null,
      "id": "1f7dead8",
      "metadata": {
        "id": "1f7dead8",
        "outputId": "35bc0205-1123-4f7c-b776-49aef78f6e01"
      },
      "outputs": [
        {
          "data": {
            "text/plain": [
              "array([], dtype=int64)"
            ]
          },
          "execution_count": 144,
          "metadata": {},
          "output_type": "execute_result"
        }
      ],
      "source": [
        "m8[2:5:-1]"
      ]
    },
    {
      "cell_type": "code",
      "execution_count": null,
      "id": "3ef7544e",
      "metadata": {
        "id": "3ef7544e",
        "outputId": "1b1c4ba6-ee0a-455b-c2c0-c107a58436d8"
      },
      "outputs": [
        {
          "data": {
            "text/plain": [
              "array([6, 5, 4])"
            ]
          },
          "execution_count": 145,
          "metadata": {},
          "output_type": "execute_result"
        }
      ],
      "source": [
        "m8[5:2:-1]"
      ]
    },
    {
      "cell_type": "code",
      "execution_count": null,
      "id": "c434b20a",
      "metadata": {
        "id": "c434b20a"
      },
      "outputs": [],
      "source": [
        "m9=np.arange(1,13).reshape(3,4)"
      ]
    },
    {
      "cell_type": "code",
      "execution_count": null,
      "id": "86bdd259",
      "metadata": {
        "id": "86bdd259",
        "outputId": "5422cff7-e5cd-4bc5-bb65-160254111537"
      },
      "outputs": [
        {
          "data": {
            "text/plain": [
              "array([[ 1,  2,  3,  4],\n",
              "       [ 5,  6,  7,  8],\n",
              "       [ 9, 10, 11, 12]])"
            ]
          },
          "execution_count": 148,
          "metadata": {},
          "output_type": "execute_result"
        }
      ],
      "source": [
        "m9"
      ]
    },
    {
      "cell_type": "code",
      "execution_count": null,
      "id": "32f966a3",
      "metadata": {
        "id": "32f966a3",
        "outputId": "b5bdd52d-c336-4182-cbe5-9eb317ea51e5"
      },
      "outputs": [
        {
          "data": {
            "text/plain": [
              "array([1, 2, 3, 4])"
            ]
          },
          "execution_count": 149,
          "metadata": {},
          "output_type": "execute_result"
        }
      ],
      "source": [
        "m9[0]"
      ]
    },
    {
      "cell_type": "code",
      "execution_count": null,
      "id": "c357c083",
      "metadata": {
        "id": "c357c083",
        "outputId": "d779fbd0-2748-483a-b8c5-20525a2d66b0"
      },
      "outputs": [
        {
          "data": {
            "text/plain": [
              "array([2, 3])"
            ]
          },
          "execution_count": 150,
          "metadata": {},
          "output_type": "execute_result"
        }
      ],
      "source": [
        "m9[0][1:3]"
      ]
    },
    {
      "cell_type": "code",
      "execution_count": null,
      "id": "373cae7a",
      "metadata": {
        "id": "373cae7a",
        "outputId": "a0f98b16-ca96-4cd3-c51b-e37de9fe1362"
      },
      "outputs": [
        {
          "data": {
            "text/plain": [
              "array([2, 3])"
            ]
          },
          "execution_count": 151,
          "metadata": {},
          "output_type": "execute_result"
        }
      ],
      "source": [
        "# accessing 0th indexed row and columns of indexes 1 and 2\n",
        "m9[0,1:3]"
      ]
    },
    {
      "cell_type": "code",
      "execution_count": null,
      "id": "45567a19",
      "metadata": {
        "id": "45567a19",
        "outputId": "39d92d94-f29f-4eb6-b6d8-49a86a8db184"
      },
      "outputs": [
        {
          "data": {
            "text/plain": [
              "array([[ 6,  7],\n",
              "       [10, 11]])"
            ]
          },
          "execution_count": 153,
          "metadata": {},
          "output_type": "execute_result"
        }
      ],
      "source": [
        "\n",
        "# slicing multiple rows and columns\n",
        "m9[1:,1:3]"
      ]
    },
    {
      "cell_type": "code",
      "execution_count": null,
      "id": "26e947f1",
      "metadata": {
        "id": "26e947f1",
        "outputId": "2dae71fe-9d72-4489-9360-182d86b60642"
      },
      "outputs": [
        {
          "data": {
            "text/plain": [
              "array([[ 5,  6],\n",
              "       [ 9, 10]])"
            ]
          },
          "execution_count": 154,
          "metadata": {},
          "output_type": "execute_result"
        }
      ],
      "source": [
        "m9[1:,:2]"
      ]
    },
    {
      "cell_type": "code",
      "execution_count": null,
      "id": "9102c2e7",
      "metadata": {
        "id": "9102c2e7",
        "outputId": "25a30d5e-82f9-4581-9b90-f85ba05fe31f"
      },
      "outputs": [
        {
          "data": {
            "text/plain": [
              "array([[ 2,  4],\n",
              "       [ 6,  8],\n",
              "       [10, 12]])"
            ]
          },
          "execution_count": 155,
          "metadata": {},
          "output_type": "execute_result"
        }
      ],
      "source": [
        "m9[:,1::2]"
      ]
    },
    {
      "cell_type": "code",
      "execution_count": null,
      "id": "a368cb8b",
      "metadata": {
        "id": "a368cb8b",
        "outputId": "080f0cb1-4304-4ba4-c93b-195de8ad449e"
      },
      "outputs": [
        {
          "data": {
            "text/plain": [
              "array([[ 1,  2,  3],\n",
              "       [ 5,  6,  7],\n",
              "       [ 9, 10, 11]])"
            ]
          },
          "execution_count": 157,
          "metadata": {},
          "output_type": "execute_result"
        }
      ],
      "source": [
        "# if we want to access specific columns of rows, we pass the index within a list or tuple. both works\n",
        "# m9[:,[0,1,2]] it also works the same way\n",
        "\n",
        "m9[:,(0,1,2)]"
      ]
    },
    {
      "cell_type": "code",
      "execution_count": null,
      "id": "4a1f77e9",
      "metadata": {
        "id": "4a1f77e9"
      },
      "outputs": [],
      "source": [
        "a = [1,2,3,4,5]\n",
        "b = [8,7,6]\n",
        "a[2 : ] = b[ : : -1]\n"
      ]
    },
    {
      "cell_type": "code",
      "execution_count": null,
      "id": "2056bd24",
      "metadata": {
        "id": "2056bd24"
      },
      "outputs": [],
      "source": [
        "a = [1,2,3,4,5]"
      ]
    },
    {
      "cell_type": "code",
      "execution_count": null,
      "id": "1f52104e",
      "metadata": {
        "id": "1f52104e"
      },
      "outputs": [],
      "source": [
        "b = [8,7,6]"
      ]
    },
    {
      "cell_type": "code",
      "execution_count": null,
      "id": "5bee9680",
      "metadata": {
        "id": "5bee9680"
      },
      "outputs": [],
      "source": [
        "a[2 : ] = b[ : : -1]"
      ]
    },
    {
      "cell_type": "code",
      "execution_count": null,
      "id": "1955838a",
      "metadata": {
        "id": "1955838a",
        "outputId": "39b27674-99bd-43d3-d5e6-420ea221289a"
      },
      "outputs": [
        {
          "data": {
            "text/plain": [
              "[1, 2, 6, 7, 8]"
            ]
          },
          "execution_count": 161,
          "metadata": {},
          "output_type": "execute_result"
        }
      ],
      "source": [
        "a"
      ]
    },
    {
      "cell_type": "code",
      "execution_count": null,
      "id": "d0ba9b1d",
      "metadata": {
        "id": "d0ba9b1d"
      },
      "outputs": [],
      "source": [
        "a[3]=100"
      ]
    },
    {
      "cell_type": "code",
      "execution_count": null,
      "id": "18ad996a",
      "metadata": {
        "id": "18ad996a",
        "outputId": "39363100-be45-4320-b7b8-3ad9e87cc02b"
      },
      "outputs": [
        {
          "data": {
            "text/plain": [
              "[1, 2, 6, 100, 8]"
            ]
          },
          "execution_count": 163,
          "metadata": {},
          "output_type": "execute_result"
        }
      ],
      "source": [
        "a"
      ]
    },
    {
      "cell_type": "code",
      "execution_count": null,
      "id": "2f700474",
      "metadata": {
        "id": "2f700474"
      },
      "outputs": [],
      "source": [
        ""
      ]
    },
    {
      "cell_type": "code",
      "execution_count": null,
      "id": "e94e4749",
      "metadata": {
        "id": "e94e4749",
        "outputId": "dde30df3-11a1-4e54-fefa-b8fe47bbb721"
      },
      "outputs": [
        {
          "data": {
            "text/plain": [
              "array([1, 2])"
            ]
          },
          "execution_count": 164,
          "metadata": {},
          "output_type": "execute_result"
        }
      ],
      "source": [
        "m1 = np.array([[0,1,2,3],\n",
        "[4,5,6,7],\n",
        "[8,9,10,11]])\n",
        "\n",
        "m1[0,1:3]"
      ]
    },
    {
      "cell_type": "code",
      "execution_count": null,
      "id": "f6d4f070",
      "metadata": {
        "id": "f6d4f070",
        "outputId": "f19e46c6-11a4-4d25-b586-979783eb9905"
      },
      "outputs": [
        {
          "data": {
            "text/plain": [
              "array([ 0,  1,  2,  3, 10, 10])"
            ]
          },
          "execution_count": 165,
          "metadata": {},
          "output_type": "execute_result"
        }
      ],
      "source": [
        "a = np.array([0,1,2,3,4,5])\n",
        "a[4:]=10\n",
        "a"
      ]
    },
    {
      "cell_type": "code",
      "execution_count": null,
      "id": "1fd44ea9",
      "metadata": {
        "id": "1fd44ea9",
        "outputId": "643982c2-65a4-417d-c993-6fc26efe5488"
      },
      "outputs": [
        {
          "data": {
            "text/plain": [
              "array([[ 1,  2,  3,  4],\n",
              "       [ 5,  6,  7,  8],\n",
              "       [ 9, 10, 11, 12]])"
            ]
          },
          "execution_count": 168,
          "metadata": {},
          "output_type": "execute_result"
        }
      ],
      "source": [
        "m1=np.arange(1,13).reshape(3,4)\n",
        "m1"
      ]
    },
    {
      "cell_type": "code",
      "execution_count": null,
      "id": "c635ce62",
      "metadata": {
        "id": "c635ce62",
        "outputId": "c52dc760-adeb-45e4-ae78-c4978d9817c5"
      },
      "outputs": [
        {
          "data": {
            "text/plain": [
              "array([[ True,  True,  True,  True],\n",
              "       [ True, False, False, False],\n",
              "       [False, False, False, False]])"
            ]
          },
          "execution_count": 169,
          "metadata": {},
          "output_type": "execute_result"
        }
      ],
      "source": [
        "# numpy also supports elements logical operations.\n",
        "# here we are creating mask of boolean values.\n",
        "mask=m1<6\n",
        "mask"
      ]
    },
    {
      "cell_type": "code",
      "execution_count": null,
      "id": "a0cafd99",
      "metadata": {
        "id": "a0cafd99",
        "outputId": "e126ea2e-c233-4219-8693-c75f9e7f8458"
      },
      "outputs": [
        {
          "data": {
            "text/plain": [
              "array([1, 2, 3, 4, 5])"
            ]
          },
          "execution_count": 170,
          "metadata": {},
          "output_type": "execute_result"
        }
      ],
      "source": [
        "m1[mask]"
      ]
    },
    {
      "cell_type": "code",
      "execution_count": null,
      "id": "c37a2020",
      "metadata": {
        "id": "c37a2020",
        "outputId": "e5775a79-3f90-4fea-ea8d-e381e9f68364"
      },
      "outputs": [
        {
          "data": {
            "text/plain": [
              "array([ 2,  4,  6,  8, 10, 12])"
            ]
          },
          "execution_count": 174,
          "metadata": {},
          "output_type": "execute_result"
        }
      ],
      "source": [
        "# filtering out the values that satisfies the condition or the values where we have True as value.\n",
        "m1[m1%2==0]"
      ]
    },
    {
      "cell_type": "code",
      "execution_count": null,
      "id": "043f06b3",
      "metadata": {
        "id": "043f06b3"
      },
      "outputs": [],
      "source": [
        "# creating multiple conditions.\n",
        "mask=(m1%2==0)|(m1%5==0) "
      ]
    },
    {
      "cell_type": "code",
      "execution_count": null,
      "id": "aa5bdf31",
      "metadata": {
        "id": "aa5bdf31",
        "outputId": "caf32102-663c-43d6-c849-fa5efe67214d"
      },
      "outputs": [
        {
          "data": {
            "text/plain": [
              "array([[False,  True, False,  True],\n",
              "       [ True,  True, False,  True],\n",
              "       [False,  True, False,  True]])"
            ]
          },
          "execution_count": 176,
          "metadata": {},
          "output_type": "execute_result"
        }
      ],
      "source": [
        "mask"
      ]
    },
    {
      "cell_type": "code",
      "execution_count": null,
      "id": "f6a1df2b",
      "metadata": {
        "id": "f6a1df2b",
        "outputId": "49dba13b-3a32-4d5c-afca-212f767db0a3"
      },
      "outputs": [
        {
          "data": {
            "text/plain": [
              "array([ 2,  4,  5,  6,  8, 10, 12])"
            ]
          },
          "execution_count": 177,
          "metadata": {},
          "output_type": "execute_result"
        }
      ],
      "source": [
        "m1[mask]"
      ]
    },
    {
      "cell_type": "code",
      "execution_count": null,
      "id": "a1421ab0",
      "metadata": {
        "id": "a1421ab0",
        "outputId": "162a87a8-9135-4be6-8583-08d0eddf5447"
      },
      "outputs": [
        {
          "data": {
            "text/plain": [
              "array([[False,  True, False,  True],\n",
              "       [False,  True, False,  True],\n",
              "       [False,  True, False,  True]])"
            ]
          },
          "execution_count": 178,
          "metadata": {},
          "output_type": "execute_result"
        }
      ],
      "source": [
        "m1%2==0"
      ]
    },
    {
      "cell_type": "code",
      "execution_count": null,
      "id": "8af59d80",
      "metadata": {
        "id": "8af59d80",
        "outputId": "632bdfdf-7df8-45bb-f691-175248f3432a"
      },
      "outputs": [
        {
          "data": {
            "text/plain": [
              "array([[False, False, False, False],\n",
              "       [ True, False, False, False],\n",
              "       [False,  True, False, False]])"
            ]
          },
          "execution_count": 179,
          "metadata": {},
          "output_type": "execute_result"
        }
      ],
      "source": [
        "m1%5==0"
      ]
    },
    {
      "cell_type": "code",
      "execution_count": null,
      "id": "56e5f37b",
      "metadata": {
        "id": "56e5f37b"
      },
      "outputs": [],
      "source": [
        "a = np.array([0,1,2,3,4,5])\n",
        "mask = (a%2 == 0)\n",
        "mask\n",
        "a[mask] = -1\n",
        "# What'll be the values of a?"
      ]
    },
    {
      "cell_type": "code",
      "execution_count": null,
      "id": "ae280cca",
      "metadata": {
        "id": "ae280cca",
        "outputId": "f2b6512b-db62-418b-d762-1a9bec6a57ea"
      },
      "outputs": [
        {
          "data": {
            "text/plain": [
              "array([-1,  1, -1,  3, -1,  5])"
            ]
          },
          "execution_count": 182,
          "metadata": {},
          "output_type": "execute_result"
        }
      ],
      "source": [
        "a"
      ]
    },
    {
      "cell_type": "code",
      "execution_count": null,
      "id": "6b5caa66",
      "metadata": {
        "id": "6b5caa66"
      },
      "outputs": [],
      "source": [
        "np.eye?"
      ]
    },
    {
      "cell_type": "code",
      "execution_count": null,
      "id": "3251bbde",
      "metadata": {
        "id": "3251bbde",
        "outputId": "e2075fa1-9463-4384-95d8-4216243e8473"
      },
      "outputs": [
        {
          "data": {
            "text/plain": [
              "array([[1., 0., 0., 0.],\n",
              "       [0., 1., 0., 0.],\n",
              "       [0., 0., 1., 0.],\n",
              "       [0., 0., 0., 1.],\n",
              "       [0., 0., 0., 0.],\n",
              "       [0., 0., 0., 0.],\n",
              "       [0., 0., 0., 0.],\n",
              "       [0., 0., 0., 0.],\n",
              "       [0., 0., 0., 0.],\n",
              "       [0., 0., 0., 0.]])"
            ]
          },
          "execution_count": 190,
          "metadata": {},
          "output_type": "execute_result"
        }
      ],
      "source": [
        "np.eye(10,4)"
      ]
    },
    {
      "cell_type": "code",
      "execution_count": null,
      "id": "7e247250",
      "metadata": {
        "id": "7e247250",
        "outputId": "86a6e0e8-592f-4638-d21f-ae8f4a78a1a7"
      },
      "outputs": [
        {
          "data": {
            "text/plain": [
              "array([[1., 0., 0., 0.],\n",
              "       [0., 1., 0., 0.],\n",
              "       [0., 0., 1., 0.],\n",
              "       [0., 0., 0., 1.]])"
            ]
          },
          "execution_count": 189,
          "metadata": {},
          "output_type": "execute_result"
        }
      ],
      "source": [
        "np.identity(4)"
      ]
    },
    {
      "cell_type": "code",
      "execution_count": null,
      "id": "f15e810c",
      "metadata": {
        "id": "f15e810c",
        "outputId": "c7569c41-eaf2-452e-cb63-b3896ff2d9dc"
      },
      "outputs": [
        {
          "data": {
            "text/plain": [
              "array([[1., 0., 0., 0.],\n",
              "       [0., 1., 0., 0.],\n",
              "       [0., 0., 1., 0.],\n",
              "       [0., 0., 0., 1.]])"
            ]
          },
          "execution_count": 191,
          "metadata": {},
          "output_type": "execute_result"
        }
      ],
      "source": [
        "np.eye(4)"
      ]
    },
    {
      "cell_type": "code",
      "execution_count": null,
      "id": "df7f7e1d",
      "metadata": {
        "id": "df7f7e1d"
      },
      "outputs": [],
      "source": [
        ""
      ]
    },
    {
      "cell_type": "code",
      "execution_count": null,
      "id": "1fbe82a1",
      "metadata": {
        "id": "1fbe82a1"
      },
      "outputs": [],
      "source": [
        ""
      ]
    },
    {
      "cell_type": "code",
      "execution_count": null,
      "id": "49aa5c9d",
      "metadata": {
        "id": "49aa5c9d"
      },
      "outputs": [],
      "source": [
        ""
      ]
    },
    {
      "cell_type": "code",
      "execution_count": null,
      "id": "4a8e12b8",
      "metadata": {
        "id": "4a8e12b8"
      },
      "outputs": [],
      "source": [
        ""
      ]
    },
    {
      "cell_type": "code",
      "execution_count": null,
      "id": "fbebea25",
      "metadata": {
        "id": "fbebea25"
      },
      "outputs": [],
      "source": [
        ""
      ]
    },
    {
      "cell_type": "code",
      "execution_count": null,
      "id": "bf47c412",
      "metadata": {
        "id": "bf47c412"
      },
      "outputs": [],
      "source": [
        ""
      ]
    },
    {
      "cell_type": "code",
      "execution_count": null,
      "id": "b8da28b1",
      "metadata": {
        "id": "b8da28b1"
      },
      "outputs": [],
      "source": [
        ""
      ]
    },
    {
      "cell_type": "code",
      "execution_count": null,
      "id": "85a96e32",
      "metadata": {
        "id": "85a96e32"
      },
      "outputs": [],
      "source": [
        ""
      ]
    }
  ],
  "metadata": {
    "kernelspec": {
      "display_name": "Python 3 (ipykernel)",
      "language": "python",
      "name": "python3"
    },
    "language_info": {
      "codemirror_mode": {
        "name": "ipython",
        "version": 3
      },
      "file_extension": ".py",
      "mimetype": "text/x-python",
      "name": "python",
      "nbconvert_exporter": "python",
      "pygments_lexer": "ipython3",
      "version": "3.9.7"
    },
    "colab": {
      "name": "Numpy-1.ipynb",
      "provenance": [],
      "include_colab_link": true
    }
  },
  "nbformat": 4,
  "nbformat_minor": 5
}